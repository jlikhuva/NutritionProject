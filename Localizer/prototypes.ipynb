{
 "cells": [
  {
   "cell_type": "code",
   "execution_count": 1,
   "metadata": {},
   "outputs": [],
   "source": [
    "%load_ext autoreload\n",
    "%autoreload 2"
   ]
  },
  {
   "cell_type": "markdown",
   "metadata": {},
   "source": [
    "### 2. Test the Foward part of the Network\n",
    "> * Now make sure that we can map from an image into an SxSx2x11 Tensor\n",
    "> * First make sure that the Yolo2 weights are loadable and make sense."
   ]
  },
  {
   "cell_type": "code",
   "execution_count": 2,
   "metadata": {},
   "outputs": [
    {
     "name": "stderr",
     "output_type": "stream",
     "text": [
      "/home/shared/anaconda3/lib/python3.6/site-packages/h5py/__init__.py:36: FutureWarning: Conversion of the second argument of issubdtype from `float` to `np.floating` is deprecated. In future, it will be treated as `np.float64 == np.dtype(float).type`.\n",
      "  from ._conv import register_converters as _register_converters\n"
     ]
    }
   ],
   "source": [
    "import os\n",
    "import h5py\n",
    "import numpy as np\n",
    "import matplotlib.pyplot as plt\n",
    "from PIL import Image\n",
    "%matplotlib inline\n",
    "plt.rcParams['figure.figsize'] = (10.0, 8.0) # set default size of plots\n",
    "plt.rcParams['image.interpolation'] = 'nearest'\n",
    "plt.rcParams['image.cmap'] = 'gray'\n",
    "from Model.vis_utils import visualize_grid"
   ]
  },
  {
   "cell_type": "code",
   "execution_count": null,
   "metadata": {},
   "outputs": [],
   "source": []
  },
  {
   "cell_type": "code",
   "execution_count": 3,
   "metadata": {},
   "outputs": [],
   "source": [
    "# l2 = np.array(list((yolo_weights['model_weights']['conv2d_1']['conv2d_1'][u'kernel:0'])))\n",
    "# grid = visualize_grid(l2.transpose(3, 1, 2, 0))\n",
    "# print (grid.shape, l2.shape)\n",
    "# plt.imshow(grid.astype('uint8'))\n",
    "# plt.axis('off')\n",
    "# plt.gcf().set_size_inches(5, 5)\n",
    "# plt.show()"
   ]
  },
  {
   "cell_type": "markdown",
   "metadata": {},
   "source": [
    "#### 2.1 Overfit Localizer in Tiny Data\n",
    "> * For debugging, we run the foward, and backward pass for `a few`\n",
    "epochs."
   ]
  },
  {
   "cell_type": "code",
   "execution_count": 4,
   "metadata": {},
   "outputs": [
    {
     "name": "stdout",
     "output_type": "stream",
     "text": [
      "0.4.0\n"
     ]
    }
   ],
   "source": [
    "import torch\n",
    "print(torch.__version__)\n",
    "import torch.nn.functional as F\n",
    "from torch.utils.data import Dataset, DataLoader\n",
    "from Model.dataloader import NutritionDataset\n",
    "from Model.net import LocalizerNet\n",
    "from train import train_localizer, calculate_iou"
   ]
  },
  {
   "cell_type": "code",
   "execution_count": 5,
   "metadata": {},
   "outputs": [],
   "source": [
    "def train_localizer_network():\n",
    "    IMAGE_DIR = '../Data/FullData/RawImages/'\n",
    "    BOXES = '../Data/FullData/BoundingBoxes.npy'\n",
    "    DATA_PATH = '../Data/FullData/train_dev_test.npy'\n",
    "    YOLO_PATH = '../Data/FullData/yolo.h5'\n",
    "    debug = not torch.cuda.is_available()\n",
    "    dataset = DataLoader(\n",
    "        NutritionDataset(IMAGE_DIR, BOXES, DATA_PATH, debug=debug),\n",
    "        batch_size=45, shuffle=True, num_workers=16,\n",
    "    )\n",
    "    dev = DataLoader(\n",
    "        NutritionDataset(IMAGE_DIR, BOXES, DATA_PATH, split='dev', debug=debug),\n",
    "        batch_size=45, shuffle=True, num_workers=16,\n",
    "    )\n",
    "    model = LocalizerNet(YOLO_PATH)\n",
    "    optimizer = torch.optim.Adam(\n",
    "        filter(lambda p: p.requires_grad, model.parameters()),\n",
    "        lr=1e-4\n",
    "    )\n",
    "    r = train_localizer(model, optimizer, dataset, dev, epochs=100)\n",
    "    return r    "
   ]
  },
  {
   "cell_type": "code",
   "execution_count": null,
   "metadata": {
    "scrolled": true
   },
   "outputs": [
    {
     "name": "stderr",
     "output_type": "stream",
     "text": [
      "100%|██████████| 143/143 [02:03<00:00,  1.16it/s]\n",
      "100%|██████████| 143/143 [01:57<00:00,  1.22it/s]\n",
      "100%|██████████| 143/143 [01:56<00:00,  1.23it/s]\n",
      "100%|██████████| 143/143 [01:56<00:00,  1.23it/s]\n",
      "  1%|          | 1/143 [00:30<1:11:29, 30.21s/it]"
     ]
    },
    {
     "name": "stdout",
     "output_type": "stream",
     "text": [
      "=== Performance Check ===\n",
      "\t Train Loss =  0.05217129737138748\n",
      "\t Dev Loss =  0.07152197439046133\n",
      "\t Train mAP =  [0. 0. 0. 0.]\n",
      "\t Dev mAP =  [0.0119564 0.0119564 0.0119564 0.0119564]\n",
      "=== Performance Check ===\n",
      "\t Train Loss =  0.047267794609069824\n",
      "\t Dev Loss =  0.0730665854754902\n",
      "\t Train mAP =  [0. 0. 0. 0.]\n",
      "\t Dev mAP =  [0.02243417 0.02243417 0.02243417 0.02243417]\n"
     ]
    },
    {
     "name": "stderr",
     "output_type": "stream",
     "text": [
      "\r",
      "  1%|▏         | 2/143 [00:48<57:09, 24.32s/it]  "
     ]
    },
    {
     "name": "stdout",
     "output_type": "stream",
     "text": [
      "=== Performance Check ===\n",
      "\t Train Loss =  0.04827263951301575\n",
      "\t Dev Loss =  0.07190593615883872\n",
      "\t Train mAP =  [0.03333333 0.03333333 0.03333333 0.03333333]\n",
      "\t Dev mAP =  [0.01567362 0.01475787 0.01475787 0.01305719]\n"
     ]
    },
    {
     "name": "stderr",
     "output_type": "stream",
     "text": [
      "\r",
      "  2%|▏         | 3/143 [01:07<52:14, 22.39s/it]"
     ]
    },
    {
     "name": "stdout",
     "output_type": "stream",
     "text": [
      "=== Performance Check ===\n",
      "\t Train Loss =  0.05076336860656738\n",
      "\t Dev Loss =  0.06966734251805715\n",
      "\t Train mAP =  [0. 0. 0. 0.]\n",
      "\t Dev mAP =  [0.04414361 0.04255631 0.04255631 0.04255631]\n"
     ]
    },
    {
     "name": "stderr",
     "output_type": "stream",
     "text": [
      "\r",
      "  3%|▎         | 4/143 [01:25<49:42, 21.45s/it]"
     ]
    },
    {
     "name": "stdout",
     "output_type": "stream",
     "text": [
      "=== Performance Check ===\n",
      "\t Train Loss =  0.04613000899553299\n",
      "\t Dev Loss =  0.06760034674689883\n",
      "\t Train mAP =  [0.02 0.02 0.02 0.02]\n",
      "\t Dev mAP =  [0.03571507 0.03571507 0.034723   0.03194007]\n"
     ]
    },
    {
     "name": "stderr",
     "output_type": "stream",
     "text": [
      "\r",
      "  3%|▎         | 5/143 [01:44<48:14, 20.98s/it]"
     ]
    },
    {
     "name": "stdout",
     "output_type": "stream",
     "text": [
      "=== Performance Check ===\n",
      "\t Train Loss =  0.04909658432006836\n",
      "\t Dev Loss =  0.06699547526382264\n",
      "\t Train mAP =  [0.05756579 0.05756579 0.05756579 0.05756579]\n",
      "\t Dev mAP =  [0.03791636 0.03543621 0.03452045 0.03332998]\n"
     ]
    },
    {
     "name": "stderr",
     "output_type": "stream",
     "text": [
      "\r",
      "  4%|▍         | 6/143 [02:03<47:04, 20.62s/it]"
     ]
    },
    {
     "name": "stdout",
     "output_type": "stream",
     "text": [
      "=== Performance Check ===\n",
      "\t Train Loss =  0.04949604719877243\n",
      "\t Dev Loss =  0.06819211194912593\n",
      "\t Train mAP =  [0. 0. 0. 0.]\n",
      "\t Dev mAP =  [0.03322942 0.03219423 0.03219423 0.03219423]\n"
     ]
    },
    {
     "name": "stderr",
     "output_type": "stream",
     "text": [
      "\r",
      "  5%|▍         | 7/143 [02:22<46:16, 20.42s/it]"
     ]
    },
    {
     "name": "stdout",
     "output_type": "stream",
     "text": [
      "=== Performance Check ===\n",
      "\t Train Loss =  0.0493999607861042\n",
      "\t Dev Loss =  0.06873276155619394\n",
      "\t Train mAP =  [0.01785714 0.01785714 0.01785714 0.01785714]\n",
      "\t Dev mAP =  [0.03905166 0.03713715 0.03614509 0.03333994]\n"
     ]
    },
    {
     "name": "stderr",
     "output_type": "stream",
     "text": [
      "\r",
      "  6%|▌         | 8/143 [02:42<45:40, 20.30s/it]"
     ]
    },
    {
     "name": "stdout",
     "output_type": "stream",
     "text": [
      "=== Performance Check ===\n",
      "\t Train Loss =  0.0515672042965889\n",
      "\t Dev Loss =  0.06842239573597908\n",
      "\t Train mAP =  [0.07407407 0.07407407 0.07407407 0.07407407]\n",
      "\t Dev mAP =  [0.04977358 0.04602865 0.04602865 0.0436973 ]\n"
     ]
    },
    {
     "name": "stderr",
     "output_type": "stream",
     "text": [
      "\r",
      "  6%|▋         | 9/143 [03:01<45:02, 20.17s/it]"
     ]
    },
    {
     "name": "stdout",
     "output_type": "stream",
     "text": [
      "=== Performance Check ===\n",
      "\t Train Loss =  0.04814564809203148\n",
      "\t Dev Loss =  0.06892820199330647\n",
      "\t Train mAP =  [0.02941176 0.02941176 0.02941176 0.01470588]\n",
      "\t Dev mAP =  [0.04355258 0.04289121 0.04289121 0.0392064 ]\n"
     ]
    },
    {
     "name": "stderr",
     "output_type": "stream",
     "text": [
      "\r",
      "  7%|▋         | 10/143 [03:20<44:33, 20.10s/it]"
     ]
    },
    {
     "name": "stdout",
     "output_type": "stream",
     "text": [
      "=== Performance Check ===\n",
      "\t Train Loss =  0.04905962944030762\n",
      "\t Dev Loss =  0.06928215317782901\n",
      "\t Train mAP =  [0. 0. 0. 0.]\n",
      "\t Dev mAP =  [0.03043614 0.02948376 0.02948376 0.02948376]\n"
     ]
    },
    {
     "name": "stderr",
     "output_type": "stream",
     "text": [
      "\r",
      "  8%|▊         | 11/143 [03:40<44:05, 20.04s/it]"
     ]
    },
    {
     "name": "stdout",
     "output_type": "stream",
     "text": [
      "=== Performance Check ===\n",
      "\t Train Loss =  0.05010806396603584\n",
      "\t Dev Loss =  0.06941777645122438\n",
      "\t Train mAP =  [0.01785714 0.01785714 0.01785714 0.01785714]\n",
      "\t Dev mAP =  [0.02058548 0.01825413 0.01666507 0.01503241]\n"
     ]
    },
    {
     "name": "stderr",
     "output_type": "stream",
     "text": [
      "\r",
      "  8%|▊         | 12/143 [03:59<43:39, 19.99s/it]"
     ]
    },
    {
     "name": "stdout",
     "output_type": "stream",
     "text": [
      "=== Performance Check ===\n",
      "\t Train Loss =  0.049196626991033554\n",
      "\t Dev Loss =  0.06919907884938377\n",
      "\t Train mAP =  [0.03571429 0.         0.         0.        ]\n",
      "\t Dev mAP =  [0.02824636 0.02663169 0.02581067 0.02467689]\n"
     ]
    },
    {
     "name": "stderr",
     "output_type": "stream",
     "text": [
      "\r",
      "  9%|▉         | 13/143 [04:19<43:10, 19.93s/it]"
     ]
    },
    {
     "name": "stdout",
     "output_type": "stream",
     "text": [
      "=== Performance Check ===\n",
      "\t Train Loss =  0.049052320420742035\n",
      "\t Dev Loss =  0.06969048366660163\n",
      "\t Train mAP =  [0. 0. 0. 0.]\n",
      "\t Dev mAP =  [0.03041124 0.02968974 0.02968974 0.02806386]\n"
     ]
    },
    {
     "name": "stderr",
     "output_type": "stream",
     "text": [
      "\r",
      " 10%|▉         | 14/143 [04:38<42:41, 19.86s/it]"
     ]
    },
    {
     "name": "stdout",
     "output_type": "stream",
     "text": [
      "=== Performance Check ===\n",
      "\t Train Loss =  0.05131596699357033\n",
      "\t Dev Loss =  0.0696747267530078\n",
      "\t Train mAP =  [0. 0. 0. 0.]\n",
      "\t Dev mAP =  [0.02077175 0.02077175 0.0185396  0.0185396 ]\n"
     ]
    },
    {
     "name": "stderr",
     "output_type": "stream",
     "text": [
      "\r",
      " 10%|█         | 15/143 [04:57<42:15, 19.81s/it]"
     ]
    },
    {
     "name": "stdout",
     "output_type": "stream",
     "text": [
      "=== Performance Check ===\n",
      "\t Train Loss =  0.047368187457323074\n",
      "\t Dev Loss =  0.06927192264369555\n",
      "\t Train mAP =  [0.01923077 0.01923077 0.01923077 0.01923077]\n",
      "\t Dev mAP =  [0.03108084 0.03108084 0.02872289 0.02773083]\n"
     ]
    },
    {
     "name": "stderr",
     "output_type": "stream",
     "text": [
      "\r",
      " 11%|█         | 16/143 [05:15<41:42, 19.70s/it]"
     ]
    },
    {
     "name": "stdout",
     "output_type": "stream",
     "text": [
      "=== Performance Check ===\n",
      "\t Train Loss =  0.048538438975811005\n",
      "\t Dev Loss =  0.06909936169783275\n",
      "\t Train mAP =  [0. 0. 0. 0.]\n",
      "\t Dev mAP =  [0.04743394 0.04386251 0.04386251 0.04386251]\n"
     ]
    },
    {
     "name": "stderr",
     "output_type": "stream",
     "text": [
      "\r",
      " 12%|█▏        | 17/143 [05:33<41:11, 19.61s/it]"
     ]
    },
    {
     "name": "stdout",
     "output_type": "stream",
     "text": [
      "=== Performance Check ===\n",
      "\t Train Loss =  0.04855160042643547\n",
      "\t Dev Loss =  0.06839001107783545\n",
      "\t Train mAP =  [0. 0. 0. 0.]\n",
      "\t Dev mAP =  [0.01808042 0.01808042 0.01808042 0.01808042]\n"
     ]
    },
    {
     "name": "stderr",
     "output_type": "stream",
     "text": [
      "\r",
      " 13%|█▎        | 18/143 [05:51<40:43, 19.55s/it]"
     ]
    },
    {
     "name": "stdout",
     "output_type": "stream",
     "text": [
      "=== Performance Check ===\n",
      "\t Train Loss =  0.04510542005300522\n",
      "\t Dev Loss =  0.06840466601508004\n",
      "\t Train mAP =  [0. 0. 0. 0.]\n",
      "\t Dev mAP =  [0.02290589 0.02290589 0.02290589 0.02165276]\n"
     ]
    },
    {
     "name": "stderr",
     "output_type": "stream",
     "text": [
      "\r",
      " 13%|█▎        | 19/143 [06:10<40:21, 19.53s/it]"
     ]
    },
    {
     "name": "stdout",
     "output_type": "stream",
     "text": [
      "=== Performance Check ===\n",
      "\t Train Loss =  0.05122121796011925\n",
      "\t Dev Loss =  0.06818777092155956\n",
      "\t Train mAP =  [0.02380952 0.02380952 0.02380952 0.02380952]\n",
      "\t Dev mAP =  [0.0216747 0.0216747 0.0216747 0.0216747]\n"
     ]
    },
    {
     "name": "stderr",
     "output_type": "stream",
     "text": [
      "\r",
      " 14%|█▍        | 20/143 [06:30<39:59, 19.51s/it]"
     ]
    },
    {
     "name": "stdout",
     "output_type": "stream",
     "text": [
      "=== Performance Check ===\n",
      "\t Train Loss =  0.04915488511323929\n",
      "\t Dev Loss =  0.06776687928608485\n",
      "\t Train mAP =  [0.03846154 0.03846154 0.03846154 0.03846154]\n",
      "\t Dev mAP =  [0.03985549 0.03574159 0.03574159 0.03357709]\n"
     ]
    },
    {
     "name": "stderr",
     "output_type": "stream",
     "text": [
      "\r",
      " 15%|█▍        | 21/143 [06:49<39:36, 19.48s/it]"
     ]
    },
    {
     "name": "stdout",
     "output_type": "stream",
     "text": [
      "=== Performance Check ===\n",
      "\t Train Loss =  0.053761087357997894\n",
      "\t Dev Loss =  0.06797753026088078\n",
      "\t Train mAP =  [0. 0. 0. 0.]\n",
      "\t Dev mAP =  [0.04246748 0.0407668  0.0407668  0.0407668 ]\n"
     ]
    },
    {
     "name": "stderr",
     "output_type": "stream",
     "text": [
      "\r",
      " 15%|█▌        | 22/143 [07:08<39:15, 19.46s/it]"
     ]
    },
    {
     "name": "stdout",
     "output_type": "stream",
     "text": [
      "=== Performance Check ===\n",
      "\t Train Loss =  0.053998664021492004\n",
      "\t Dev Loss =  0.06825098661439759\n",
      "\t Train mAP =  [0.04166667 0.04166667 0.04166667 0.04166667]\n",
      "\t Dev mAP =  [0.03871823 0.03640342 0.03536822 0.03272272]\n"
     ]
    },
    {
     "name": "stderr",
     "output_type": "stream",
     "text": [
      "\r",
      " 16%|█▌        | 23/143 [07:26<38:51, 19.43s/it]"
     ]
    },
    {
     "name": "stdout",
     "output_type": "stream",
     "text": [
      "=== Performance Check ===\n",
      "\t Train Loss =  0.05054118484258652\n",
      "\t Dev Loss =  0.0692289209082013\n",
      "\t Train mAP =  [0. 0. 0. 0.]\n",
      "\t Dev mAP =  [0.03047351 0.02864201 0.02864201 0.02864201]\n"
     ]
    },
    {
     "name": "stderr",
     "output_type": "stream",
     "text": [
      "\r",
      " 17%|█▋        | 24/143 [07:46<38:31, 19.42s/it]"
     ]
    }
   ],
   "source": [
    "train_losses, dev_losses, train_map, dev_map = train_localizer_network()"
   ]
  },
  {
   "cell_type": "code",
   "execution_count": 13,
   "metadata": {},
   "outputs": [],
   "source": [
    "def plot(train, dev, title):\n",
    "    plt.title(title)\n",
    "    plt.plot(train, label='train'); plt.plot(dev, label='dev')\n",
    "    plt.xlabel('Iteration')\n",
    "    plt.legend()\n",
    "    plt.show()"
   ]
  },
  {
   "cell_type": "code",
   "execution_count": null,
   "metadata": {},
   "outputs": [],
   "source": []
  },
  {
   "cell_type": "code",
   "execution_count": 14,
   "metadata": {},
   "outputs": [
    {
     "data": {
      "image/png": "[encoded data removed]",
      "text/plain": [
       "<matplotlib.figure.Figure at 0x7f65c0f209e8>"
      ]
     },
     "metadata": {},
     "output_type": "display_data"
    }
   ],
   "source": [
    "plot(train_losses, dev_losses, title='Loss Curves')"
   ]
  },
  {
   "cell_type": "code",
   "execution_count": null,
   "metadata": {},
   "outputs": [],
   "source": [
    "plt.plot(dev_map)\n",
    "plt.plot(train_map)"
   ]
  },
  {
   "cell_type": "code",
   "execution_count": null,
   "metadata": {},
   "outputs": [],
   "source": [
    "def calculate_mean_image():\n",
    "    '''\n",
    "    calculate the mean image on the training set at \n",
    "    different sizes, (270, 480) and (540, 960)\n",
    "    '''\n",
    "    IMAGE_DIR = '../Data/FullData/RawImages/'\n",
    "    DATA_PATH = '../Data/FullData/train_dev_test.npy'\n",
    "    image_paths = [os.path.join(IMAGE_DIR, f) for f in np.load(DATA_PATH).item()['train']]\n",
    "    mean_270, mean_540 = np.zeros((480, 270, 3)), np.zeros((960, 540, 3))\n",
    "    for img in tqdm(image_paths):\n",
    "        mean_270 += resized_image((1080//4, 1920//4), img)\n",
    "        mean_540 += resized_image((1080//2, 1920//2), img)\n",
    "    N = len(image_paths)\n",
    "    return mean_270 / N, mean_540 / N\n",
    "\n",
    "def resized_image(size, path):\n",
    "    with Image.open(path) as img:\n",
    "        img = img.resize(size, resample=Image.BILINEAR)\n",
    "        img = np.asarray(img)\n",
    "    return img"
   ]
  },
  {
   "cell_type": "code",
   "execution_count": null,
   "metadata": {},
   "outputs": [],
   "source": [
    "# s, l = calculate_mean_image()\n",
    "mean_image_s, mean_image_l = (\n",
    "    Image.fromarray(s.astype('uint8'), 'RGB'), \n",
    "    Image.fromarray(l.astype('uint8'), 'RGB')\n",
    ")"
   ]
  },
  {
   "cell_type": "code",
   "execution_count": null,
   "metadata": {},
   "outputs": [],
   "source": [
    "np.save('../Data/FullData/270_480_mean.npy', s)\n",
    "np.save('../Data/FullData/540_960_mean.npy', l)"
   ]
  },
  {
   "cell_type": "code",
   "execution_count": null,
   "metadata": {},
   "outputs": [],
   "source": [
    "Image.fromarray(s.astype('uint8'), 'RGB')"
   ]
  },
  {
   "cell_type": "code",
   "execution_count": null,
   "metadata": {},
   "outputs": [],
   "source": []
  },
  {
   "cell_type": "code",
   "execution_count": null,
   "metadata": {},
   "outputs": [],
   "source": []
  }
 ],
 "metadata": {
  "kernelspec": {
   "display_name": "Python 3",
   "language": "python",
   "name": "python3"
  },
  "language_info": {
   "codemirror_mode": {
    "name": "ipython",
    "version": 3
   },
   "file_extension": ".py",
   "mimetype": "text/x-python",
   "name": "python",
   "nbconvert_exporter": "python",
   "pygments_lexer": "ipython3",
   "version": "3.6.4"
  }
 },
 "nbformat": 4,
 "nbformat_minor": 2
}
