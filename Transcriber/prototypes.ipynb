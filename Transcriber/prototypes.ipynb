{
 "cells": [
  {
   "cell_type": "code",
   "execution_count": 1,
   "metadata": {},
   "outputs": [
    {
     "name": "stdout",
     "output_type": "stream",
     "text": [
      "0.4.0\n"
     ]
    }
   ],
   "source": [
    "%load_ext autoreload\n",
    "%autoreload 2\n",
    "import torch\n",
    "from torch.utils.data import Dataset, DataLoader\n",
    "from Model.dataloader import TranscriptionDataset, collate_fn\n",
    "from Model.encoder_net import EncoderNet\n",
    "from Model.decoder_net import DecoderNet\n",
    "from train import train_transcriber\n",
    "print(torch.__version__)\n",
    "from tqdm import tqdm_notebook as tqdm"
   ]
  },
  {
   "cell_type": "code",
   "execution_count": null,
   "metadata": {},
   "outputs": [],
   "source": []
  },
  {
   "cell_type": "markdown",
   "metadata": {},
   "source": [
    "### 1. Make Sure that the Encoder/Decoder and Work"
   ]
  },
  {
   "cell_type": "code",
   "execution_count": 2,
   "metadata": {},
   "outputs": [],
   "source": [
    "def train_localizer_network():\n",
    "    IMAGE_DIR = '../Data/FullData/Cropped_Images/'\n",
    "    ANNOTATION_PATH = '../Data/FullData/Transcriptions/annotations.npy'\n",
    "    DATA_PATH = '../Data/FullData/train_dev_test.npy'\n",
    "    WORD_VEC_PATH = '../Data/FullData/Transcriptions/nutrition_vectors.npy'\n",
    "    INDEX_TO_TERM_PATH = '../Data/FullData/Transcriptions/index_term_dict.npy'\n",
    "    TERM_TO_INDEX_PATH = '../Data/FullData/Transcriptions/term_index_dict.npy'\n",
    "    PATH_TO_MEAN_IMAGE = '../Data/FullData/512_512_mean.npy'\n",
    "    \n",
    "    debug = not torch.cuda.is_available()\n",
    "    train_dataset = TranscriptionDataset(\n",
    "        IMAGE_DIR, ANNOTATION_PATH, DATA_PATH, WORD_VEC_PATH,\n",
    "        PATH_TO_MEAN_IMAGE, debug=debug, split='train'\n",
    "    )\n",
    "    train_loader = DataLoader( \n",
    "        train_dataset, batch_size=116, shuffle=True,\n",
    "        num_workers=16, collate_fn=collate_fn\n",
    "    )\n",
    "    config = {\n",
    "        'keep_prob': 1\n",
    "    }\n",
    "    learning_rate = 5e-3\n",
    "    dev_loader = DataLoader(\n",
    "        TranscriptionDataset(\n",
    "            IMAGE_DIR, ANNOTATION_PATH, DATA_PATH, WORD_VEC_PATH,\n",
    "            PATH_TO_MEAN_IMAGE, debug=debug, split='dev',\n",
    "        ),\n",
    "        batch_size=116, shuffle=True, num_workers=16, collate_fn=collate_fn\n",
    "    )\n",
    "    encoder = EncoderNet(config_params=config)\n",
    "    \n",
    "    word_vectors = train_dataset.get_word_vectors()\n",
    "    embed_size = len(word_vectors[0])\n",
    "    output_size = train_dataset.get_output_size()\n",
    "    decoder = DecoderNet(word_vectors, output_size, embed_size)\n",
    "    \n",
    "    parameters = list(encoder.parameters()) + list(decoder.parameters())\n",
    "    optimizer = torch.optim.Adam(\n",
    "        parameters, lr=learning_rate\n",
    "    )\n",
    "    results = train_transcriber(\n",
    "        encoder, decoder, optimizer, train_loader, dev_loader,\n",
    "        epochs=1\n",
    "    )\n",
    "    return results"
   ]
  },
  {
   "cell_type": "code",
   "execution_count": null,
   "metadata": {},
   "outputs": [],
   "source": []
  },
  {
   "cell_type": "code",
   "execution_count": 3,
   "metadata": {},
   "outputs": [
    {
     "data": {
      "application/vnd.jupyter.widget-view+json": {
       "model_id": "16812aaecf2a402393de9b85282da22e",
       "version_major": 2,
       "version_minor": 0
      },
      "text/html": [
       "<p>Failed to display Jupyter Widget of type <code>HBox</code>.</p>\n",
       "<p>\n",
       "  If you're reading this message in the Jupyter Notebook or JupyterLab Notebook, it may mean\n",
       "  that the widgets JavaScript is still loading. If this message persists, it\n",
       "  likely means that the widgets JavaScript library is either not installed or\n",
       "  not enabled. See the <a href=\"https://ipywidgets.readthedocs.io/en/stable/user_install.html\">Jupyter\n",
       "  Widgets Documentation</a> for setup instructions.\n",
       "</p>\n",
       "<p>\n",
       "  If you're reading this message in another frontend (for example, a static\n",
       "  rendering on GitHub or <a href=\"https://nbviewer.jupyter.org/\">NBViewer</a>),\n",
       "  it may mean that your frontend doesn't currently support widgets.\n",
       "</p>\n"
      ],
      "text/plain": [
       "HBox(children=(IntProgress(value=0, max=1), HTML(value='')))"
      ]
     },
     "metadata": {},
     "output_type": "display_data"
    },
    {
     "name": "stdout",
     "output_type": "stream",
     "text": [
      "torch.Size([10, 100])\n",
      "PackedSequence(data=tensor([[ 1.7721e-02,  4.9675e-02,  5.5011e-02,  ..., -2.3480e-03,\n",
      "          1.9462e-02,  1.5801e-02],\n",
      "        [ 1.9583e-02,  4.8497e-02,  5.5206e-02,  ..., -3.3501e-03,\n",
      "          2.0140e-02,  1.6210e-02],\n",
      "        [ 1.8863e-02,  4.9219e-02,  5.6185e-02,  ..., -1.5596e-03,\n",
      "          1.9227e-02,  1.5341e-02],\n",
      "        ...,\n",
      "        [-2.7572e-02,  5.9783e-02,  1.1584e-01,  ..., -1.1464e-02,\n",
      "          1.6604e-02,  7.5798e-02],\n",
      "        [-2.9591e-02,  6.3544e-02,  1.2128e-01,  ..., -1.2610e-02,\n",
      "          1.6083e-02,  8.2423e-02],\n",
      "        [-2.6398e-02,  5.6642e-02,  1.1304e-01,  ..., -1.0780e-02,\n",
      "          1.9372e-02,  7.0558e-02]]), batch_sizes=tensor([ 10,  10,  10,  10,  10,   9,   9,   9,   9,   9,   9,   9,\n",
      "          8,   8,   8,   8,   8,   8,   8,   8,   8,   8,   8,   8,\n",
      "          8,   8,   8,   8,   8,   7,   7,   7,   7,   7,   7,   7,\n",
      "          7,   7,   7,   6,   6,   6,   6,   6,   6,   6,   6,   6,\n",
      "          6,   6,   6,   6,   6,   6,   6,   6,   6,   6,   6,   6,\n",
      "          6,   5,   5,   5,   5,   5,   5,   4,   3,   2,   2,   2,\n",
      "          2,   2,   1,   1,   1,   1]))\n",
      "torch.Size([502, 625])\n",
      "torch.Size([10, 100])\n",
      "PackedSequence(data=tensor([[-1.2187e-01, -5.6289e-02,  1.6719e-01,  ...,  5.4163e-01,\n",
      "         -4.0893e-02,  1.2933e-01],\n",
      "        [-1.2275e-01, -5.6458e-02,  1.6700e-01,  ...,  5.4128e-01,\n",
      "         -4.0600e-02,  1.2942e-01],\n",
      "        [-1.2120e-01, -5.6870e-02,  1.6666e-01,  ...,  5.4139e-01,\n",
      "         -4.0549e-02,  1.2926e-01],\n",
      "        ...,\n",
      "        [-2.5148e-02,  5.5794e-02,  1.1028e-01,  ..., -1.0351e-02,\n",
      "          1.8192e-02,  6.8733e-02],\n",
      "        [-2.7867e-02,  6.1889e-02,  1.1819e-01,  ..., -1.2307e-02,\n",
      "          1.5446e-02,  7.8880e-02],\n",
      "        [-2.5204e-02,  5.5877e-02,  1.1127e-01,  ..., -1.0727e-02,\n",
      "          1.8452e-02,  6.8865e-02]]), batch_sizes=tensor([ 10,  10,  10,  10,  10,  10,  10,  10,  10,   7,   7,   7,\n",
      "          7,   7,   7,   7,   7,   7,   6,   6,   6,   6,   6,   6,\n",
      "          6,   6,   6,   6,   6,   6,   6,   6,   6,   6,   6,   6,\n",
      "          6,   6,   6,   6,   6,   6,   5,   5,   5,   5,   5,   5,\n",
      "          5,   5,   5,   5,   5,   5,   5,   5,   5,   5,   5,   5,\n",
      "          5,   5,   5,   5,   3,   3,   3,   3,   3,   3,   1,   1,\n",
      "          1,   1]))\n",
      "torch.Size([429, 625])\n",
      "\n"
     ]
    }
   ],
   "source": [
    "train_losses, dev_losses, train_bleu, dev_bleu = train_localizer_network()"
   ]
  },
  {
   "cell_type": "code",
   "execution_count": 4,
   "metadata": {},
   "outputs": [],
   "source": [
    "import matplotlib.pyplot as plt\n",
    "%matplotlib inline\n",
    "plt.rcParams['figure.figsize'] = (10.0, 8.0) # set default size of plots\n",
    "plt.rcParams['image.interpolation'] = 'nearest'\n",
    "plt.rcParams['image.cmap'] = 'gray'"
   ]
  },
  {
   "cell_type": "code",
   "execution_count": 38,
   "metadata": {},
   "outputs": [
    {
     "data": {
      "text/plain": [
       "<matplotlib.legend.Legend at 0x116884cc0>"
      ]
     },
     "execution_count": 38,
     "metadata": {},
     "output_type": "execute_result"
    },
    {
     "data": {
      "image/png": "[encoded data removed]",
      "text/plain": [
       "<matplotlib.figure.Figure at 0x116998438>"
      ]
     },
     "metadata": {},
     "output_type": "display_data"
    }
   ],
   "source": [
    "plt.plot(train_losses, label='train')\n",
    "plt.plot(dev_losses, label='dev')\n",
    "plt.legend()"
   ]
  },
  {
   "cell_type": "code",
   "execution_count": null,
   "metadata": {
    "collapsed": true
   },
   "outputs": [],
   "source": []
  },
  {
   "cell_type": "code",
   "execution_count": 6,
   "metadata": {},
   "outputs": [],
   "source": [
    "def ensure_all_data_is_available():\n",
    "    import numpy as np\n",
    "    data_path = '../Data/FullData/train_dev_test.npy'\n",
    "    ANNOTATION_PATH = '../Data/FullData/Transcriptions/annotations.npy'\n",
    "    annotations = np.load(ANNOTATION_PATH).item()\n",
    "    images = (\n",
    "            np.load(data_path).item()['train'] + np.load(data_path).item()['dev'] + \n",
    "            np.load(data_path).item()['test']\n",
    "    )\n",
    "    bad = []\n",
    "    for img in tqdm(images):\n",
    "        num = img[:img.rfind('_')]\n",
    "        nut = '1_' + num; ingr = '0_'+num\n",
    "        if nut not in annotations or ingr not in annotations:\n",
    "            bad.append(num)\n",
    "    print(set(bad))"
   ]
  },
  {
   "cell_type": "code",
   "execution_count": 8,
   "metadata": {},
   "outputs": [],
   "source": [
    "# ensure_all_data_is_available()"
   ]
  },
  {
   "cell_type": "code",
   "execution_count": null,
   "metadata": {
    "collapsed": true
   },
   "outputs": [],
   "source": []
  }
 ],
 "metadata": {
  "kernelspec": {
   "display_name": "Python 3",
   "language": "python",
   "name": "python3"
  },
  "language_info": {
   "codemirror_mode": {
    "name": "ipython",
    "version": 3
   },
   "file_extension": ".py",
   "mimetype": "text/x-python",
   "name": "python",
   "nbconvert_exporter": "python",
   "pygments_lexer": "ipython3",
   "version": "3.6.4"
  }
 },
 "nbformat": 4,
 "nbformat_minor": 2
}
