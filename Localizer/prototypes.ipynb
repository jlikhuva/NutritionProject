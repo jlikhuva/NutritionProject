{
 "cells": [
  {
   "cell_type": "code",
   "execution_count": 1,
   "metadata": {},
   "outputs": [],
   "source": [
    "%load_ext autoreload\n",
    "%autoreload 2"
   ]
  },
  {
   "cell_type": "markdown",
   "metadata": {},
   "source": [
    "### 2. Test the Foward part of the Network\n",
    "> * Now make sure that we can map from an image into an SxSx2x11 Tensor\n",
    "> * First make sure that the Yolo2 weights are loadable and make sense."
   ]
  },
  {
   "cell_type": "code",
   "execution_count": 2,
   "metadata": {},
   "outputs": [
    {
     "name": "stderr",
     "output_type": "stream",
     "text": [
      "/home/shared/anaconda3/lib/python3.6/site-packages/h5py/__init__.py:36: FutureWarning: Conversion of the second argument of issubdtype from `float` to `np.floating` is deprecated. In future, it will be treated as `np.float64 == np.dtype(float).type`.\n",
      "  from ._conv import register_converters as _register_converters\n"
     ]
    }
   ],
   "source": [
    "import os\n",
    "import h5py\n",
    "import numpy as np\n",
    "import matplotlib.pyplot as plt\n",
    "from PIL import Image\n",
    "%matplotlib inline\n",
    "plt.rcParams['figure.figsize'] = (10.0, 8.0) # set default size of plots\n",
    "plt.rcParams['image.interpolation'] = 'nearest'\n",
    "plt.rcParams['image.cmap'] = 'gray'\n",
    "from Model.vis_utils import visualize_grid"
   ]
  },
  {
   "cell_type": "code",
   "execution_count": null,
   "metadata": {},
   "outputs": [],
   "source": []
  },
  {
   "cell_type": "code",
   "execution_count": 3,
   "metadata": {},
   "outputs": [],
   "source": [
    "# l2 = np.array(list((yolo_weights['model_weights']['conv2d_1']['conv2d_1'][u'kernel:0'])))\n",
    "# grid = visualize_grid(l2.transpose(3, 1, 2, 0))\n",
    "# print (grid.shape, l2.shape)\n",
    "# plt.imshow(grid.astype('uint8'))\n",
    "# plt.axis('off')\n",
    "# plt.gcf().set_size_inches(5, 5)\n",
    "# plt.show()"
   ]
  },
  {
   "cell_type": "markdown",
   "metadata": {},
   "source": [
    "#### 2.1 Overfit Localizer in Tiny Data\n",
    "> * For debugging, we run the foward, and backward pass for `a few`\n",
    "epochs."
   ]
  },
  {
   "cell_type": "code",
   "execution_count": 4,
   "metadata": {},
   "outputs": [
    {
     "name": "stdout",
     "output_type": "stream",
     "text": [
      "0.4.0\n"
     ]
    }
   ],
   "source": [
    "import torch\n",
    "print(torch.__version__)\n",
    "import torch.nn.functional as F\n",
    "from torch.utils.data import Dataset, DataLoader\n",
    "from Model.dataloader import NutritionDataset\n",
    "from Model.net import LocalizerNet\n",
    "from train import train_localizer, calculate_iou"
   ]
  },
  {
   "cell_type": "code",
   "execution_count": 5,
   "metadata": {},
   "outputs": [],
   "source": [
    "def train_localizer_network():\n",
    "    IMAGE_DIR = '../Data/FullData/RawImages/'\n",
    "    BOXES = '../Data/FullData/BoundingBoxes.npy'\n",
    "    DATA_PATH = '../Data/FullData/train_dev_test.npy'\n",
    "    YOLO_PATH = '../Data/FullData/yolo.h5'\n",
    "    debug = not torch.cuda.is_available()\n",
    "    dataset = DataLoader(\n",
    "        NutritionDataset(IMAGE_DIR, BOXES, DATA_PATH, debug=debug),\n",
    "        batch_size=45, shuffle=True, num_workers=16,\n",
    "    )\n",
    "    dev = DataLoader(\n",
    "        NutritionDataset(IMAGE_DIR, BOXES, DATA_PATH, split='dev', debug=debug),\n",
    "        batch_size=45, shuffle=True, num_workers=16,\n",
    "    )\n",
    "    model = LocalizerNet(YOLO_PATH)\n",
    "    optimizer = torch.optim.Adam(\n",
    "        filter(lambda p: p.requires_grad, model.parameters()),\n",
    "        lr=1e-4\n",
    "    )\n",
    "    r = train_localizer(model, optimizer, dataset, dev, epochs=100)\n",
    "    return r    "
   ]
  },
  {
   "cell_type": "code",
   "execution_count": 10,
   "metadata": {
    "scrolled": true
   },
   "outputs": [],
   "source": [
    "train_losses, dev_losses, train_map, dev_map = train_localizer_network()"
   ]
  },
  {
   "cell_type": "code",
   "execution_count": null,
   "metadata": {},
   "outputs": [],
   "source": [
    "def plot(train, dev, title):\n",
    "    plt.title(title)\n",
    "    plt.plot(train, label='train'); plt.plot(dev, label='dev')\n",
    "    plt.xlabel('Iteration')\n",
    "    plt.legend()\n",
    "    plt.show()"
   ]
  },
  {
   "cell_type": "code",
   "execution_count": null,
   "metadata": {},
   "outputs": [],
   "source": []
  },
  {
   "cell_type": "code",
   "execution_count": null,
   "metadata": {},
   "outputs": [],
   "source": [
    "plot(train_losses, dev_losses, title='Loss Curves')"
   ]
  },
  {
   "cell_type": "code",
   "execution_count": null,
   "metadata": {},
   "outputs": [],
   "source": [
    "# plt.plot(dev_map)\n",
    "# plt.plot(train_map)"
   ]
  },
  {
   "cell_type": "code",
   "execution_count": null,
   "metadata": {},
   "outputs": [],
   "source": [
    "def calculate_mean_image():\n",
    "    '''\n",
    "    calculate the mean image on the training set at \n",
    "    different sizes, (270, 480) and (540, 960)\n",
    "    '''\n",
    "    IMAGE_DIR = '../Data/FullData/RawImages/'\n",
    "    DATA_PATH = '../Data/FullData/train_dev_test.npy'\n",
    "    image_paths = [os.path.join(IMAGE_DIR, f) for f in np.load(DATA_PATH).item()['train']]\n",
    "    mean_270, mean_540 = np.zeros((480, 270, 3)), np.zeros((960, 540, 3))\n",
    "    for img in tqdm(image_paths):\n",
    "        mean_270 += resized_image((1080//4, 1920//4), img)\n",
    "        mean_540 += resized_image((1080//2, 1920//2), img)\n",
    "    N = len(image_paths)\n",
    "    return mean_270 / N, mean_540 / N\n",
    "\n",
    "def resized_image(size, path):\n",
    "    with Image.open(path) as img:\n",
    "        img = img.resize(size, resample=Image.BILINEAR)\n",
    "        img = np.asarray(img)\n",
    "    return img"
   ]
  },
  {
   "cell_type": "code",
   "execution_count": null,
   "metadata": {},
   "outputs": [],
   "source": [
    "# # s, l = calculate_mean_image()\n",
    "# mean_image_s, mean_image_l = (\n",
    "#     Image.fromarray(s.astype('uint8'), 'RGB'), \n",
    "#     Image.fromarray(l.astype('uint8'), 'RGB')\n",
    "# )"
   ]
  },
  {
   "cell_type": "code",
   "execution_count": null,
   "metadata": {},
   "outputs": [],
   "source": []
  },
  {
   "cell_type": "code",
   "execution_count": null,
   "metadata": {},
   "outputs": [],
   "source": []
  },
  {
   "cell_type": "code",
   "execution_count": null,
   "metadata": {},
   "outputs": [],
   "source": []
  },
  {
   "cell_type": "code",
   "execution_count": null,
   "metadata": {},
   "outputs": [],
   "source": []
  },
  {
   "cell_type": "code",
   "execution_count": null,
   "metadata": {},
   "outputs": [],
   "source": []
  },
  {
   "cell_type": "code",
   "execution_count": null,
   "metadata": {},
   "outputs": [],
   "source": []
  },
  {
   "cell_type": "code",
   "execution_count": null,
   "metadata": {},
   "outputs": [],
   "source": []
  }
 ],
 "metadata": {
  "kernelspec": {
   "display_name": "Python 3",
   "language": "python",
   "name": "python3"
  },
  "language_info": {
   "codemirror_mode": {
    "name": "ipython",
    "version": 3
   },
   "file_extension": ".py",
   "mimetype": "text/x-python",
   "name": "python",
   "nbconvert_exporter": "python",
   "pygments_lexer": "ipython3",
   "version": "3.6.4"
  }
 },
 "nbformat": 4,
 "nbformat_minor": 2
}
