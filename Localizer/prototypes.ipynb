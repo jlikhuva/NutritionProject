{
 "cells": [
  {
   "cell_type": "code",
   "execution_count": 6,
   "metadata": {},
   "outputs": [
    {
     "name": "stdout",
     "output_type": "stream",
     "text": [
      "The autoreload extension is already loaded. To reload it, use:\n",
      "  %reload_ext autoreload\n"
     ]
    }
   ],
   "source": [
    "%load_ext autoreload\n",
    "%autoreload 2"
   ]
  },
  {
   "cell_type": "markdown",
   "metadata": {},
   "source": [
    "### 2. Test the Foward part of the Network\n",
    "> * Now make sure that we can map from an image into an SxSx2x11 Tensor\n",
    "> * First make sure that the Yolo2 weights are loadable and make sense."
   ]
  },
  {
   "cell_type": "code",
   "execution_count": 7,
   "metadata": {},
   "outputs": [],
   "source": [
    "import os\n",
    "import h5py\n",
    "import numpy as np\n",
    "import matplotlib.pyplot as plt\n",
    "from PIL import Image\n",
    "%matplotlib inline\n",
    "plt.rcParams['figure.figsize'] = (10.0, 8.0) # set default size of plots\n",
    "plt.rcParams['image.interpolation'] = 'nearest'\n",
    "plt.rcParams['image.cmap'] = 'gray'\n",
    "from Model.vis_utils import visualize_grid"
   ]
  },
  {
   "cell_type": "code",
   "execution_count": null,
   "metadata": {},
   "outputs": [],
   "source": []
  },
  {
   "cell_type": "markdown",
   "metadata": {},
   "source": [
    "#### 2.1 Overfit Localizer in Tiny Data\n",
    "> * For debugging, we run the foward, and backward pass for `a few`\n",
    "epochs."
   ]
  },
  {
   "cell_type": "code",
   "execution_count": 8,
   "metadata": {},
   "outputs": [
    {
     "name": "stdout",
     "output_type": "stream",
     "text": [
      "0.4.0\n"
     ]
    }
   ],
   "source": [
    "import torch\n",
    "print(torch.__version__)\n",
    "import torch.nn.functional as F\n",
    "from torch.utils.data import Dataset, DataLoader\n",
    "from Model.dataloader import NutritionDataset\n",
    "from Model.net import LocalizerNet\n",
    "from train import train_localizer, calculate_iou"
   ]
  },
  {
   "cell_type": "code",
   "execution_count": 9,
   "metadata": {},
   "outputs": [],
   "source": [
    "def train_localizer_network():\n",
    "    IMAGE_DIR = '../Data/FullData/RawImages/'\n",
    "    BOXES = '../Data/FullData/BoundingBoxes.npy'\n",
    "    DATA_PATH = '../Data/FullData/train_dev_test.npy'\n",
    "    YOLO_PATH = '../Data/FullData/yolo.h5'\n",
    "    MEAN_PATH='../Data/FullData/270_480_mean.npy'\n",
    "    debug = not torch.cuda.is_available()\n",
    "    dataset = DataLoader(\n",
    "        NutritionDataset(\n",
    "            IMAGE_DIR, BOXES, DATA_PATH, debug=debug,  \n",
    "            mean_normalize=False, mean_path=MEAN_PATH\n",
    "        ),\n",
    "        batch_size=116, shuffle=True, num_workers=8,\n",
    "    )\n",
    "    dev = DataLoader(\n",
    "        NutritionDataset(\n",
    "            IMAGE_DIR, BOXES, DATA_PATH, split='dev', debug=debug,\n",
    "            mean_normalize=False, mean_path=MEAN_PATH\n",
    "        ),\n",
    "        batch_size=116, shuffle=True, num_workers=8,\n",
    "    )\n",
    "    config = {\n",
    "        'keep_prob' : 0.99995\n",
    "    }\n",
    "    model = LocalizerNet(YOLO_PATH, use_full_yolo=True, config_params=config)\n",
    "    optimizer = torch.optim.Adam(\n",
    "        filter(lambda p: p.requires_grad, model.parameters()),\n",
    "        lr=1.5e-6, weight_decay=0.00005\n",
    "    )\n",
    "    scheduler = torch.optim.lr_scheduler.MultiStepLR(\n",
    "        optimizer, [25, 50, 75],\n",
    "        gamma=0.995\n",
    "    )\n",
    "    r = train_localizer(\n",
    "        model, optimizer, dataset, dev, epochs=1, \n",
    "        scheduler=scheduler, restore=True, save=False\n",
    "    )\n",
    "    return r   "
   ]
  },
  {
   "cell_type": "code",
   "execution_count": null,
   "metadata": {
    "scrolled": true
   },
   "outputs": [
    {
     "data": {
      "application/vnd.jupyter.widget-view+json": {
       "model_id": "af7db1af318b4374b066b15626ad4980",
       "version_major": 2,
       "version_minor": 0
      },
      "text/html": [
       "<p>Failed to display Jupyter Widget of type <code>HBox</code>.</p>\n",
       "<p>\n",
       "  If you're reading this message in the Jupyter Notebook or JupyterLab Notebook, it may mean\n",
       "  that the widgets JavaScript is still loading. If this message persists, it\n",
       "  likely means that the widgets JavaScript library is either not installed or\n",
       "  not enabled. See the <a href=\"https://ipywidgets.readthedocs.io/en/stable/user_install.html\">Jupyter\n",
       "  Widgets Documentation</a> for setup instructions.\n",
       "</p>\n",
       "<p>\n",
       "  If you're reading this message in another frontend (for example, a static\n",
       "  rendering on GitHub or <a href=\"https://nbviewer.jupyter.org/\">NBViewer</a>),\n",
       "  it may mean that your frontend doesn't currently support widgets.\n",
       "</p>\n"
      ],
      "text/plain": [
       "HBox(children=(IntProgress(value=0, max=1), HTML(value='')))"
      ]
     },
     "metadata": {},
     "output_type": "display_data"
    },
    {
     "name": "stdout",
     "output_type": "stream",
     "text": [
      "\n"
     ]
    }
   ],
   "source": [
    "train_losses, dev_losses, train_map, dev_map = train_localizer_network()"
   ]
  },
  {
   "cell_type": "code",
   "execution_count": 102,
   "metadata": {
    "scrolled": true
   },
   "outputs": [
    {
     "data": {
      "text/plain": [
       "<matplotlib.legend.Legend at 0x11378ba90>"
      ]
     },
     "execution_count": 102,
     "metadata": {},
     "output_type": "execute_result"
    },
    {
     "data": {
      "image/png": "[encoded data removed]",
      "text/plain": [
       "<matplotlib.figure.Figure at 0x11961aa58>"
      ]
     },
     "metadata": {},
     "output_type": "display_data"
    }
   ],
   "source": [
    "plt.plot(train_losses[:], label='train')\n",
    "plt.plot(dev_losses[:], label='dev')\n",
    "plt.legend()"
   ]
  },
  {
   "cell_type": "code",
   "execution_count": 104,
   "metadata": {},
   "outputs": [],
   "source": [
    "# plt.plot(dev_map[:], label='dev')\n",
    "# plt.plot(train_map[:], label='train')\n",
    "# plt.savefig('goals2.png')\n",
    "# np.save('train_map', train_map)\n",
    "# np.save('dev_map', dev_map)\n",
    "# plt.legend()"
   ]
  },
  {
   "cell_type": "code",
   "execution_count": 41,
   "metadata": {},
   "outputs": [],
   "source": [
    "def calculate_mean_image(\n",
    "    IMAGE_DIR='../Data/FullData/RawImages/',\n",
    "    yolo=True\n",
    "):\n",
    "    from tqdm import tqdm_notebook as tqdm\n",
    "    '''\n",
    "    calculate the mean image on the training set at \n",
    "    different sizes, (270, 480) and (540, 960)\n",
    "    '''\n",
    "    DATA_PATH = '../Data/FullData/train_dev_test.npy'\n",
    "    if not yolo:\n",
    "        image_paths = [os.path.join(IMAGE_DIR, '0_'+f) for f in np.load(DATA_PATH).item()['train']]\n",
    "        image_paths += [os.path.join(IMAGE_DIR, '1_'+f) for f in np.load(DATA_PATH).item()['train']]\n",
    "    N = len(image_paths)\n",
    "    if yolo:\n",
    "        mean_270, mean_540 = np.zeros((480, 270, 3)), np.zeros((960, 540, 3))\n",
    "        for img in tqdm(image_paths):\n",
    "            mean_270 += resized_image((1080//4, 1920//4), img)\n",
    "            mean_540 += resized_image((1080//2, 1920//2), img)\n",
    "        return mean_270 / N, mean_540 / N\n",
    "    else:\n",
    "        mean_512 = np.zeros((512, 512, 3))\n",
    "        for img in tqdm(image_paths):\n",
    "            with Image.open(img) as i:\n",
    "                mean_512 += np.asarray(i, dtype=np.float32)/N\n",
    "        return mean_512\n",
    "\n",
    "def resized_image(size, path):\n",
    "    with Image.open(path) as img:\n",
    "        img = img.resize(size, resample=Image.BILINEAR)\n",
    "        img = np.asarray(img)\n",
    "    return img"
   ]
  },
  {
   "cell_type": "code",
   "execution_count": null,
   "metadata": {},
   "outputs": [],
   "source": []
  },
  {
   "cell_type": "code",
   "execution_count": null,
   "metadata": {},
   "outputs": [],
   "source": []
  },
  {
   "cell_type": "markdown",
   "metadata": {},
   "source": [
    "### We now visualize the data trail"
   ]
  },
  {
   "cell_type": "code",
   "execution_count": 3,
   "metadata": {},
   "outputs": [],
   "source": [
    "d_map = np.array(np.load('./dev_map.npy')); t_map = np.array(np.load('./train_map.npy'))"
   ]
  },
  {
   "cell_type": "code",
   "execution_count": 11,
   "metadata": {},
   "outputs": [
    {
     "data": {
      "image/png": "[encoded data removed]",
      "text/plain": [
       "<matplotlib.figure.Figure at 0x10fd6f668>"
      ]
     },
     "metadata": {},
     "output_type": "display_data"
    }
   ],
   "source": [
    "plt.plot(d_map[::3, 0], '-x', label='dev mAP')\n",
    "plt.plot(t_map[::3, 0], '-x', label='train mAP')\n",
    "plt.title('mAP at 0.7 IoU')\n",
    "plt.legend()\n",
    "plt.savefig('mAP.png')"
   ]
  },
  {
   "cell_type": "code",
   "execution_count": null,
   "metadata": {},
   "outputs": [],
   "source": []
  },
  {
   "cell_type": "markdown",
   "metadata": {},
   "source": [
    "### Visualize Results.\n",
    "> * Now that we trained a model that somewhat works, lets what it can produce."
   ]
  },
  {
   "cell_type": "code",
   "execution_count": null,
   "metadata": {},
   "outputs": [],
   "source": [
    "def evaluate_model():\n",
    "    YOLO_PATH = '../Data/FullData/yolo.h5'\n",
    "    model =  LocalizerNet(YOLO_PATH, use_full_yolo=True).eval()"
   ]
  },
  {
   "cell_type": "code",
   "execution_count": null,
   "metadata": {},
   "outputs": [],
   "source": []
  }
 ],
 "metadata": {
  "kernelspec": {
   "display_name": "Python 3",
   "language": "python",
   "name": "python3"
  },
  "language_info": {
   "codemirror_mode": {
    "name": "ipython",
    "version": 3
   },
   "file_extension": ".py",
   "mimetype": "text/x-python",
   "name": "python",
   "nbconvert_exporter": "python",
   "pygments_lexer": "ipython3",
   "version": "3.6.4"
  }
 },
 "nbformat": 4,
 "nbformat_minor": 2
}
