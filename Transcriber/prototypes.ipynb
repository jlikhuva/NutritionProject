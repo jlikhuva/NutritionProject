{
 "cells": [
  {
   "cell_type": "code",
   "execution_count": 3,
   "metadata": {},
   "outputs": [
    {
<<<<<<< HEAD
=======
     "name": "stderr",
     "output_type": "stream",
     "text": [
      "/home/shared/anaconda3/lib/python3.6/site-packages/h5py/__init__.py:36: FutureWarning: Conversion of the second argument of issubdtype from `float` to `np.floating` is deprecated. In future, it will be treated as `np.float64 == np.dtype(float).type`.\n",
      "  from ._conv import register_converters as _register_converters\n"
     ]
    },
    {
>>>>>>> 06fe6826ef4fd9f087973c7870bd8881edea2cad
     "name": "stdout",
     "output_type": "stream",
     "text": [
      "The autoreload extension is already loaded. To reload it, use:\n",
      "  %reload_ext autoreload\n",
      "0.4.0\n"
     ]
    }
   ],
   "source": [
    "%load_ext autoreload\n",
    "%autoreload 2\n",
    "import torch\n",
    "import matplotlib.pyplot as plt\n",
    "%matplotlib inline\n",
    "from torch.utils.data import Dataset, DataLoader\n",
    "from Model.dataloader import TranscriptionDataset, collate_fn\n",
    "from Model.encoder_net import EncoderNet\n",
    "from Model.decoder_net import DecoderNet\n",
    "from train import train_transcriber, pre_train_encoder\n",
    "print(torch.__version__)\n",
    "from tqdm import tqdm_notebook as tqdm\n"
   ]
  },
  {
   "cell_type": "code",
   "execution_count": 4,
   "metadata": {},
   "outputs": [],
   "source": [
    "# torch.backends.cudnn.enabled = False"
   ]
  },
  {
   "cell_type": "markdown",
   "metadata": {},
   "source": [
    "### 1. We now Train the Encoder-Decoder Model\n",
    "> * First we pre-train the encoder on a binary classification task. \n",
    "> * Good performance on this task is a good indicator that the encoder is modelling the distribution of the underlying data properly -- This is crucial for the correct functioning of \n",
    "our system"
   ]
  },
  {
   "cell_type": "code",
   "execution_count": null,
   "metadata": {},
   "outputs": [],
   "source": []
  },
  {
   "cell_type": "markdown",
   "metadata": {},
   "source": [
    "#### a) Pre-Trin Encoder\n",
    "---"
   ]
  },
  {
   "cell_type": "code",
   "execution_count": 5,
   "metadata": {},
   "outputs": [],
   "source": [
    "def pre_train_encoder_network():\n",
    "    '''\n",
    "    We pretrain the encoder to solve be able to classify an image as either\n",
    "    Ingridients or Nutrition_Facts. An encoder that is able to do this is a good starting\n",
    "    point for the transcription task.\n",
    "    '''\n",
    "    IMAGE_DIR = '../Data/FullData/Cropped_Images/'\n",
    "    ANNOTATION_PATH = '../Data/FullData/Transcriptions/annotations.npy'\n",
    "    DATA_PATH = '../Data/FullData/train_dev_test.npy'\n",
    "    WORD_VEC_PATH = '../Data/FullData/Transcriptions/nutrition_vectors.npy'\n",
    "    INDEX_TO_TERM_PATH = '../Data/FullData/Transcriptions/index_term_dict.npy'\n",
    "    TERM_TO_INDEX_PATH = '../Data/FullData/Transcriptions/term_index_dict.npy'\n",
    "    PATH_TO_MEAN_IMAGE = '../Data/FullData/512_512_mean.npy'\n",
    "    debug = not torch.cuda.is_available()\n",
    "    train_dataset = TranscriptionDataset(\n",
    "        IMAGE_DIR, ANNOTATION_PATH, DATA_PATH, WORD_VEC_PATH,\n",
    "        PATH_TO_MEAN_IMAGE, debug=debug, split='train'\n",
    "    )\n",
    "    train_loader = DataLoader( \n",
    "        train_dataset, batch_size=45, shuffle=True,\n",
    "        num_workers=16, collate_fn=collate_fn\n",
    "    )\n",
    "    dev_dataset = TranscriptionDataset(\n",
    "        IMAGE_DIR, ANNOTATION_PATH, DATA_PATH, WORD_VEC_PATH,\n",
    "        PATH_TO_MEAN_IMAGE, debug=debug, split='dev',\n",
    "    )\n",
    "    dev_loader = DataLoader(\n",
    "        dev_dataset, batch_size=45, shuffle=True, \n",
    "        num_workers=16, collate_fn=collate_fn\n",
    "    )\n",
    "    config = {\n",
    "        'keep_prob': 0.995\n",
    "    }\n",
    "    learning_rate = 0.5e-3\n",
    "    \n",
    "    encoder = EncoderNet(config_params=config)\n",
    "    optimizer = torch.optim.Adam(\n",
    "        filter(lambda p: p.requires_grad, encoder.parameters()), \n",
    "        lr=learning_rate, weight_decay=0.005\n",
    "    )\n",
    "    scheduler = torch.optim.lr_scheduler.MultiStepLR(\n",
    "        optimizer, [5, 10, 20, 30, 40, 50, 100, 150], gamma=0.5\n",
    "    )\n",
    "    return pre_train_encoder(\n",
    "        encoder, optimizer, train_loader, dev_loader, scheduler=scheduler,\n",
    "        epochs=5, restore=True, save=False\n",
    "    )"
   ]
  },
  {
   "cell_type": "code",
   "execution_count": 6,
   "metadata": {
    "scrolled": true
   },
   "outputs": [],
   "source": [
    "# losses, accuracies = pre_train_encoder_network()"
   ]
  },
  {
   "cell_type": "code",
   "execution_count": 6,
   "metadata": {},
   "outputs": [
    {
     "data": {
      "text/plain": [
       "<matplotlib.legend.Legend at 0x10f913860>"
      ]
     },
     "execution_count": 6,
     "metadata": {},
     "output_type": "execute_result"
    },
    {
     "data": {
      "image/png": "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\n",
      "text/plain": [
       "<matplotlib.figure.Figure at 0x10f92c3c8>"
      ]
     },
     "metadata": {},
     "output_type": "display_data"
    }
   ],
   "source": [
    "plt.plot(losses[0], label='train loss'); plt.plot(losses[1], label='dev loss')\n",
    "plt.legend()"
   ]
  },
  {
   "cell_type": "code",
   "execution_count": 7,
   "metadata": {},
   "outputs": [
    {
     "data": {
      "text/plain": [
       "<matplotlib.legend.Legend at 0x1a23170a20>"
      ]
     },
     "execution_count": 7,
     "metadata": {},
     "output_type": "execute_result"
    },
    {
     "data": {
      "image/png": "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\n",
      "text/plain": [
       "<matplotlib.figure.Figure at 0x1a227324e0>"
      ]
     },
     "metadata": {},
     "output_type": "display_data"
    }
   ],
   "source": [
    "plt.plot(accuracies[0], label='train acc'); plt.plot(accuracies[1], label='dev acc')\n",
    "plt.legend()"
   ]
  },
  {
   "cell_type": "markdown",
   "metadata": {},
   "source": [
    "#### b) Train Full E-D model\n",
    "---"
   ]
  },
  {
   "cell_type": "code",
<<<<<<< HEAD
   "execution_count": 7,
=======
   "execution_count": 2,
>>>>>>> 06fe6826ef4fd9f087973c7870bd8881edea2cad
   "metadata": {},
   "outputs": [],
   "source": [
    "def train_localizer_network(learning_rate=None):\n",
    "    IMAGE_DIR = '../Data/FullData/Cropped_Images/'\n",
    "    ANNOTATION_PATH = '../Data/FullData/Transcriptions/annotations.npy'\n",
    "    DATA_PATH = '../Data/FullData/train_dev_test.npy'\n",
    "    WORD_VEC_PATH = '../Data/FullData/Transcriptions/nutrition_vectors.npy'\n",
    "    INDEX_TO_TERM_PATH = '../Data/FullData/Transcriptions/index_term_dict.npy'\n",
    "    TERM_TO_INDEX_PATH = '../Data/FullData/Transcriptions/term_index_dict.npy'\n",
    "    PATH_TO_MEAN_IMAGE = '../Data/FullData/512_512_mean.npy' \n",
    "    debug = not torch.cuda.is_available()\n",
    "    \n",
    "    train_dataset = TranscriptionDataset(\n",
    "        IMAGE_DIR, ANNOTATION_PATH, DATA_PATH, WORD_VEC_PATH,\n",
    "        PATH_TO_MEAN_IMAGE, debug=debug, split='train'\n",
    "    )\n",
    "    train_loader = DataLoader( \n",
    "        train_dataset, batch_size=40, shuffle=True,\n",
    "        num_workers=16, collate_fn=collate_fn\n",
    "    )\n",
    "    \n",
    "    dev_dataset = TranscriptionDataset(\n",
    "        IMAGE_DIR, ANNOTATION_PATH, DATA_PATH, WORD_VEC_PATH,\n",
    "        PATH_TO_MEAN_IMAGE, debug=debug, split='dev',\n",
    "    )\n",
    "    dev_loader = DataLoader(\n",
    "        dev_dataset, batch_size=40, shuffle=True, \n",
    "        num_workers=16, collate_fn=collate_fn\n",
    "    )\n",
    "    \n",
    "    \n",
    "    config = {\n",
    "        'keep_prob': 0.9995\n",
    "    }\n",
    "    if not learning_rate: learning_rate = 1.5e-3\n",
    "    \n",
    "    encoder = EncoderNet(config_params=config)\n",
    "    word_vectors = train_dataset.get_word_vectors()\n",
    "    embed_size = len(word_vectors[0])\n",
    "    output_size = train_dataset.get_output_size()\n",
    "    decoder = DecoderNet(word_vectors, output_size, embed_size)\n",
    "    \n",
    "    parameters = list(encoder.parameters()) + list(decoder.parameters())\n",
    "    optimizer = torch.optim.Adam(\n",
    "        filter(lambda p: p.requires_grad, parameters), \n",
    "        lr=learning_rate, weight_decay=0.0005\n",
    "    )\n",
    "    scheduler = torch.optim.lr_scheduler.MultiStepLR(\n",
    "        optimizer, [50, 70], gamma=0.5\n",
    "    )\n",
    "    results = train_transcriber(\n",
    "        encoder, decoder, optimizer, train_loader, dev_loader,\n",
    "        train_dataset, dev_dataset, epochs=10, scheduler=None,\n",
    "        restore=True, save=True\n",
    "    )\n",
    "    return results"
   ]
  },
  {
   "cell_type": "code",
   "execution_count": null,
   "metadata": {},
   "outputs": [],
   "source": []
  },
  {
   "cell_type": "code",
   "execution_count": 4,
   "metadata": {},
   "outputs": [
    {
     "data": {
      "application/vnd.jupyter.widget-view+json": {
       "model_id": "56676120926546fd8a100dd7fe37d236",
       "version_major": 2,
       "version_minor": 0
      },
      "text/html": [
       "<p>Failed to display Jupyter Widget of type <code>HBox</code>.</p>\n",
       "<p>\n",
       "  If you're reading this message in the Jupyter Notebook or JupyterLab Notebook, it may mean\n",
       "  that the widgets JavaScript is still loading. If this message persists, it\n",
       "  likely means that the widgets JavaScript library is either not installed or\n",
       "  not enabled. See the <a href=\"https://ipywidgets.readthedocs.io/en/stable/user_install.html\">Jupyter\n",
       "  Widgets Documentation</a> for setup instructions.\n",
       "</p>\n",
       "<p>\n",
       "  If you're reading this message in another frontend (for example, a static\n",
       "  rendering on GitHub or <a href=\"https://nbviewer.jupyter.org/\">NBViewer</a>),\n",
       "  it may mean that your frontend doesn't currently support widgets.\n",
       "</p>\n"
      ],
      "text/plain": [
       "HBox(children=(IntProgress(value=0, max=1), HTML(value='')))"
      ]
     },
     "metadata": {},
     "output_type": "display_data"
    },
    {
     "name": "stdout",
     "output_type": "stream",
     "text": [
      "\n"
     ]
    },
    {
     "data": {
      "application/vnd.jupyter.widget-view+json": {
       "model_id": "169359656d6a49b7bc4e4b03879024c4",
       "version_major": 2,
       "version_minor": 0
      },
      "text/html": [
       "<p>Failed to display Jupyter Widget of type <code>HBox</code>.</p>\n",
       "<p>\n",
       "  If you're reading this message in the Jupyter Notebook or JupyterLab Notebook, it may mean\n",
       "  that the widgets JavaScript is still loading. If this message persists, it\n",
       "  likely means that the widgets JavaScript library is either not installed or\n",
       "  not enabled. See the <a href=\"https://ipywidgets.readthedocs.io/en/stable/user_install.html\">Jupyter\n",
       "  Widgets Documentation</a> for setup instructions.\n",
       "</p>\n",
       "<p>\n",
       "  If you're reading this message in another frontend (for example, a static\n",
       "  rendering on GitHub or <a href=\"https://nbviewer.jupyter.org/\">NBViewer</a>),\n",
       "  it may mean that your frontend doesn't currently support widgets.\n",
       "</p>\n"
      ],
      "text/plain": [
       "HBox(children=(IntProgress(value=0, max=1), HTML(value='')))"
      ]
     },
     "metadata": {},
     "output_type": "display_data"
<<<<<<< HEAD
    },
    {
     "name": "stdout",
     "output_type": "stream",
     "text": [
      "\n"
     ]
    },
    {
     "data": {
      "application/vnd.jupyter.widget-view+json": {
       "model_id": "7c321691c8ca44499e8285b07bf6d135",
       "version_major": 2,
       "version_minor": 0
      },
      "text/html": [
       "<p>Failed to display Jupyter Widget of type <code>HBox</code>.</p>\n",
       "<p>\n",
       "  If you're reading this message in the Jupyter Notebook or JupyterLab Notebook, it may mean\n",
       "  that the widgets JavaScript is still loading. If this message persists, it\n",
       "  likely means that the widgets JavaScript library is either not installed or\n",
       "  not enabled. See the <a href=\"https://ipywidgets.readthedocs.io/en/stable/user_install.html\">Jupyter\n",
       "  Widgets Documentation</a> for setup instructions.\n",
       "</p>\n",
       "<p>\n",
       "  If you're reading this message in another frontend (for example, a static\n",
       "  rendering on GitHub or <a href=\"https://nbviewer.jupyter.org/\">NBViewer</a>),\n",
       "  it may mean that your frontend doesn't currently support widgets.\n",
       "</p>\n"
      ],
      "text/plain": [
       "HBox(children=(IntProgress(value=0, max=1), HTML(value='')))"
      ]
     },
     "metadata": {},
     "output_type": "display_data"
    },
    {
     "name": "stdout",
     "output_type": "stream",
     "text": [
      "\n"
     ]
    },
    {
     "data": {
      "application/vnd.jupyter.widget-view+json": {
       "model_id": "99ab1613aeaa486f905d35efb5e5f5db",
       "version_major": 2,
       "version_minor": 0
      },
      "text/html": [
       "<p>Failed to display Jupyter Widget of type <code>HBox</code>.</p>\n",
       "<p>\n",
       "  If you're reading this message in the Jupyter Notebook or JupyterLab Notebook, it may mean\n",
       "  that the widgets JavaScript is still loading. If this message persists, it\n",
       "  likely means that the widgets JavaScript library is either not installed or\n",
       "  not enabled. See the <a href=\"https://ipywidgets.readthedocs.io/en/stable/user_install.html\">Jupyter\n",
       "  Widgets Documentation</a> for setup instructions.\n",
       "</p>\n",
       "<p>\n",
       "  If you're reading this message in another frontend (for example, a static\n",
       "  rendering on GitHub or <a href=\"https://nbviewer.jupyter.org/\">NBViewer</a>),\n",
       "  it may mean that your frontend doesn't currently support widgets.\n",
       "</p>\n"
      ],
      "text/plain": [
       "HBox(children=(IntProgress(value=0, max=1), HTML(value='')))"
      ]
     },
     "metadata": {},
     "output_type": "display_data"
    },
    {
     "name": "stdout",
     "output_type": "stream",
     "text": [
      "\n"
     ]
    },
    {
     "data": {
      "application/vnd.jupyter.widget-view+json": {
       "model_id": "45c9bef988b24ee5afab56ed28e81bac",
       "version_major": 2,
       "version_minor": 0
      },
      "text/html": [
       "<p>Failed to display Jupyter Widget of type <code>HBox</code>.</p>\n",
       "<p>\n",
       "  If you're reading this message in the Jupyter Notebook or JupyterLab Notebook, it may mean\n",
       "  that the widgets JavaScript is still loading. If this message persists, it\n",
       "  likely means that the widgets JavaScript library is either not installed or\n",
       "  not enabled. See the <a href=\"https://ipywidgets.readthedocs.io/en/stable/user_install.html\">Jupyter\n",
       "  Widgets Documentation</a> for setup instructions.\n",
       "</p>\n",
       "<p>\n",
       "  If you're reading this message in another frontend (for example, a static\n",
       "  rendering on GitHub or <a href=\"https://nbviewer.jupyter.org/\">NBViewer</a>),\n",
       "  it may mean that your frontend doesn't currently support widgets.\n",
       "</p>\n"
      ],
      "text/plain": [
       "HBox(children=(IntProgress(value=0, max=1), HTML(value='')))"
      ]
     },
     "metadata": {},
     "output_type": "display_data"
    },
    {
     "name": "stdout",
     "output_type": "stream",
     "text": [
      "\n",
      "==== Performance Check === \n",
      "\t Train Loss =  5.986876964569092\n",
      "\t Dev Loss =  6.0909552574157715\n",
      "\t Train BLEU =  0.00081952714\n",
      "\t Dev BLEU =  0.00081952714\n"
     ]
    },
    {
     "data": {
      "application/vnd.jupyter.widget-view+json": {
       "model_id": "d92787d0487c4d9db0459739f069ef1c",
       "version_major": 2,
       "version_minor": 0
      },
      "text/html": [
       "<p>Failed to display Jupyter Widget of type <code>HBox</code>.</p>\n",
       "<p>\n",
       "  If you're reading this message in the Jupyter Notebook or JupyterLab Notebook, it may mean\n",
       "  that the widgets JavaScript is still loading. If this message persists, it\n",
       "  likely means that the widgets JavaScript library is either not installed or\n",
       "  not enabled. See the <a href=\"https://ipywidgets.readthedocs.io/en/stable/user_install.html\">Jupyter\n",
       "  Widgets Documentation</a> for setup instructions.\n",
       "</p>\n",
       "<p>\n",
       "  If you're reading this message in another frontend (for example, a static\n",
       "  rendering on GitHub or <a href=\"https://nbviewer.jupyter.org/\">NBViewer</a>),\n",
       "  it may mean that your frontend doesn't currently support widgets.\n",
       "</p>\n"
      ],
      "text/plain": [
       "HBox(children=(IntProgress(value=0, max=1), HTML(value='')))"
      ]
     },
     "metadata": {},
     "output_type": "display_data"
    },
    {
     "name": "stdout",
     "output_type": "stream",
     "text": [
      "\n"
     ]
    },
    {
     "data": {
      "application/vnd.jupyter.widget-view+json": {
       "model_id": "f7bbfa7c0f0548f89f1dfceff744beaa",
       "version_major": 2,
       "version_minor": 0
      },
      "text/html": [
       "<p>Failed to display Jupyter Widget of type <code>HBox</code>.</p>\n",
       "<p>\n",
       "  If you're reading this message in the Jupyter Notebook or JupyterLab Notebook, it may mean\n",
       "  that the widgets JavaScript is still loading. If this message persists, it\n",
       "  likely means that the widgets JavaScript library is either not installed or\n",
       "  not enabled. See the <a href=\"https://ipywidgets.readthedocs.io/en/stable/user_install.html\">Jupyter\n",
       "  Widgets Documentation</a> for setup instructions.\n",
       "</p>\n",
       "<p>\n",
       "  If you're reading this message in another frontend (for example, a static\n",
       "  rendering on GitHub or <a href=\"https://nbviewer.jupyter.org/\">NBViewer</a>),\n",
       "  it may mean that your frontend doesn't currently support widgets.\n",
       "</p>\n"
      ],
      "text/plain": [
       "HBox(children=(IntProgress(value=0, max=1), HTML(value='')))"
      ]
     },
     "metadata": {},
     "output_type": "display_data"
    },
    {
     "name": "stdout",
     "output_type": "stream",
     "text": [
      "\n"
     ]
    },
    {
     "data": {
      "application/vnd.jupyter.widget-view+json": {
       "model_id": "f2855cecfdec4d9f8149b0daf30857b1",
       "version_major": 2,
       "version_minor": 0
      },
      "text/html": [
       "<p>Failed to display Jupyter Widget of type <code>HBox</code>.</p>\n",
       "<p>\n",
       "  If you're reading this message in the Jupyter Notebook or JupyterLab Notebook, it may mean\n",
       "  that the widgets JavaScript is still loading. If this message persists, it\n",
       "  likely means that the widgets JavaScript library is either not installed or\n",
       "  not enabled. See the <a href=\"https://ipywidgets.readthedocs.io/en/stable/user_install.html\">Jupyter\n",
       "  Widgets Documentation</a> for setup instructions.\n",
       "</p>\n",
       "<p>\n",
       "  If you're reading this message in another frontend (for example, a static\n",
       "  rendering on GitHub or <a href=\"https://nbviewer.jupyter.org/\">NBViewer</a>),\n",
       "  it may mean that your frontend doesn't currently support widgets.\n",
       "</p>\n"
      ],
      "text/plain": [
       "HBox(children=(IntProgress(value=0, max=1), HTML(value='')))"
      ]
     },
     "metadata": {},
     "output_type": "display_data"
    },
    {
     "name": "stdout",
     "output_type": "stream",
     "text": [
      "\n"
     ]
    },
    {
     "data": {
      "application/vnd.jupyter.widget-view+json": {
       "model_id": "44d0e7dd616940f0a5be7b416c560ce9",
       "version_major": 2,
       "version_minor": 0
      },
      "text/html": [
       "<p>Failed to display Jupyter Widget of type <code>HBox</code>.</p>\n",
       "<p>\n",
       "  If you're reading this message in the Jupyter Notebook or JupyterLab Notebook, it may mean\n",
       "  that the widgets JavaScript is still loading. If this message persists, it\n",
       "  likely means that the widgets JavaScript library is either not installed or\n",
       "  not enabled. See the <a href=\"https://ipywidgets.readthedocs.io/en/stable/user_install.html\">Jupyter\n",
       "  Widgets Documentation</a> for setup instructions.\n",
       "</p>\n",
       "<p>\n",
       "  If you're reading this message in another frontend (for example, a static\n",
       "  rendering on GitHub or <a href=\"https://nbviewer.jupyter.org/\">NBViewer</a>),\n",
       "  it may mean that your frontend doesn't currently support widgets.\n",
       "</p>\n"
      ],
      "text/plain": [
       "HBox(children=(IntProgress(value=0, max=1), HTML(value='')))"
      ]
     },
     "metadata": {},
     "output_type": "display_data"
    },
    {
     "name": "stdout",
     "output_type": "stream",
     "text": [
      "\n"
     ]
    },
    {
     "data": {
      "application/vnd.jupyter.widget-view+json": {
       "model_id": "ea4360f1789a4c89a453f5173d7c5b78",
       "version_major": 2,
       "version_minor": 0
      },
      "text/html": [
       "<p>Failed to display Jupyter Widget of type <code>HBox</code>.</p>\n",
       "<p>\n",
       "  If you're reading this message in the Jupyter Notebook or JupyterLab Notebook, it may mean\n",
       "  that the widgets JavaScript is still loading. If this message persists, it\n",
       "  likely means that the widgets JavaScript library is either not installed or\n",
       "  not enabled. See the <a href=\"https://ipywidgets.readthedocs.io/en/stable/user_install.html\">Jupyter\n",
       "  Widgets Documentation</a> for setup instructions.\n",
       "</p>\n",
       "<p>\n",
       "  If you're reading this message in another frontend (for example, a static\n",
       "  rendering on GitHub or <a href=\"https://nbviewer.jupyter.org/\">NBViewer</a>),\n",
       "  it may mean that your frontend doesn't currently support widgets.\n",
       "</p>\n"
      ],
      "text/plain": [
       "HBox(children=(IntProgress(value=0, max=1), HTML(value='')))"
      ]
     },
     "metadata": {},
     "output_type": "display_data"
    },
    {
     "name": "stdout",
     "output_type": "stream",
     "text": [
      "\n",
      "==== Performance Check === \n",
      "\t Train Loss =  4.935330390930176\n",
      "\t Dev Loss =  5.38953161239624\n",
      "\t Train BLEU =  0.00081952714\n",
      "\t Dev BLEU =  0.00081952714\n"
     ]
    },
    {
     "data": {
      "application/vnd.jupyter.widget-view+json": {
       "model_id": "e35f28d852f54038b3dabca6db9b57d9",
       "version_major": 2,
       "version_minor": 0
      },
      "text/html": [
       "<p>Failed to display Jupyter Widget of type <code>HBox</code>.</p>\n",
       "<p>\n",
       "  If you're reading this message in the Jupyter Notebook or JupyterLab Notebook, it may mean\n",
       "  that the widgets JavaScript is still loading. If this message persists, it\n",
       "  likely means that the widgets JavaScript library is either not installed or\n",
       "  not enabled. See the <a href=\"https://ipywidgets.readthedocs.io/en/stable/user_install.html\">Jupyter\n",
       "  Widgets Documentation</a> for setup instructions.\n",
       "</p>\n",
       "<p>\n",
       "  If you're reading this message in another frontend (for example, a static\n",
       "  rendering on GitHub or <a href=\"https://nbviewer.jupyter.org/\">NBViewer</a>),\n",
       "  it may mean that your frontend doesn't currently support widgets.\n",
       "</p>\n"
      ],
      "text/plain": [
       "HBox(children=(IntProgress(value=0, max=1), HTML(value='')))"
      ]
     },
     "metadata": {},
     "output_type": "display_data"
    },
    {
     "name": "stdout",
     "output_type": "stream",
     "text": [
      "\n"
     ]
    },
    {
     "data": {
      "application/vnd.jupyter.widget-view+json": {
       "model_id": "6d2441af461d47789442bfb2e834d0cb",
       "version_major": 2,
       "version_minor": 0
      },
      "text/html": [
       "<p>Failed to display Jupyter Widget of type <code>HBox</code>.</p>\n",
       "<p>\n",
       "  If you're reading this message in the Jupyter Notebook or JupyterLab Notebook, it may mean\n",
       "  that the widgets JavaScript is still loading. If this message persists, it\n",
       "  likely means that the widgets JavaScript library is either not installed or\n",
       "  not enabled. See the <a href=\"https://ipywidgets.readthedocs.io/en/stable/user_install.html\">Jupyter\n",
       "  Widgets Documentation</a> for setup instructions.\n",
       "</p>\n",
       "<p>\n",
       "  If you're reading this message in another frontend (for example, a static\n",
       "  rendering on GitHub or <a href=\"https://nbviewer.jupyter.org/\">NBViewer</a>),\n",
       "  it may mean that your frontend doesn't currently support widgets.\n",
       "</p>\n"
      ],
      "text/plain": [
       "HBox(children=(IntProgress(value=0, max=1), HTML(value='')))"
      ]
     },
     "metadata": {},
     "output_type": "display_data"
    },
    {
     "name": "stdout",
     "output_type": "stream",
     "text": [
      "\n"
     ]
    },
    {
     "data": {
      "application/vnd.jupyter.widget-view+json": {
       "model_id": "76fd05321ce54b3696b3c183963062a6",
       "version_major": 2,
       "version_minor": 0
      },
      "text/html": [
       "<p>Failed to display Jupyter Widget of type <code>HBox</code>.</p>\n",
       "<p>\n",
       "  If you're reading this message in the Jupyter Notebook or JupyterLab Notebook, it may mean\n",
       "  that the widgets JavaScript is still loading. If this message persists, it\n",
       "  likely means that the widgets JavaScript library is either not installed or\n",
       "  not enabled. See the <a href=\"https://ipywidgets.readthedocs.io/en/stable/user_install.html\">Jupyter\n",
       "  Widgets Documentation</a> for setup instructions.\n",
       "</p>\n",
       "<p>\n",
       "  If you're reading this message in another frontend (for example, a static\n",
       "  rendering on GitHub or <a href=\"https://nbviewer.jupyter.org/\">NBViewer</a>),\n",
       "  it may mean that your frontend doesn't currently support widgets.\n",
       "</p>\n"
      ],
      "text/plain": [
       "HBox(children=(IntProgress(value=0, max=1), HTML(value='')))"
      ]
     },
     "metadata": {},
     "output_type": "display_data"
    },
    {
     "name": "stdout",
     "output_type": "stream",
     "text": [
      "\n"
     ]
    },
    {
     "data": {
      "application/vnd.jupyter.widget-view+json": {
       "model_id": "a69c4498dab6474bb4053a11e666bb3b",
       "version_major": 2,
       "version_minor": 0
      },
      "text/html": [
       "<p>Failed to display Jupyter Widget of type <code>HBox</code>.</p>\n",
       "<p>\n",
       "  If you're reading this message in the Jupyter Notebook or JupyterLab Notebook, it may mean\n",
       "  that the widgets JavaScript is still loading. If this message persists, it\n",
       "  likely means that the widgets JavaScript library is either not installed or\n",
       "  not enabled. See the <a href=\"https://ipywidgets.readthedocs.io/en/stable/user_install.html\">Jupyter\n",
       "  Widgets Documentation</a> for setup instructions.\n",
       "</p>\n",
       "<p>\n",
       "  If you're reading this message in another frontend (for example, a static\n",
       "  rendering on GitHub or <a href=\"https://nbviewer.jupyter.org/\">NBViewer</a>),\n",
       "  it may mean that your frontend doesn't currently support widgets.\n",
       "</p>\n"
      ],
      "text/plain": [
       "HBox(children=(IntProgress(value=0, max=1), HTML(value='')))"
      ]
     },
     "metadata": {},
     "output_type": "display_data"
    },
    {
     "name": "stdout",
     "output_type": "stream",
     "text": [
      "\n"
     ]
    },
    {
     "data": {
      "application/vnd.jupyter.widget-view+json": {
       "model_id": "0595196f4f0d4fb4a18da33c910c3dd5",
       "version_major": 2,
       "version_minor": 0
      },
      "text/html": [
       "<p>Failed to display Jupyter Widget of type <code>HBox</code>.</p>\n",
       "<p>\n",
       "  If you're reading this message in the Jupyter Notebook or JupyterLab Notebook, it may mean\n",
       "  that the widgets JavaScript is still loading. If this message persists, it\n",
       "  likely means that the widgets JavaScript library is either not installed or\n",
       "  not enabled. See the <a href=\"https://ipywidgets.readthedocs.io/en/stable/user_install.html\">Jupyter\n",
       "  Widgets Documentation</a> for setup instructions.\n",
       "</p>\n",
       "<p>\n",
       "  If you're reading this message in another frontend (for example, a static\n",
       "  rendering on GitHub or <a href=\"https://nbviewer.jupyter.org/\">NBViewer</a>),\n",
       "  it may mean that your frontend doesn't currently support widgets.\n",
       "</p>\n"
      ],
      "text/plain": [
       "HBox(children=(IntProgress(value=0, max=1), HTML(value='')))"
      ]
     },
     "metadata": {},
     "output_type": "display_data"
    },
    {
     "name": "stdout",
     "output_type": "stream",
     "text": [
      "\n",
      "==== Performance Check === \n",
      "\t Train Loss =  4.376282691955566\n",
      "\t Dev Loss =  5.157308101654053\n",
      "\t Train BLEU =  0.00081952714\n",
      "\t Dev BLEU =  0.00081952714\n"
     ]
    },
    {
     "data": {
      "application/vnd.jupyter.widget-view+json": {
       "model_id": "7a864a421b30492f9e8b176d3928e249",
       "version_major": 2,
       "version_minor": 0
      },
      "text/html": [
       "<p>Failed to display Jupyter Widget of type <code>HBox</code>.</p>\n",
       "<p>\n",
       "  If you're reading this message in the Jupyter Notebook or JupyterLab Notebook, it may mean\n",
       "  that the widgets JavaScript is still loading. If this message persists, it\n",
       "  likely means that the widgets JavaScript library is either not installed or\n",
       "  not enabled. See the <a href=\"https://ipywidgets.readthedocs.io/en/stable/user_install.html\">Jupyter\n",
       "  Widgets Documentation</a> for setup instructions.\n",
       "</p>\n",
       "<p>\n",
       "  If you're reading this message in another frontend (for example, a static\n",
       "  rendering on GitHub or <a href=\"https://nbviewer.jupyter.org/\">NBViewer</a>),\n",
       "  it may mean that your frontend doesn't currently support widgets.\n",
       "</p>\n"
      ],
      "text/plain": [
       "HBox(children=(IntProgress(value=0, max=1), HTML(value='')))"
      ]
     },
     "metadata": {},
     "output_type": "display_data"
    },
    {
     "name": "stdout",
     "output_type": "stream",
     "text": [
      "\n"
     ]
    },
    {
     "data": {
      "application/vnd.jupyter.widget-view+json": {
       "model_id": "acae693551b5483a942a11c9cae49c0a",
       "version_major": 2,
       "version_minor": 0
      },
      "text/html": [
       "<p>Failed to display Jupyter Widget of type <code>HBox</code>.</p>\n",
       "<p>\n",
       "  If you're reading this message in the Jupyter Notebook or JupyterLab Notebook, it may mean\n",
       "  that the widgets JavaScript is still loading. If this message persists, it\n",
       "  likely means that the widgets JavaScript library is either not installed or\n",
       "  not enabled. See the <a href=\"https://ipywidgets.readthedocs.io/en/stable/user_install.html\">Jupyter\n",
       "  Widgets Documentation</a> for setup instructions.\n",
       "</p>\n",
       "<p>\n",
       "  If you're reading this message in another frontend (for example, a static\n",
       "  rendering on GitHub or <a href=\"https://nbviewer.jupyter.org/\">NBViewer</a>),\n",
       "  it may mean that your frontend doesn't currently support widgets.\n",
       "</p>\n"
      ],
      "text/plain": [
       "HBox(children=(IntProgress(value=0, max=1), HTML(value='')))"
      ]
     },
     "metadata": {},
     "output_type": "display_data"
    },
    {
     "name": "stdout",
     "output_type": "stream",
     "text": [
      "\n"
     ]
    },
    {
     "data": {
      "application/vnd.jupyter.widget-view+json": {
       "model_id": "c80ca52b85a24d26a32d11d5bab9c596",
       "version_major": 2,
       "version_minor": 0
      },
      "text/html": [
       "<p>Failed to display Jupyter Widget of type <code>HBox</code>.</p>\n",
       "<p>\n",
       "  If you're reading this message in the Jupyter Notebook or JupyterLab Notebook, it may mean\n",
       "  that the widgets JavaScript is still loading. If this message persists, it\n",
       "  likely means that the widgets JavaScript library is either not installed or\n",
       "  not enabled. See the <a href=\"https://ipywidgets.readthedocs.io/en/stable/user_install.html\">Jupyter\n",
       "  Widgets Documentation</a> for setup instructions.\n",
       "</p>\n",
       "<p>\n",
       "  If you're reading this message in another frontend (for example, a static\n",
       "  rendering on GitHub or <a href=\"https://nbviewer.jupyter.org/\">NBViewer</a>),\n",
       "  it may mean that your frontend doesn't currently support widgets.\n",
       "</p>\n"
      ],
      "text/plain": [
       "HBox(children=(IntProgress(value=0, max=1), HTML(value='')))"
      ]
     },
     "metadata": {},
     "output_type": "display_data"
    },
    {
     "name": "stdout",
     "output_type": "stream",
     "text": [
      "\n"
     ]
    },
    {
     "data": {
      "application/vnd.jupyter.widget-view+json": {
       "model_id": "ada52cc643644ceda663943c85c7f5b8",
       "version_major": 2,
       "version_minor": 0
      },
      "text/html": [
       "<p>Failed to display Jupyter Widget of type <code>HBox</code>.</p>\n",
       "<p>\n",
       "  If you're reading this message in the Jupyter Notebook or JupyterLab Notebook, it may mean\n",
       "  that the widgets JavaScript is still loading. If this message persists, it\n",
       "  likely means that the widgets JavaScript library is either not installed or\n",
       "  not enabled. See the <a href=\"https://ipywidgets.readthedocs.io/en/stable/user_install.html\">Jupyter\n",
       "  Widgets Documentation</a> for setup instructions.\n",
       "</p>\n",
       "<p>\n",
       "  If you're reading this message in another frontend (for example, a static\n",
       "  rendering on GitHub or <a href=\"https://nbviewer.jupyter.org/\">NBViewer</a>),\n",
       "  it may mean that your frontend doesn't currently support widgets.\n",
       "</p>\n"
      ],
      "text/plain": [
       "HBox(children=(IntProgress(value=0, max=1), HTML(value='')))"
      ]
     },
     "metadata": {},
     "output_type": "display_data"
    },
    {
     "name": "stdout",
     "output_type": "stream",
     "text": [
      "\n"
     ]
    },
    {
     "data": {
      "application/vnd.jupyter.widget-view+json": {
       "model_id": "763a910296b744f59a3b07527a569bd9",
       "version_major": 2,
       "version_minor": 0
      },
      "text/html": [
       "<p>Failed to display Jupyter Widget of type <code>HBox</code>.</p>\n",
       "<p>\n",
       "  If you're reading this message in the Jupyter Notebook or JupyterLab Notebook, it may mean\n",
       "  that the widgets JavaScript is still loading. If this message persists, it\n",
       "  likely means that the widgets JavaScript library is either not installed or\n",
       "  not enabled. See the <a href=\"https://ipywidgets.readthedocs.io/en/stable/user_install.html\">Jupyter\n",
       "  Widgets Documentation</a> for setup instructions.\n",
       "</p>\n",
       "<p>\n",
       "  If you're reading this message in another frontend (for example, a static\n",
       "  rendering on GitHub or <a href=\"https://nbviewer.jupyter.org/\">NBViewer</a>),\n",
       "  it may mean that your frontend doesn't currently support widgets.\n",
       "</p>\n"
      ],
      "text/plain": [
       "HBox(children=(IntProgress(value=0, max=1), HTML(value='')))"
      ]
     },
     "metadata": {},
     "output_type": "display_data"
    },
    {
     "name": "stdout",
     "output_type": "stream",
     "text": [
      "\n",
      "==== Performance Check === \n",
      "\t Train Loss =  4.096141338348389\n",
      "\t Dev Loss =  5.006310939788818\n",
      "\t Train BLEU =  0.00081952714\n",
      "\t Dev BLEU =  0.00097458746\n"
     ]
    },
    {
     "data": {
      "application/vnd.jupyter.widget-view+json": {
       "model_id": "f0dfba105d7f4d2985e22e6653778b14",
       "version_major": 2,
       "version_minor": 0
      },
      "text/html": [
       "<p>Failed to display Jupyter Widget of type <code>HBox</code>.</p>\n",
       "<p>\n",
       "  If you're reading this message in the Jupyter Notebook or JupyterLab Notebook, it may mean\n",
       "  that the widgets JavaScript is still loading. If this message persists, it\n",
       "  likely means that the widgets JavaScript library is either not installed or\n",
       "  not enabled. See the <a href=\"https://ipywidgets.readthedocs.io/en/stable/user_install.html\">Jupyter\n",
       "  Widgets Documentation</a> for setup instructions.\n",
       "</p>\n",
       "<p>\n",
       "  If you're reading this message in another frontend (for example, a static\n",
       "  rendering on GitHub or <a href=\"https://nbviewer.jupyter.org/\">NBViewer</a>),\n",
       "  it may mean that your frontend doesn't currently support widgets.\n",
       "</p>\n"
      ],
      "text/plain": [
       "HBox(children=(IntProgress(value=0, max=1), HTML(value='')))"
      ]
     },
     "metadata": {},
     "output_type": "display_data"
    },
    {
     "name": "stdout",
     "output_type": "stream",
     "text": [
      "\n"
     ]
    },
    {
     "data": {
      "application/vnd.jupyter.widget-view+json": {
       "model_id": "598d9f3e16d8461f9304e6e0a77fd372",
       "version_major": 2,
       "version_minor": 0
      },
      "text/html": [
       "<p>Failed to display Jupyter Widget of type <code>HBox</code>.</p>\n",
       "<p>\n",
       "  If you're reading this message in the Jupyter Notebook or JupyterLab Notebook, it may mean\n",
       "  that the widgets JavaScript is still loading. If this message persists, it\n",
       "  likely means that the widgets JavaScript library is either not installed or\n",
       "  not enabled. See the <a href=\"https://ipywidgets.readthedocs.io/en/stable/user_install.html\">Jupyter\n",
       "  Widgets Documentation</a> for setup instructions.\n",
       "</p>\n",
       "<p>\n",
       "  If you're reading this message in another frontend (for example, a static\n",
       "  rendering on GitHub or <a href=\"https://nbviewer.jupyter.org/\">NBViewer</a>),\n",
       "  it may mean that your frontend doesn't currently support widgets.\n",
       "</p>\n"
      ],
      "text/plain": [
       "HBox(children=(IntProgress(value=0, max=1), HTML(value='')))"
      ]
     },
     "metadata": {},
     "output_type": "display_data"
    },
    {
     "name": "stdout",
     "output_type": "stream",
     "text": [
      "\n"
     ]
    },
    {
     "data": {
      "application/vnd.jupyter.widget-view+json": {
       "model_id": "21a8fb18eba1468ba73a57716f36d2e9",
       "version_major": 2,
       "version_minor": 0
      },
      "text/html": [
       "<p>Failed to display Jupyter Widget of type <code>HBox</code>.</p>\n",
       "<p>\n",
       "  If you're reading this message in the Jupyter Notebook or JupyterLab Notebook, it may mean\n",
       "  that the widgets JavaScript is still loading. If this message persists, it\n",
       "  likely means that the widgets JavaScript library is either not installed or\n",
       "  not enabled. See the <a href=\"https://ipywidgets.readthedocs.io/en/stable/user_install.html\">Jupyter\n",
       "  Widgets Documentation</a> for setup instructions.\n",
       "</p>\n",
       "<p>\n",
       "  If you're reading this message in another frontend (for example, a static\n",
       "  rendering on GitHub or <a href=\"https://nbviewer.jupyter.org/\">NBViewer</a>),\n",
       "  it may mean that your frontend doesn't currently support widgets.\n",
       "</p>\n"
      ],
      "text/plain": [
       "HBox(children=(IntProgress(value=0, max=1), HTML(value='')))"
      ]
     },
     "metadata": {},
     "output_type": "display_data"
    },
    {
     "name": "stdout",
     "output_type": "stream",
     "text": [
      "\n"
     ]
    },
    {
     "data": {
      "application/vnd.jupyter.widget-view+json": {
       "model_id": "baa5bc17c52347c1b48e849812e67b65",
       "version_major": 2,
       "version_minor": 0
      },
      "text/html": [
       "<p>Failed to display Jupyter Widget of type <code>HBox</code>.</p>\n",
       "<p>\n",
       "  If you're reading this message in the Jupyter Notebook or JupyterLab Notebook, it may mean\n",
       "  that the widgets JavaScript is still loading. If this message persists, it\n",
       "  likely means that the widgets JavaScript library is either not installed or\n",
       "  not enabled. See the <a href=\"https://ipywidgets.readthedocs.io/en/stable/user_install.html\">Jupyter\n",
       "  Widgets Documentation</a> for setup instructions.\n",
       "</p>\n",
       "<p>\n",
       "  If you're reading this message in another frontend (for example, a static\n",
       "  rendering on GitHub or <a href=\"https://nbviewer.jupyter.org/\">NBViewer</a>),\n",
       "  it may mean that your frontend doesn't currently support widgets.\n",
       "</p>\n"
      ],
      "text/plain": [
       "HBox(children=(IntProgress(value=0, max=1), HTML(value='')))"
      ]
     },
     "metadata": {},
     "output_type": "display_data"
    },
    {
     "name": "stdout",
     "output_type": "stream",
     "text": [
      "\n"
     ]
    },
    {
     "data": {
      "application/vnd.jupyter.widget-view+json": {
       "model_id": "f13078f9dc0a48bc9bd6039cd8ef3b64",
       "version_major": 2,
       "version_minor": 0
      },
      "text/html": [
       "<p>Failed to display Jupyter Widget of type <code>HBox</code>.</p>\n",
       "<p>\n",
       "  If you're reading this message in the Jupyter Notebook or JupyterLab Notebook, it may mean\n",
       "  that the widgets JavaScript is still loading. If this message persists, it\n",
       "  likely means that the widgets JavaScript library is either not installed or\n",
       "  not enabled. See the <a href=\"https://ipywidgets.readthedocs.io/en/stable/user_install.html\">Jupyter\n",
       "  Widgets Documentation</a> for setup instructions.\n",
       "</p>\n",
       "<p>\n",
       "  If you're reading this message in another frontend (for example, a static\n",
       "  rendering on GitHub or <a href=\"https://nbviewer.jupyter.org/\">NBViewer</a>),\n",
       "  it may mean that your frontend doesn't currently support widgets.\n",
       "</p>\n"
      ],
      "text/plain": [
       "HBox(children=(IntProgress(value=0, max=1), HTML(value='')))"
      ]
     },
     "metadata": {},
     "output_type": "display_data"
    },
    {
     "name": "stdout",
     "output_type": "stream",
     "text": [
      "\n",
      "==== Performance Check === \n",
      "\t Train Loss =  3.8501384258270264\n",
      "\t Dev Loss =  4.921623229980469\n",
      "\t Train BLEU =  0.00081952714\n",
      "\t Dev BLEU =  0.00081952714\n"
     ]
    },
    {
     "data": {
      "application/vnd.jupyter.widget-view+json": {
       "model_id": "48d7bed044c34aa7ade8a89c5ffb7ebd",
       "version_major": 2,
       "version_minor": 0
      },
      "text/html": [
       "<p>Failed to display Jupyter Widget of type <code>HBox</code>.</p>\n",
       "<p>\n",
       "  If you're reading this message in the Jupyter Notebook or JupyterLab Notebook, it may mean\n",
       "  that the widgets JavaScript is still loading. If this message persists, it\n",
       "  likely means that the widgets JavaScript library is either not installed or\n",
       "  not enabled. See the <a href=\"https://ipywidgets.readthedocs.io/en/stable/user_install.html\">Jupyter\n",
       "  Widgets Documentation</a> for setup instructions.\n",
       "</p>\n",
       "<p>\n",
       "  If you're reading this message in another frontend (for example, a static\n",
       "  rendering on GitHub or <a href=\"https://nbviewer.jupyter.org/\">NBViewer</a>),\n",
       "  it may mean that your frontend doesn't currently support widgets.\n",
       "</p>\n"
      ],
      "text/plain": [
       "HBox(children=(IntProgress(value=0, max=1), HTML(value='')))"
      ]
     },
     "metadata": {},
     "output_type": "display_data"
    },
    {
     "name": "stdout",
     "output_type": "stream",
     "text": [
      "\n"
     ]
    },
    {
     "data": {
      "application/vnd.jupyter.widget-view+json": {
       "model_id": "11d821356de7406fbcbc711eae722780",
       "version_major": 2,
       "version_minor": 0
      },
      "text/html": [
       "<p>Failed to display Jupyter Widget of type <code>HBox</code>.</p>\n",
       "<p>\n",
       "  If you're reading this message in the Jupyter Notebook or JupyterLab Notebook, it may mean\n",
       "  that the widgets JavaScript is still loading. If this message persists, it\n",
       "  likely means that the widgets JavaScript library is either not installed or\n",
       "  not enabled. See the <a href=\"https://ipywidgets.readthedocs.io/en/stable/user_install.html\">Jupyter\n",
       "  Widgets Documentation</a> for setup instructions.\n",
       "</p>\n",
       "<p>\n",
       "  If you're reading this message in another frontend (for example, a static\n",
       "  rendering on GitHub or <a href=\"https://nbviewer.jupyter.org/\">NBViewer</a>),\n",
       "  it may mean that your frontend doesn't currently support widgets.\n",
       "</p>\n"
      ],
      "text/plain": [
       "HBox(children=(IntProgress(value=0, max=1), HTML(value='')))"
      ]
     },
     "metadata": {},
     "output_type": "display_data"
    },
    {
     "name": "stdout",
     "output_type": "stream",
     "text": [
      "\n"
     ]
    },
    {
     "data": {
      "application/vnd.jupyter.widget-view+json": {
       "model_id": "fb1f5832d1fe4da9b38aa8da4ab4ff31",
       "version_major": 2,
       "version_minor": 0
      },
      "text/html": [
       "<p>Failed to display Jupyter Widget of type <code>HBox</code>.</p>\n",
       "<p>\n",
       "  If you're reading this message in the Jupyter Notebook or JupyterLab Notebook, it may mean\n",
       "  that the widgets JavaScript is still loading. If this message persists, it\n",
       "  likely means that the widgets JavaScript library is either not installed or\n",
       "  not enabled. See the <a href=\"https://ipywidgets.readthedocs.io/en/stable/user_install.html\">Jupyter\n",
       "  Widgets Documentation</a> for setup instructions.\n",
       "</p>\n",
       "<p>\n",
       "  If you're reading this message in another frontend (for example, a static\n",
       "  rendering on GitHub or <a href=\"https://nbviewer.jupyter.org/\">NBViewer</a>),\n",
       "  it may mean that your frontend doesn't currently support widgets.\n",
       "</p>\n"
      ],
      "text/plain": [
       "HBox(children=(IntProgress(value=0, max=1), HTML(value='')))"
      ]
     },
     "metadata": {},
     "output_type": "display_data"
    },
    {
     "name": "stdout",
     "output_type": "stream",
     "text": [
      "\n"
     ]
    },
    {
     "data": {
      "application/vnd.jupyter.widget-view+json": {
       "model_id": "e2ec53e50ece4649812c14882376a14f",
       "version_major": 2,
       "version_minor": 0
      },
      "text/html": [
       "<p>Failed to display Jupyter Widget of type <code>HBox</code>.</p>\n",
       "<p>\n",
       "  If you're reading this message in the Jupyter Notebook or JupyterLab Notebook, it may mean\n",
       "  that the widgets JavaScript is still loading. If this message persists, it\n",
       "  likely means that the widgets JavaScript library is either not installed or\n",
       "  not enabled. See the <a href=\"https://ipywidgets.readthedocs.io/en/stable/user_install.html\">Jupyter\n",
       "  Widgets Documentation</a> for setup instructions.\n",
       "</p>\n",
       "<p>\n",
       "  If you're reading this message in another frontend (for example, a static\n",
       "  rendering on GitHub or <a href=\"https://nbviewer.jupyter.org/\">NBViewer</a>),\n",
       "  it may mean that your frontend doesn't currently support widgets.\n",
       "</p>\n"
      ],
      "text/plain": [
       "HBox(children=(IntProgress(value=0, max=1), HTML(value='')))"
      ]
     },
     "metadata": {},
     "output_type": "display_data"
    },
    {
     "name": "stdout",
     "output_type": "stream",
     "text": [
      "\n"
     ]
    },
    {
     "data": {
      "application/vnd.jupyter.widget-view+json": {
       "model_id": "e0d884dd3a9545458ad431bbbf8eae14",
       "version_major": 2,
       "version_minor": 0
      },
      "text/html": [
       "<p>Failed to display Jupyter Widget of type <code>HBox</code>.</p>\n",
       "<p>\n",
       "  If you're reading this message in the Jupyter Notebook or JupyterLab Notebook, it may mean\n",
       "  that the widgets JavaScript is still loading. If this message persists, it\n",
       "  likely means that the widgets JavaScript library is either not installed or\n",
       "  not enabled. See the <a href=\"https://ipywidgets.readthedocs.io/en/stable/user_install.html\">Jupyter\n",
       "  Widgets Documentation</a> for setup instructions.\n",
       "</p>\n",
       "<p>\n",
       "  If you're reading this message in another frontend (for example, a static\n",
       "  rendering on GitHub or <a href=\"https://nbviewer.jupyter.org/\">NBViewer</a>),\n",
       "  it may mean that your frontend doesn't currently support widgets.\n",
       "</p>\n"
      ],
      "text/plain": [
       "HBox(children=(IntProgress(value=0, max=1), HTML(value='')))"
      ]
     },
     "metadata": {},
     "output_type": "display_data"
    },
    {
     "name": "stdout",
     "output_type": "stream",
     "text": [
      "\n",
      "==== Performance Check === \n",
      "\t Train Loss =  3.6363489627838135\n",
      "\t Dev Loss =  4.8961615562438965\n",
      "\t Train BLEU =  0.00081952714\n",
      "\t Dev BLEU =  0.00081952714\n"
     ]
    },
    {
     "data": {
      "application/vnd.jupyter.widget-view+json": {
       "model_id": "21ed25b4665f43b9808e1da24dd946bc",
       "version_major": 2,
       "version_minor": 0
      },
      "text/html": [
       "<p>Failed to display Jupyter Widget of type <code>HBox</code>.</p>\n",
       "<p>\n",
       "  If you're reading this message in the Jupyter Notebook or JupyterLab Notebook, it may mean\n",
       "  that the widgets JavaScript is still loading. If this message persists, it\n",
       "  likely means that the widgets JavaScript library is either not installed or\n",
       "  not enabled. See the <a href=\"https://ipywidgets.readthedocs.io/en/stable/user_install.html\">Jupyter\n",
       "  Widgets Documentation</a> for setup instructions.\n",
       "</p>\n",
       "<p>\n",
       "  If you're reading this message in another frontend (for example, a static\n",
       "  rendering on GitHub or <a href=\"https://nbviewer.jupyter.org/\">NBViewer</a>),\n",
       "  it may mean that your frontend doesn't currently support widgets.\n",
       "</p>\n"
      ],
      "text/plain": [
       "HBox(children=(IntProgress(value=0, max=1), HTML(value='')))"
      ]
     },
     "metadata": {},
     "output_type": "display_data"
    },
    {
     "name": "stdout",
     "output_type": "stream",
     "text": [
      "\n"
     ]
    },
    {
     "data": {
      "application/vnd.jupyter.widget-view+json": {
       "model_id": "0b7142abe4144e1c805e7cbf8d547b94",
       "version_major": 2,
       "version_minor": 0
      },
      "text/html": [
       "<p>Failed to display Jupyter Widget of type <code>HBox</code>.</p>\n",
       "<p>\n",
       "  If you're reading this message in the Jupyter Notebook or JupyterLab Notebook, it may mean\n",
       "  that the widgets JavaScript is still loading. If this message persists, it\n",
       "  likely means that the widgets JavaScript library is either not installed or\n",
       "  not enabled. See the <a href=\"https://ipywidgets.readthedocs.io/en/stable/user_install.html\">Jupyter\n",
       "  Widgets Documentation</a> for setup instructions.\n",
       "</p>\n",
       "<p>\n",
       "  If you're reading this message in another frontend (for example, a static\n",
       "  rendering on GitHub or <a href=\"https://nbviewer.jupyter.org/\">NBViewer</a>),\n",
       "  it may mean that your frontend doesn't currently support widgets.\n",
       "</p>\n"
      ],
      "text/plain": [
       "HBox(children=(IntProgress(value=0, max=1), HTML(value='')))"
      ]
     },
     "metadata": {},
     "output_type": "display_data"
    },
    {
     "name": "stdout",
     "output_type": "stream",
     "text": [
      "\n"
     ]
    },
    {
     "data": {
      "application/vnd.jupyter.widget-view+json": {
       "model_id": "1b75ee2766bb4873830904f997260863",
       "version_major": 2,
       "version_minor": 0
      },
      "text/html": [
       "<p>Failed to display Jupyter Widget of type <code>HBox</code>.</p>\n",
       "<p>\n",
       "  If you're reading this message in the Jupyter Notebook or JupyterLab Notebook, it may mean\n",
       "  that the widgets JavaScript is still loading. If this message persists, it\n",
       "  likely means that the widgets JavaScript library is either not installed or\n",
       "  not enabled. See the <a href=\"https://ipywidgets.readthedocs.io/en/stable/user_install.html\">Jupyter\n",
       "  Widgets Documentation</a> for setup instructions.\n",
       "</p>\n",
       "<p>\n",
       "  If you're reading this message in another frontend (for example, a static\n",
       "  rendering on GitHub or <a href=\"https://nbviewer.jupyter.org/\">NBViewer</a>),\n",
       "  it may mean that your frontend doesn't currently support widgets.\n",
       "</p>\n"
      ],
      "text/plain": [
       "HBox(children=(IntProgress(value=0, max=1), HTML(value='')))"
      ]
     },
     "metadata": {},
     "output_type": "display_data"
    },
    {
     "name": "stdout",
     "output_type": "stream",
     "text": [
      "\n"
     ]
    },
    {
     "data": {
      "application/vnd.jupyter.widget-view+json": {
       "model_id": "6f3bb9c898f14429bb4f5743ec5b9b93",
       "version_major": 2,
       "version_minor": 0
      },
      "text/html": [
       "<p>Failed to display Jupyter Widget of type <code>HBox</code>.</p>\n",
       "<p>\n",
       "  If you're reading this message in the Jupyter Notebook or JupyterLab Notebook, it may mean\n",
       "  that the widgets JavaScript is still loading. If this message persists, it\n",
       "  likely means that the widgets JavaScript library is either not installed or\n",
       "  not enabled. See the <a href=\"https://ipywidgets.readthedocs.io/en/stable/user_install.html\">Jupyter\n",
       "  Widgets Documentation</a> for setup instructions.\n",
       "</p>\n",
       "<p>\n",
       "  If you're reading this message in another frontend (for example, a static\n",
       "  rendering on GitHub or <a href=\"https://nbviewer.jupyter.org/\">NBViewer</a>),\n",
       "  it may mean that your frontend doesn't currently support widgets.\n",
       "</p>\n"
      ],
      "text/plain": [
       "HBox(children=(IntProgress(value=0, max=1), HTML(value='')))"
      ]
     },
     "metadata": {},
     "output_type": "display_data"
    },
    {
     "name": "stdout",
     "output_type": "stream",
     "text": [
      "\n"
     ]
    },
    {
     "data": {
      "application/vnd.jupyter.widget-view+json": {
       "model_id": "9178d13d1ea744c89adb258611e6dd98",
       "version_major": 2,
       "version_minor": 0
      },
      "text/html": [
       "<p>Failed to display Jupyter Widget of type <code>HBox</code>.</p>\n",
       "<p>\n",
       "  If you're reading this message in the Jupyter Notebook or JupyterLab Notebook, it may mean\n",
       "  that the widgets JavaScript is still loading. If this message persists, it\n",
       "  likely means that the widgets JavaScript library is either not installed or\n",
       "  not enabled. See the <a href=\"https://ipywidgets.readthedocs.io/en/stable/user_install.html\">Jupyter\n",
       "  Widgets Documentation</a> for setup instructions.\n",
       "</p>\n",
       "<p>\n",
       "  If you're reading this message in another frontend (for example, a static\n",
       "  rendering on GitHub or <a href=\"https://nbviewer.jupyter.org/\">NBViewer</a>),\n",
       "  it may mean that your frontend doesn't currently support widgets.\n",
       "</p>\n"
      ],
      "text/plain": [
       "HBox(children=(IntProgress(value=0, max=1), HTML(value='')))"
      ]
     },
     "metadata": {},
     "output_type": "display_data"
    },
    {
     "name": "stdout",
     "output_type": "stream",
     "text": [
      "\n",
      "==== Performance Check === \n",
      "\t Train Loss =  3.4447174072265625\n",
      "\t Dev Loss =  4.952710151672363\n",
      "\t Train BLEU =  0.00081952714\n",
      "\t Dev BLEU =  0.00081952714\n"
     ]
    },
    {
     "data": {
      "application/vnd.jupyter.widget-view+json": {
       "model_id": "838deb4cbc3b4f8b863b143967dbcc15",
       "version_major": 2,
       "version_minor": 0
      },
      "text/html": [
       "<p>Failed to display Jupyter Widget of type <code>HBox</code>.</p>\n",
       "<p>\n",
       "  If you're reading this message in the Jupyter Notebook or JupyterLab Notebook, it may mean\n",
       "  that the widgets JavaScript is still loading. If this message persists, it\n",
       "  likely means that the widgets JavaScript library is either not installed or\n",
       "  not enabled. See the <a href=\"https://ipywidgets.readthedocs.io/en/stable/user_install.html\">Jupyter\n",
       "  Widgets Documentation</a> for setup instructions.\n",
       "</p>\n",
       "<p>\n",
       "  If you're reading this message in another frontend (for example, a static\n",
       "  rendering on GitHub or <a href=\"https://nbviewer.jupyter.org/\">NBViewer</a>),\n",
       "  it may mean that your frontend doesn't currently support widgets.\n",
       "</p>\n"
      ],
      "text/plain": [
       "HBox(children=(IntProgress(value=0, max=1), HTML(value='')))"
      ]
     },
     "metadata": {},
     "output_type": "display_data"
    },
    {
     "name": "stdout",
     "output_type": "stream",
     "text": [
      "\n"
     ]
    },
    {
     "data": {
      "application/vnd.jupyter.widget-view+json": {
       "model_id": "1c2bc8f99646427ba25881be478e86ab",
       "version_major": 2,
       "version_minor": 0
      },
      "text/html": [
       "<p>Failed to display Jupyter Widget of type <code>HBox</code>.</p>\n",
       "<p>\n",
       "  If you're reading this message in the Jupyter Notebook or JupyterLab Notebook, it may mean\n",
       "  that the widgets JavaScript is still loading. If this message persists, it\n",
       "  likely means that the widgets JavaScript library is either not installed or\n",
       "  not enabled. See the <a href=\"https://ipywidgets.readthedocs.io/en/stable/user_install.html\">Jupyter\n",
       "  Widgets Documentation</a> for setup instructions.\n",
       "</p>\n",
       "<p>\n",
       "  If you're reading this message in another frontend (for example, a static\n",
       "  rendering on GitHub or <a href=\"https://nbviewer.jupyter.org/\">NBViewer</a>),\n",
       "  it may mean that your frontend doesn't currently support widgets.\n",
       "</p>\n"
      ],
      "text/plain": [
       "HBox(children=(IntProgress(value=0, max=1), HTML(value='')))"
      ]
     },
     "metadata": {},
     "output_type": "display_data"
    },
    {
     "name": "stdout",
     "output_type": "stream",
     "text": [
      "\n"
     ]
    },
    {
     "data": {
      "application/vnd.jupyter.widget-view+json": {
       "model_id": "3a18d67617de4f339453aa387771cfa5",
       "version_major": 2,
       "version_minor": 0
      },
      "text/html": [
       "<p>Failed to display Jupyter Widget of type <code>HBox</code>.</p>\n",
       "<p>\n",
       "  If you're reading this message in the Jupyter Notebook or JupyterLab Notebook, it may mean\n",
       "  that the widgets JavaScript is still loading. If this message persists, it\n",
       "  likely means that the widgets JavaScript library is either not installed or\n",
       "  not enabled. See the <a href=\"https://ipywidgets.readthedocs.io/en/stable/user_install.html\">Jupyter\n",
       "  Widgets Documentation</a> for setup instructions.\n",
       "</p>\n",
       "<p>\n",
       "  If you're reading this message in another frontend (for example, a static\n",
       "  rendering on GitHub or <a href=\"https://nbviewer.jupyter.org/\">NBViewer</a>),\n",
       "  it may mean that your frontend doesn't currently support widgets.\n",
       "</p>\n"
      ],
      "text/plain": [
       "HBox(children=(IntProgress(value=0, max=1), HTML(value='')))"
      ]
     },
     "metadata": {},
     "output_type": "display_data"
    },
    {
     "name": "stdout",
     "output_type": "stream",
     "text": [
      "\n"
     ]
    },
    {
     "data": {
      "application/vnd.jupyter.widget-view+json": {
       "model_id": "4c73a82037e9493a88a7a04c65cb6717",
       "version_major": 2,
       "version_minor": 0
      },
      "text/html": [
       "<p>Failed to display Jupyter Widget of type <code>HBox</code>.</p>\n",
       "<p>\n",
       "  If you're reading this message in the Jupyter Notebook or JupyterLab Notebook, it may mean\n",
       "  that the widgets JavaScript is still loading. If this message persists, it\n",
       "  likely means that the widgets JavaScript library is either not installed or\n",
       "  not enabled. See the <a href=\"https://ipywidgets.readthedocs.io/en/stable/user_install.html\">Jupyter\n",
       "  Widgets Documentation</a> for setup instructions.\n",
       "</p>\n",
       "<p>\n",
       "  If you're reading this message in another frontend (for example, a static\n",
       "  rendering on GitHub or <a href=\"https://nbviewer.jupyter.org/\">NBViewer</a>),\n",
       "  it may mean that your frontend doesn't currently support widgets.\n",
       "</p>\n"
      ],
      "text/plain": [
       "HBox(children=(IntProgress(value=0, max=1), HTML(value='')))"
      ]
     },
     "metadata": {},
     "output_type": "display_data"
    },
    {
     "name": "stdout",
     "output_type": "stream",
     "text": [
      "\n"
     ]
    },
    {
     "data": {
      "application/vnd.jupyter.widget-view+json": {
       "model_id": "0759aecd974243a888b2f4ec0675f2d7",
       "version_major": 2,
       "version_minor": 0
      },
      "text/html": [
       "<p>Failed to display Jupyter Widget of type <code>HBox</code>.</p>\n",
       "<p>\n",
       "  If you're reading this message in the Jupyter Notebook or JupyterLab Notebook, it may mean\n",
       "  that the widgets JavaScript is still loading. If this message persists, it\n",
       "  likely means that the widgets JavaScript library is either not installed or\n",
       "  not enabled. See the <a href=\"https://ipywidgets.readthedocs.io/en/stable/user_install.html\">Jupyter\n",
       "  Widgets Documentation</a> for setup instructions.\n",
       "</p>\n",
       "<p>\n",
       "  If you're reading this message in another frontend (for example, a static\n",
       "  rendering on GitHub or <a href=\"https://nbviewer.jupyter.org/\">NBViewer</a>),\n",
       "  it may mean that your frontend doesn't currently support widgets.\n",
       "</p>\n"
      ],
      "text/plain": [
       "HBox(children=(IntProgress(value=0, max=1), HTML(value='')))"
      ]
     },
     "metadata": {},
     "output_type": "display_data"
    },
    {
     "name": "stdout",
     "output_type": "stream",
     "text": [
      "\n",
      "==== Performance Check === \n",
      "\t Train Loss =  3.301290512084961\n",
      "\t Dev Loss =  5.088244915008545\n",
      "\t Train BLEU =  0.00081952714\n",
      "\t Dev BLEU =  0.00081952714\n"
     ]
    },
    {
     "data": {
      "application/vnd.jupyter.widget-view+json": {
       "model_id": "19e43facb14240bc82e53cdf6fee2615",
       "version_major": 2,
       "version_minor": 0
      },
      "text/html": [
       "<p>Failed to display Jupyter Widget of type <code>HBox</code>.</p>\n",
       "<p>\n",
       "  If you're reading this message in the Jupyter Notebook or JupyterLab Notebook, it may mean\n",
       "  that the widgets JavaScript is still loading. If this message persists, it\n",
       "  likely means that the widgets JavaScript library is either not installed or\n",
       "  not enabled. See the <a href=\"https://ipywidgets.readthedocs.io/en/stable/user_install.html\">Jupyter\n",
       "  Widgets Documentation</a> for setup instructions.\n",
       "</p>\n",
       "<p>\n",
       "  If you're reading this message in another frontend (for example, a static\n",
       "  rendering on GitHub or <a href=\"https://nbviewer.jupyter.org/\">NBViewer</a>),\n",
       "  it may mean that your frontend doesn't currently support widgets.\n",
       "</p>\n"
      ],
      "text/plain": [
       "HBox(children=(IntProgress(value=0, max=1), HTML(value='')))"
      ]
     },
     "metadata": {},
     "output_type": "display_data"
    },
    {
     "name": "stdout",
     "output_type": "stream",
     "text": [
      "\n"
     ]
    },
    {
     "data": {
      "application/vnd.jupyter.widget-view+json": {
       "model_id": "f0103c0537934805a56041cd416d0c37",
       "version_major": 2,
       "version_minor": 0
      },
      "text/html": [
       "<p>Failed to display Jupyter Widget of type <code>HBox</code>.</p>\n",
       "<p>\n",
       "  If you're reading this message in the Jupyter Notebook or JupyterLab Notebook, it may mean\n",
       "  that the widgets JavaScript is still loading. If this message persists, it\n",
       "  likely means that the widgets JavaScript library is either not installed or\n",
       "  not enabled. See the <a href=\"https://ipywidgets.readthedocs.io/en/stable/user_install.html\">Jupyter\n",
       "  Widgets Documentation</a> for setup instructions.\n",
       "</p>\n",
       "<p>\n",
       "  If you're reading this message in another frontend (for example, a static\n",
       "  rendering on GitHub or <a href=\"https://nbviewer.jupyter.org/\">NBViewer</a>),\n",
       "  it may mean that your frontend doesn't currently support widgets.\n",
       "</p>\n"
      ],
      "text/plain": [
       "HBox(children=(IntProgress(value=0, max=1), HTML(value='')))"
      ]
     },
     "metadata": {},
     "output_type": "display_data"
    },
    {
     "name": "stdout",
     "output_type": "stream",
     "text": [
      "\n"
     ]
    },
    {
     "data": {
      "application/vnd.jupyter.widget-view+json": {
       "model_id": "72b6eb4130214891af6c1b6bd390e277",
       "version_major": 2,
       "version_minor": 0
      },
      "text/html": [
       "<p>Failed to display Jupyter Widget of type <code>HBox</code>.</p>\n",
       "<p>\n",
       "  If you're reading this message in the Jupyter Notebook or JupyterLab Notebook, it may mean\n",
       "  that the widgets JavaScript is still loading. If this message persists, it\n",
       "  likely means that the widgets JavaScript library is either not installed or\n",
       "  not enabled. See the <a href=\"https://ipywidgets.readthedocs.io/en/stable/user_install.html\">Jupyter\n",
       "  Widgets Documentation</a> for setup instructions.\n",
       "</p>\n",
       "<p>\n",
       "  If you're reading this message in another frontend (for example, a static\n",
       "  rendering on GitHub or <a href=\"https://nbviewer.jupyter.org/\">NBViewer</a>),\n",
       "  it may mean that your frontend doesn't currently support widgets.\n",
       "</p>\n"
      ],
      "text/plain": [
       "HBox(children=(IntProgress(value=0, max=1), HTML(value='')))"
      ]
     },
     "metadata": {},
     "output_type": "display_data"
    },
    {
     "name": "stdout",
     "output_type": "stream",
     "text": [
      "\n"
     ]
    },
    {
     "data": {
      "application/vnd.jupyter.widget-view+json": {
       "model_id": "01e2fff48690482abeffe4fe3cd2751e",
       "version_major": 2,
       "version_minor": 0
      },
      "text/html": [
       "<p>Failed to display Jupyter Widget of type <code>HBox</code>.</p>\n",
       "<p>\n",
       "  If you're reading this message in the Jupyter Notebook or JupyterLab Notebook, it may mean\n",
       "  that the widgets JavaScript is still loading. If this message persists, it\n",
       "  likely means that the widgets JavaScript library is either not installed or\n",
       "  not enabled. See the <a href=\"https://ipywidgets.readthedocs.io/en/stable/user_install.html\">Jupyter\n",
       "  Widgets Documentation</a> for setup instructions.\n",
       "</p>\n",
       "<p>\n",
       "  If you're reading this message in another frontend (for example, a static\n",
       "  rendering on GitHub or <a href=\"https://nbviewer.jupyter.org/\">NBViewer</a>),\n",
       "  it may mean that your frontend doesn't currently support widgets.\n",
       "</p>\n"
      ],
      "text/plain": [
       "HBox(children=(IntProgress(value=0, max=1), HTML(value='')))"
      ]
     },
     "metadata": {},
     "output_type": "display_data"
    },
    {
     "name": "stdout",
     "output_type": "stream",
     "text": [
      "\n"
     ]
    },
    {
     "data": {
      "application/vnd.jupyter.widget-view+json": {
       "model_id": "80a99541f67a4a26b43ba5a3115c1e1e",
       "version_major": 2,
       "version_minor": 0
      },
      "text/html": [
       "<p>Failed to display Jupyter Widget of type <code>HBox</code>.</p>\n",
       "<p>\n",
       "  If you're reading this message in the Jupyter Notebook or JupyterLab Notebook, it may mean\n",
       "  that the widgets JavaScript is still loading. If this message persists, it\n",
       "  likely means that the widgets JavaScript library is either not installed or\n",
       "  not enabled. See the <a href=\"https://ipywidgets.readthedocs.io/en/stable/user_install.html\">Jupyter\n",
       "  Widgets Documentation</a> for setup instructions.\n",
       "</p>\n",
       "<p>\n",
       "  If you're reading this message in another frontend (for example, a static\n",
       "  rendering on GitHub or <a href=\"https://nbviewer.jupyter.org/\">NBViewer</a>),\n",
       "  it may mean that your frontend doesn't currently support widgets.\n",
       "</p>\n"
      ],
      "text/plain": [
       "HBox(children=(IntProgress(value=0, max=1), HTML(value='')))"
      ]
     },
     "metadata": {},
     "output_type": "display_data"
    },
    {
     "name": "stdout",
     "output_type": "stream",
     "text": [
      "\n",
      "==== Performance Check === \n",
      "\t Train Loss =  3.1998941898345947\n",
      "\t Dev Loss =  5.238261699676514\n",
      "\t Train BLEU =  0.00081952714\n",
      "\t Dev BLEU =  0.00081952714\n"
     ]
    },
    {
     "data": {
      "application/vnd.jupyter.widget-view+json": {
       "model_id": "c20c41bf929d4079b4ed40b8aee476af",
       "version_major": 2,
       "version_minor": 0
      },
      "text/html": [
       "<p>Failed to display Jupyter Widget of type <code>HBox</code>.</p>\n",
       "<p>\n",
       "  If you're reading this message in the Jupyter Notebook or JupyterLab Notebook, it may mean\n",
       "  that the widgets JavaScript is still loading. If this message persists, it\n",
       "  likely means that the widgets JavaScript library is either not installed or\n",
       "  not enabled. See the <a href=\"https://ipywidgets.readthedocs.io/en/stable/user_install.html\">Jupyter\n",
       "  Widgets Documentation</a> for setup instructions.\n",
       "</p>\n",
       "<p>\n",
       "  If you're reading this message in another frontend (for example, a static\n",
       "  rendering on GitHub or <a href=\"https://nbviewer.jupyter.org/\">NBViewer</a>),\n",
       "  it may mean that your frontend doesn't currently support widgets.\n",
       "</p>\n"
      ],
      "text/plain": [
       "HBox(children=(IntProgress(value=0, max=1), HTML(value='')))"
      ]
     },
     "metadata": {},
     "output_type": "display_data"
    },
    {
     "name": "stdout",
     "output_type": "stream",
     "text": [
      "\n"
     ]
    },
    {
     "data": {
      "application/vnd.jupyter.widget-view+json": {
       "model_id": "ddb8e18d2c4a4fba8fe50f5f01556aa5",
       "version_major": 2,
       "version_minor": 0
      },
      "text/html": [
       "<p>Failed to display Jupyter Widget of type <code>HBox</code>.</p>\n",
       "<p>\n",
       "  If you're reading this message in the Jupyter Notebook or JupyterLab Notebook, it may mean\n",
       "  that the widgets JavaScript is still loading. If this message persists, it\n",
       "  likely means that the widgets JavaScript library is either not installed or\n",
       "  not enabled. See the <a href=\"https://ipywidgets.readthedocs.io/en/stable/user_install.html\">Jupyter\n",
       "  Widgets Documentation</a> for setup instructions.\n",
       "</p>\n",
       "<p>\n",
       "  If you're reading this message in another frontend (for example, a static\n",
       "  rendering on GitHub or <a href=\"https://nbviewer.jupyter.org/\">NBViewer</a>),\n",
       "  it may mean that your frontend doesn't currently support widgets.\n",
       "</p>\n"
      ],
      "text/plain": [
       "HBox(children=(IntProgress(value=0, max=1), HTML(value='')))"
      ]
     },
     "metadata": {},
     "output_type": "display_data"
    },
    {
     "name": "stdout",
     "output_type": "stream",
     "text": [
      "\n"
     ]
    },
    {
     "data": {
      "application/vnd.jupyter.widget-view+json": {
       "model_id": "d351fa4ba9a44c64b83878baf5401d1f",
       "version_major": 2,
       "version_minor": 0
      },
      "text/html": [
       "<p>Failed to display Jupyter Widget of type <code>HBox</code>.</p>\n",
       "<p>\n",
       "  If you're reading this message in the Jupyter Notebook or JupyterLab Notebook, it may mean\n",
       "  that the widgets JavaScript is still loading. If this message persists, it\n",
       "  likely means that the widgets JavaScript library is either not installed or\n",
       "  not enabled. See the <a href=\"https://ipywidgets.readthedocs.io/en/stable/user_install.html\">Jupyter\n",
       "  Widgets Documentation</a> for setup instructions.\n",
       "</p>\n",
       "<p>\n",
       "  If you're reading this message in another frontend (for example, a static\n",
       "  rendering on GitHub or <a href=\"https://nbviewer.jupyter.org/\">NBViewer</a>),\n",
       "  it may mean that your frontend doesn't currently support widgets.\n",
       "</p>\n"
      ],
      "text/plain": [
       "HBox(children=(IntProgress(value=0, max=1), HTML(value='')))"
      ]
     },
     "metadata": {},
     "output_type": "display_data"
    },
    {
     "name": "stdout",
     "output_type": "stream",
     "text": [
      "\n"
     ]
    },
    {
     "data": {
      "application/vnd.jupyter.widget-view+json": {
       "model_id": "ece54837c4ac4454a54a0e5833992518",
       "version_major": 2,
       "version_minor": 0
      },
      "text/html": [
       "<p>Failed to display Jupyter Widget of type <code>HBox</code>.</p>\n",
       "<p>\n",
       "  If you're reading this message in the Jupyter Notebook or JupyterLab Notebook, it may mean\n",
       "  that the widgets JavaScript is still loading. If this message persists, it\n",
       "  likely means that the widgets JavaScript library is either not installed or\n",
       "  not enabled. See the <a href=\"https://ipywidgets.readthedocs.io/en/stable/user_install.html\">Jupyter\n",
       "  Widgets Documentation</a> for setup instructions.\n",
       "</p>\n",
       "<p>\n",
       "  If you're reading this message in another frontend (for example, a static\n",
       "  rendering on GitHub or <a href=\"https://nbviewer.jupyter.org/\">NBViewer</a>),\n",
       "  it may mean that your frontend doesn't currently support widgets.\n",
       "</p>\n"
      ],
      "text/plain": [
       "HBox(children=(IntProgress(value=0, max=1), HTML(value='')))"
      ]
     },
     "metadata": {},
     "output_type": "display_data"
    },
    {
     "name": "stdout",
     "output_type": "stream",
     "text": [
      "\n"
     ]
    },
    {
     "data": {
      "application/vnd.jupyter.widget-view+json": {
       "model_id": "46a2761309f24ac5a4c5008ecfb65b14",
       "version_major": 2,
       "version_minor": 0
      },
      "text/html": [
       "<p>Failed to display Jupyter Widget of type <code>HBox</code>.</p>\n",
       "<p>\n",
       "  If you're reading this message in the Jupyter Notebook or JupyterLab Notebook, it may mean\n",
       "  that the widgets JavaScript is still loading. If this message persists, it\n",
       "  likely means that the widgets JavaScript library is either not installed or\n",
       "  not enabled. See the <a href=\"https://ipywidgets.readthedocs.io/en/stable/user_install.html\">Jupyter\n",
       "  Widgets Documentation</a> for setup instructions.\n",
       "</p>\n",
       "<p>\n",
       "  If you're reading this message in another frontend (for example, a static\n",
       "  rendering on GitHub or <a href=\"https://nbviewer.jupyter.org/\">NBViewer</a>),\n",
       "  it may mean that your frontend doesn't currently support widgets.\n",
       "</p>\n"
      ],
      "text/plain": [
       "HBox(children=(IntProgress(value=0, max=1), HTML(value='')))"
      ]
     },
     "metadata": {},
     "output_type": "display_data"
    },
    {
     "name": "stdout",
     "output_type": "stream",
     "text": [
      "\n",
      "==== Performance Check === \n",
      "\t Train Loss =  3.126896619796753\n",
      "\t Dev Loss =  5.375133991241455\n",
      "\t Train BLEU =  0.00081952714\n",
      "\t Dev BLEU =  0.00081952714\n"
     ]
    },
    {
     "data": {
      "application/vnd.jupyter.widget-view+json": {
       "model_id": "d9b039ea52514eb6ab710f4b5606a240",
       "version_major": 2,
       "version_minor": 0
      },
      "text/html": [
       "<p>Failed to display Jupyter Widget of type <code>HBox</code>.</p>\n",
       "<p>\n",
       "  If you're reading this message in the Jupyter Notebook or JupyterLab Notebook, it may mean\n",
       "  that the widgets JavaScript is still loading. If this message persists, it\n",
       "  likely means that the widgets JavaScript library is either not installed or\n",
       "  not enabled. See the <a href=\"https://ipywidgets.readthedocs.io/en/stable/user_install.html\">Jupyter\n",
       "  Widgets Documentation</a> for setup instructions.\n",
       "</p>\n",
       "<p>\n",
       "  If you're reading this message in another frontend (for example, a static\n",
       "  rendering on GitHub or <a href=\"https://nbviewer.jupyter.org/\">NBViewer</a>),\n",
       "  it may mean that your frontend doesn't currently support widgets.\n",
       "</p>\n"
      ],
      "text/plain": [
       "HBox(children=(IntProgress(value=0, max=1), HTML(value='')))"
      ]
     },
     "metadata": {},
     "output_type": "display_data"
    },
    {
     "name": "stdout",
     "output_type": "stream",
     "text": [
      "\n"
     ]
    },
    {
     "data": {
      "application/vnd.jupyter.widget-view+json": {
       "model_id": "2d90cb0e49824a40b1d2b8840d713c21",
       "version_major": 2,
       "version_minor": 0
      },
      "text/html": [
       "<p>Failed to display Jupyter Widget of type <code>HBox</code>.</p>\n",
       "<p>\n",
       "  If you're reading this message in the Jupyter Notebook or JupyterLab Notebook, it may mean\n",
       "  that the widgets JavaScript is still loading. If this message persists, it\n",
       "  likely means that the widgets JavaScript library is either not installed or\n",
       "  not enabled. See the <a href=\"https://ipywidgets.readthedocs.io/en/stable/user_install.html\">Jupyter\n",
       "  Widgets Documentation</a> for setup instructions.\n",
       "</p>\n",
       "<p>\n",
       "  If you're reading this message in another frontend (for example, a static\n",
       "  rendering on GitHub or <a href=\"https://nbviewer.jupyter.org/\">NBViewer</a>),\n",
       "  it may mean that your frontend doesn't currently support widgets.\n",
       "</p>\n"
      ],
      "text/plain": [
       "HBox(children=(IntProgress(value=0, max=1), HTML(value='')))"
      ]
     },
     "metadata": {},
     "output_type": "display_data"
    },
    {
     "name": "stdout",
     "output_type": "stream",
     "text": [
      "\n"
     ]
    },
    {
     "data": {
      "application/vnd.jupyter.widget-view+json": {
       "model_id": "0344da98990b40beae761bdd401914c4",
       "version_major": 2,
       "version_minor": 0
      },
      "text/html": [
       "<p>Failed to display Jupyter Widget of type <code>HBox</code>.</p>\n",
       "<p>\n",
       "  If you're reading this message in the Jupyter Notebook or JupyterLab Notebook, it may mean\n",
       "  that the widgets JavaScript is still loading. If this message persists, it\n",
       "  likely means that the widgets JavaScript library is either not installed or\n",
       "  not enabled. See the <a href=\"https://ipywidgets.readthedocs.io/en/stable/user_install.html\">Jupyter\n",
       "  Widgets Documentation</a> for setup instructions.\n",
       "</p>\n",
       "<p>\n",
       "  If you're reading this message in another frontend (for example, a static\n",
       "  rendering on GitHub or <a href=\"https://nbviewer.jupyter.org/\">NBViewer</a>),\n",
       "  it may mean that your frontend doesn't currently support widgets.\n",
       "</p>\n"
      ],
      "text/plain": [
       "HBox(children=(IntProgress(value=0, max=1), HTML(value='')))"
      ]
     },
     "metadata": {},
     "output_type": "display_data"
    },
    {
     "name": "stdout",
     "output_type": "stream",
     "text": [
      "\n"
     ]
    },
    {
     "data": {
      "application/vnd.jupyter.widget-view+json": {
       "model_id": "6bf6bb293b804bc3b09037b3ef45bd4d",
       "version_major": 2,
       "version_minor": 0
      },
      "text/html": [
       "<p>Failed to display Jupyter Widget of type <code>HBox</code>.</p>\n",
       "<p>\n",
       "  If you're reading this message in the Jupyter Notebook or JupyterLab Notebook, it may mean\n",
       "  that the widgets JavaScript is still loading. If this message persists, it\n",
       "  likely means that the widgets JavaScript library is either not installed or\n",
       "  not enabled. See the <a href=\"https://ipywidgets.readthedocs.io/en/stable/user_install.html\">Jupyter\n",
       "  Widgets Documentation</a> for setup instructions.\n",
       "</p>\n",
       "<p>\n",
       "  If you're reading this message in another frontend (for example, a static\n",
       "  rendering on GitHub or <a href=\"https://nbviewer.jupyter.org/\">NBViewer</a>),\n",
       "  it may mean that your frontend doesn't currently support widgets.\n",
       "</p>\n"
      ],
      "text/plain": [
       "HBox(children=(IntProgress(value=0, max=1), HTML(value='')))"
      ]
     },
     "metadata": {},
     "output_type": "display_data"
    },
    {
     "name": "stdout",
     "output_type": "stream",
     "text": [
      "\n"
     ]
    },
    {
     "data": {
      "application/vnd.jupyter.widget-view+json": {
       "model_id": "1d8d67e9b1da4dcd8e4e6b9f35d16d8f",
       "version_major": 2,
       "version_minor": 0
      },
      "text/html": [
       "<p>Failed to display Jupyter Widget of type <code>HBox</code>.</p>\n",
       "<p>\n",
       "  If you're reading this message in the Jupyter Notebook or JupyterLab Notebook, it may mean\n",
       "  that the widgets JavaScript is still loading. If this message persists, it\n",
       "  likely means that the widgets JavaScript library is either not installed or\n",
       "  not enabled. See the <a href=\"https://ipywidgets.readthedocs.io/en/stable/user_install.html\">Jupyter\n",
       "  Widgets Documentation</a> for setup instructions.\n",
       "</p>\n",
       "<p>\n",
       "  If you're reading this message in another frontend (for example, a static\n",
       "  rendering on GitHub or <a href=\"https://nbviewer.jupyter.org/\">NBViewer</a>),\n",
       "  it may mean that your frontend doesn't currently support widgets.\n",
       "</p>\n"
      ],
      "text/plain": [
       "HBox(children=(IntProgress(value=0, max=1), HTML(value='')))"
      ]
     },
     "metadata": {},
     "output_type": "display_data"
    },
    {
     "name": "stdout",
     "output_type": "stream",
     "text": [
      "\n",
      "==== Performance Check === \n",
      "\t Train Loss =  4.590173244476318\n",
      "\t Dev Loss =  5.062111854553223\n",
      "\t Train BLEU =  0.0016390543\n",
      "\t Dev BLEU =  0.0016390543\n"
     ]
    },
    {
     "data": {
      "application/vnd.jupyter.widget-view+json": {
       "model_id": "aef5c47886854ec795ce38c87c4317a5",
       "version_major": 2,
       "version_minor": 0
      },
      "text/html": [
       "<p>Failed to display Jupyter Widget of type <code>HBox</code>.</p>\n",
       "<p>\n",
       "  If you're reading this message in the Jupyter Notebook or JupyterLab Notebook, it may mean\n",
       "  that the widgets JavaScript is still loading. If this message persists, it\n",
       "  likely means that the widgets JavaScript library is either not installed or\n",
       "  not enabled. See the <a href=\"https://ipywidgets.readthedocs.io/en/stable/user_install.html\">Jupyter\n",
       "  Widgets Documentation</a> for setup instructions.\n",
       "</p>\n",
       "<p>\n",
       "  If you're reading this message in another frontend (for example, a static\n",
       "  rendering on GitHub or <a href=\"https://nbviewer.jupyter.org/\">NBViewer</a>),\n",
       "  it may mean that your frontend doesn't currently support widgets.\n",
       "</p>\n"
      ],
      "text/plain": [
       "HBox(children=(IntProgress(value=0, max=1), HTML(value='')))"
      ]
     },
     "metadata": {},
     "output_type": "display_data"
    },
    {
     "name": "stdout",
     "output_type": "stream",
     "text": [
      "\n"
     ]
    },
    {
     "data": {
      "application/vnd.jupyter.widget-view+json": {
       "model_id": "d75f2227fc124d028744710439e40cf9",
       "version_major": 2,
       "version_minor": 0
      },
      "text/html": [
       "<p>Failed to display Jupyter Widget of type <code>HBox</code>.</p>\n",
       "<p>\n",
       "  If you're reading this message in the Jupyter Notebook or JupyterLab Notebook, it may mean\n",
       "  that the widgets JavaScript is still loading. If this message persists, it\n",
       "  likely means that the widgets JavaScript library is either not installed or\n",
       "  not enabled. See the <a href=\"https://ipywidgets.readthedocs.io/en/stable/user_install.html\">Jupyter\n",
       "  Widgets Documentation</a> for setup instructions.\n",
       "</p>\n",
       "<p>\n",
       "  If you're reading this message in another frontend (for example, a static\n",
       "  rendering on GitHub or <a href=\"https://nbviewer.jupyter.org/\">NBViewer</a>),\n",
       "  it may mean that your frontend doesn't currently support widgets.\n",
       "</p>\n"
      ],
      "text/plain": [
       "HBox(children=(IntProgress(value=0, max=1), HTML(value='')))"
      ]
     },
     "metadata": {},
     "output_type": "display_data"
    },
    {
     "name": "stdout",
     "output_type": "stream",
     "text": [
      "\n"
     ]
    },
    {
     "data": {
      "application/vnd.jupyter.widget-view+json": {
       "model_id": "98e9afa644704f44ac9bc07dfb9300a5",
       "version_major": 2,
       "version_minor": 0
      },
      "text/html": [
       "<p>Failed to display Jupyter Widget of type <code>HBox</code>.</p>\n",
       "<p>\n",
       "  If you're reading this message in the Jupyter Notebook or JupyterLab Notebook, it may mean\n",
       "  that the widgets JavaScript is still loading. If this message persists, it\n",
       "  likely means that the widgets JavaScript library is either not installed or\n",
       "  not enabled. See the <a href=\"https://ipywidgets.readthedocs.io/en/stable/user_install.html\">Jupyter\n",
       "  Widgets Documentation</a> for setup instructions.\n",
       "</p>\n",
       "<p>\n",
       "  If you're reading this message in another frontend (for example, a static\n",
       "  rendering on GitHub or <a href=\"https://nbviewer.jupyter.org/\">NBViewer</a>),\n",
       "  it may mean that your frontend doesn't currently support widgets.\n",
       "</p>\n"
      ],
      "text/plain": [
       "HBox(children=(IntProgress(value=0, max=1), HTML(value='')))"
      ]
     },
     "metadata": {},
     "output_type": "display_data"
    },
    {
     "name": "stdout",
     "output_type": "stream",
     "text": [
      "\n"
     ]
    },
    {
     "data": {
      "application/vnd.jupyter.widget-view+json": {
       "model_id": "cffe6843c723444e9c3b65e6f6608621",
       "version_major": 2,
       "version_minor": 0
      },
      "text/html": [
       "<p>Failed to display Jupyter Widget of type <code>HBox</code>.</p>\n",
       "<p>\n",
       "  If you're reading this message in the Jupyter Notebook or JupyterLab Notebook, it may mean\n",
       "  that the widgets JavaScript is still loading. If this message persists, it\n",
       "  likely means that the widgets JavaScript library is either not installed or\n",
       "  not enabled. See the <a href=\"https://ipywidgets.readthedocs.io/en/stable/user_install.html\">Jupyter\n",
       "  Widgets Documentation</a> for setup instructions.\n",
       "</p>\n",
       "<p>\n",
       "  If you're reading this message in another frontend (for example, a static\n",
       "  rendering on GitHub or <a href=\"https://nbviewer.jupyter.org/\">NBViewer</a>),\n",
       "  it may mean that your frontend doesn't currently support widgets.\n",
       "</p>\n"
      ],
      "text/plain": [
       "HBox(children=(IntProgress(value=0, max=1), HTML(value='')))"
      ]
     },
     "metadata": {},
     "output_type": "display_data"
    },
    {
     "name": "stdout",
     "output_type": "stream",
     "text": [
      "\n"
     ]
    },
    {
     "data": {
      "application/vnd.jupyter.widget-view+json": {
       "model_id": "fb1d5f5d9c2640459fbc7fdf597aee88",
       "version_major": 2,
       "version_minor": 0
      },
      "text/html": [
       "<p>Failed to display Jupyter Widget of type <code>HBox</code>.</p>\n",
       "<p>\n",
       "  If you're reading this message in the Jupyter Notebook or JupyterLab Notebook, it may mean\n",
       "  that the widgets JavaScript is still loading. If this message persists, it\n",
       "  likely means that the widgets JavaScript library is either not installed or\n",
       "  not enabled. See the <a href=\"https://ipywidgets.readthedocs.io/en/stable/user_install.html\">Jupyter\n",
       "  Widgets Documentation</a> for setup instructions.\n",
       "</p>\n",
       "<p>\n",
       "  If you're reading this message in another frontend (for example, a static\n",
       "  rendering on GitHub or <a href=\"https://nbviewer.jupyter.org/\">NBViewer</a>),\n",
       "  it may mean that your frontend doesn't currently support widgets.\n",
       "</p>\n"
      ],
      "text/plain": [
       "HBox(children=(IntProgress(value=0, max=1), HTML(value='')))"
      ]
     },
     "metadata": {},
     "output_type": "display_data"
    },
    {
     "name": "stdout",
     "output_type": "stream",
     "text": [
      "\n",
      "==== Performance Check === \n",
      "\t Train Loss =  3.51829195022583\n",
      "\t Dev Loss =  5.00911808013916\n",
      "\t Train BLEU =  0.0016390543\n",
      "\t Dev BLEU =  0.00081952714\n"
     ]
    },
    {
     "data": {
      "application/vnd.jupyter.widget-view+json": {
       "model_id": "c000708e703e471fa5578f114cf55746",
       "version_major": 2,
       "version_minor": 0
      },
      "text/html": [
       "<p>Failed to display Jupyter Widget of type <code>HBox</code>.</p>\n",
       "<p>\n",
       "  If you're reading this message in the Jupyter Notebook or JupyterLab Notebook, it may mean\n",
       "  that the widgets JavaScript is still loading. If this message persists, it\n",
       "  likely means that the widgets JavaScript library is either not installed or\n",
       "  not enabled. See the <a href=\"https://ipywidgets.readthedocs.io/en/stable/user_install.html\">Jupyter\n",
       "  Widgets Documentation</a> for setup instructions.\n",
       "</p>\n",
       "<p>\n",
       "  If you're reading this message in another frontend (for example, a static\n",
       "  rendering on GitHub or <a href=\"https://nbviewer.jupyter.org/\">NBViewer</a>),\n",
       "  it may mean that your frontend doesn't currently support widgets.\n",
       "</p>\n"
      ],
      "text/plain": [
       "HBox(children=(IntProgress(value=0, max=1), HTML(value='')))"
      ]
     },
     "metadata": {},
     "output_type": "display_data"
    },
    {
     "name": "stdout",
     "output_type": "stream",
     "text": [
      "\n"
     ]
    },
    {
     "data": {
      "application/vnd.jupyter.widget-view+json": {
       "model_id": "be35348de28a4dea89d8108f35b77ec8",
       "version_major": 2,
       "version_minor": 0
      },
      "text/html": [
       "<p>Failed to display Jupyter Widget of type <code>HBox</code>.</p>\n",
       "<p>\n",
       "  If you're reading this message in the Jupyter Notebook or JupyterLab Notebook, it may mean\n",
       "  that the widgets JavaScript is still loading. If this message persists, it\n",
       "  likely means that the widgets JavaScript library is either not installed or\n",
       "  not enabled. See the <a href=\"https://ipywidgets.readthedocs.io/en/stable/user_install.html\">Jupyter\n",
       "  Widgets Documentation</a> for setup instructions.\n",
       "</p>\n",
       "<p>\n",
       "  If you're reading this message in another frontend (for example, a static\n",
       "  rendering on GitHub or <a href=\"https://nbviewer.jupyter.org/\">NBViewer</a>),\n",
       "  it may mean that your frontend doesn't currently support widgets.\n",
       "</p>\n"
      ],
      "text/plain": [
       "HBox(children=(IntProgress(value=0, max=1), HTML(value='')))"
      ]
     },
     "metadata": {},
     "output_type": "display_data"
    },
    {
     "name": "stdout",
     "output_type": "stream",
     "text": [
      "\n"
     ]
    },
    {
     "data": {
      "application/vnd.jupyter.widget-view+json": {
       "model_id": "1bbd7c976b9c4035958b11a89d629fbe",
       "version_major": 2,
       "version_minor": 0
      },
      "text/html": [
       "<p>Failed to display Jupyter Widget of type <code>HBox</code>.</p>\n",
       "<p>\n",
       "  If you're reading this message in the Jupyter Notebook or JupyterLab Notebook, it may mean\n",
       "  that the widgets JavaScript is still loading. If this message persists, it\n",
       "  likely means that the widgets JavaScript library is either not installed or\n",
       "  not enabled. See the <a href=\"https://ipywidgets.readthedocs.io/en/stable/user_install.html\">Jupyter\n",
       "  Widgets Documentation</a> for setup instructions.\n",
       "</p>\n",
       "<p>\n",
       "  If you're reading this message in another frontend (for example, a static\n",
       "  rendering on GitHub or <a href=\"https://nbviewer.jupyter.org/\">NBViewer</a>),\n",
       "  it may mean that your frontend doesn't currently support widgets.\n",
       "</p>\n"
      ],
      "text/plain": [
       "HBox(children=(IntProgress(value=0, max=1), HTML(value='')))"
      ]
     },
     "metadata": {},
     "output_type": "display_data"
    },
    {
     "name": "stdout",
     "output_type": "stream",
     "text": [
      "\n"
     ]
    },
    {
     "data": {
      "application/vnd.jupyter.widget-view+json": {
       "model_id": "6457bfbe930544f48730e524578a9082",
       "version_major": 2,
       "version_minor": 0
      },
      "text/html": [
       "<p>Failed to display Jupyter Widget of type <code>HBox</code>.</p>\n",
       "<p>\n",
       "  If you're reading this message in the Jupyter Notebook or JupyterLab Notebook, it may mean\n",
       "  that the widgets JavaScript is still loading. If this message persists, it\n",
       "  likely means that the widgets JavaScript library is either not installed or\n",
       "  not enabled. See the <a href=\"https://ipywidgets.readthedocs.io/en/stable/user_install.html\">Jupyter\n",
       "  Widgets Documentation</a> for setup instructions.\n",
       "</p>\n",
       "<p>\n",
       "  If you're reading this message in another frontend (for example, a static\n",
       "  rendering on GitHub or <a href=\"https://nbviewer.jupyter.org/\">NBViewer</a>),\n",
       "  it may mean that your frontend doesn't currently support widgets.\n",
       "</p>\n"
      ],
      "text/plain": [
       "HBox(children=(IntProgress(value=0, max=1), HTML(value='')))"
      ]
     },
     "metadata": {},
     "output_type": "display_data"
    },
    {
     "name": "stdout",
     "output_type": "stream",
     "text": [
      "\n"
     ]
    },
    {
     "data": {
      "application/vnd.jupyter.widget-view+json": {
       "model_id": "bdfec3a0ea584baab552c5eff88eee7f",
       "version_major": 2,
       "version_minor": 0
      },
      "text/html": [
       "<p>Failed to display Jupyter Widget of type <code>HBox</code>.</p>\n",
       "<p>\n",
       "  If you're reading this message in the Jupyter Notebook or JupyterLab Notebook, it may mean\n",
       "  that the widgets JavaScript is still loading. If this message persists, it\n",
       "  likely means that the widgets JavaScript library is either not installed or\n",
       "  not enabled. See the <a href=\"https://ipywidgets.readthedocs.io/en/stable/user_install.html\">Jupyter\n",
       "  Widgets Documentation</a> for setup instructions.\n",
       "</p>\n",
       "<p>\n",
       "  If you're reading this message in another frontend (for example, a static\n",
       "  rendering on GitHub or <a href=\"https://nbviewer.jupyter.org/\">NBViewer</a>),\n",
       "  it may mean that your frontend doesn't currently support widgets.\n",
       "</p>\n"
      ],
      "text/plain": [
       "HBox(children=(IntProgress(value=0, max=1), HTML(value='')))"
      ]
     },
     "metadata": {},
     "output_type": "display_data"
    },
    {
     "name": "stdout",
     "output_type": "stream",
     "text": [
      "\n",
      "==== Performance Check === \n",
      "\t Train Loss =  3.0886123180389404\n",
      "\t Dev Loss =  6.03033447265625\n",
      "\t Train BLEU =  0.00081952714\n",
      "\t Dev BLEU =  0.00081952714\n"
     ]
    },
    {
     "data": {
      "application/vnd.jupyter.widget-view+json": {
       "model_id": "2fe2507aa8d44760aa7c54d351006ca8",
       "version_major": 2,
       "version_minor": 0
      },
      "text/html": [
       "<p>Failed to display Jupyter Widget of type <code>HBox</code>.</p>\n",
       "<p>\n",
       "  If you're reading this message in the Jupyter Notebook or JupyterLab Notebook, it may mean\n",
       "  that the widgets JavaScript is still loading. If this message persists, it\n",
       "  likely means that the widgets JavaScript library is either not installed or\n",
       "  not enabled. See the <a href=\"https://ipywidgets.readthedocs.io/en/stable/user_install.html\">Jupyter\n",
       "  Widgets Documentation</a> for setup instructions.\n",
       "</p>\n",
       "<p>\n",
       "  If you're reading this message in another frontend (for example, a static\n",
       "  rendering on GitHub or <a href=\"https://nbviewer.jupyter.org/\">NBViewer</a>),\n",
       "  it may mean that your frontend doesn't currently support widgets.\n",
       "</p>\n"
      ],
      "text/plain": [
       "HBox(children=(IntProgress(value=0, max=1), HTML(value='')))"
      ]
     },
     "metadata": {},
     "output_type": "display_data"
    },
    {
     "name": "stdout",
     "output_type": "stream",
     "text": [
      "\n"
     ]
    },
    {
     "data": {
      "application/vnd.jupyter.widget-view+json": {
       "model_id": "2911d24f3b6d4230b216670fec984f1e",
       "version_major": 2,
       "version_minor": 0
      },
      "text/html": [
       "<p>Failed to display Jupyter Widget of type <code>HBox</code>.</p>\n",
       "<p>\n",
       "  If you're reading this message in the Jupyter Notebook or JupyterLab Notebook, it may mean\n",
       "  that the widgets JavaScript is still loading. If this message persists, it\n",
       "  likely means that the widgets JavaScript library is either not installed or\n",
       "  not enabled. See the <a href=\"https://ipywidgets.readthedocs.io/en/stable/user_install.html\">Jupyter\n",
       "  Widgets Documentation</a> for setup instructions.\n",
       "</p>\n",
       "<p>\n",
       "  If you're reading this message in another frontend (for example, a static\n",
       "  rendering on GitHub or <a href=\"https://nbviewer.jupyter.org/\">NBViewer</a>),\n",
       "  it may mean that your frontend doesn't currently support widgets.\n",
       "</p>\n"
      ],
      "text/plain": [
       "HBox(children=(IntProgress(value=0, max=1), HTML(value='')))"
      ]
     },
     "metadata": {},
     "output_type": "display_data"
    },
    {
     "name": "stdout",
     "output_type": "stream",
     "text": [
      "\n"
     ]
    },
    {
     "data": {
      "application/vnd.jupyter.widget-view+json": {
       "model_id": "5e764529be34433ba99b0e6ff92f724b",
       "version_major": 2,
       "version_minor": 0
      },
      "text/html": [
       "<p>Failed to display Jupyter Widget of type <code>HBox</code>.</p>\n",
       "<p>\n",
       "  If you're reading this message in the Jupyter Notebook or JupyterLab Notebook, it may mean\n",
       "  that the widgets JavaScript is still loading. If this message persists, it\n",
       "  likely means that the widgets JavaScript library is either not installed or\n",
       "  not enabled. See the <a href=\"https://ipywidgets.readthedocs.io/en/stable/user_install.html\">Jupyter\n",
       "  Widgets Documentation</a> for setup instructions.\n",
       "</p>\n",
       "<p>\n",
       "  If you're reading this message in another frontend (for example, a static\n",
       "  rendering on GitHub or <a href=\"https://nbviewer.jupyter.org/\">NBViewer</a>),\n",
       "  it may mean that your frontend doesn't currently support widgets.\n",
       "</p>\n"
      ],
      "text/plain": [
       "HBox(children=(IntProgress(value=0, max=1), HTML(value='')))"
      ]
     },
     "metadata": {},
     "output_type": "display_data"
    },
    {
     "name": "stdout",
     "output_type": "stream",
     "text": [
      "\n"
     ]
    },
    {
     "data": {
      "application/vnd.jupyter.widget-view+json": {
       "model_id": "7fff1806a01b45bea307fbcd3fc3bd28",
       "version_major": 2,
       "version_minor": 0
      },
      "text/html": [
       "<p>Failed to display Jupyter Widget of type <code>HBox</code>.</p>\n",
       "<p>\n",
       "  If you're reading this message in the Jupyter Notebook or JupyterLab Notebook, it may mean\n",
       "  that the widgets JavaScript is still loading. If this message persists, it\n",
       "  likely means that the widgets JavaScript library is either not installed or\n",
       "  not enabled. See the <a href=\"https://ipywidgets.readthedocs.io/en/stable/user_install.html\">Jupyter\n",
       "  Widgets Documentation</a> for setup instructions.\n",
       "</p>\n",
       "<p>\n",
       "  If you're reading this message in another frontend (for example, a static\n",
       "  rendering on GitHub or <a href=\"https://nbviewer.jupyter.org/\">NBViewer</a>),\n",
       "  it may mean that your frontend doesn't currently support widgets.\n",
       "</p>\n"
      ],
      "text/plain": [
       "HBox(children=(IntProgress(value=0, max=1), HTML(value='')))"
      ]
     },
     "metadata": {},
     "output_type": "display_data"
    },
    {
     "name": "stdout",
     "output_type": "stream",
     "text": [
      "\n"
     ]
    },
    {
     "data": {
      "application/vnd.jupyter.widget-view+json": {
       "model_id": "cd0caf30bdb744e287e82b678777c1ee",
       "version_major": 2,
       "version_minor": 0
      },
      "text/html": [
       "<p>Failed to display Jupyter Widget of type <code>HBox</code>.</p>\n",
       "<p>\n",
       "  If you're reading this message in the Jupyter Notebook or JupyterLab Notebook, it may mean\n",
       "  that the widgets JavaScript is still loading. If this message persists, it\n",
       "  likely means that the widgets JavaScript library is either not installed or\n",
       "  not enabled. See the <a href=\"https://ipywidgets.readthedocs.io/en/stable/user_install.html\">Jupyter\n",
       "  Widgets Documentation</a> for setup instructions.\n",
       "</p>\n",
       "<p>\n",
       "  If you're reading this message in another frontend (for example, a static\n",
       "  rendering on GitHub or <a href=\"https://nbviewer.jupyter.org/\">NBViewer</a>),\n",
       "  it may mean that your frontend doesn't currently support widgets.\n",
       "</p>\n"
      ],
      "text/plain": [
       "HBox(children=(IntProgress(value=0, max=1), HTML(value='')))"
      ]
     },
     "metadata": {},
     "output_type": "display_data"
    },
    {
     "name": "stdout",
     "output_type": "stream",
     "text": [
      "\n",
      "==== Performance Check === \n",
      "\t Train Loss =  3.005519151687622\n",
      "\t Dev Loss =  6.12349271774292\n",
      "\t Train BLEU =  0.00081952714\n",
      "\t Dev BLEU =  0.00081952714\n"
     ]
    },
    {
     "data": {
      "application/vnd.jupyter.widget-view+json": {
       "model_id": "9ffda179e9ce4e34aae8269e2fa753aa",
       "version_major": 2,
       "version_minor": 0
      },
      "text/html": [
       "<p>Failed to display Jupyter Widget of type <code>HBox</code>.</p>\n",
       "<p>\n",
       "  If you're reading this message in the Jupyter Notebook or JupyterLab Notebook, it may mean\n",
       "  that the widgets JavaScript is still loading. If this message persists, it\n",
       "  likely means that the widgets JavaScript library is either not installed or\n",
       "  not enabled. See the <a href=\"https://ipywidgets.readthedocs.io/en/stable/user_install.html\">Jupyter\n",
       "  Widgets Documentation</a> for setup instructions.\n",
       "</p>\n",
       "<p>\n",
       "  If you're reading this message in another frontend (for example, a static\n",
       "  rendering on GitHub or <a href=\"https://nbviewer.jupyter.org/\">NBViewer</a>),\n",
       "  it may mean that your frontend doesn't currently support widgets.\n",
       "</p>\n"
      ],
      "text/plain": [
       "HBox(children=(IntProgress(value=0, max=1), HTML(value='')))"
      ]
     },
     "metadata": {},
     "output_type": "display_data"
    },
    {
     "name": "stdout",
     "output_type": "stream",
     "text": [
      "\n"
     ]
    },
    {
     "data": {
      "application/vnd.jupyter.widget-view+json": {
       "model_id": "27491948dee149bcb5a5f5212b4e9069",
       "version_major": 2,
       "version_minor": 0
      },
      "text/html": [
       "<p>Failed to display Jupyter Widget of type <code>HBox</code>.</p>\n",
       "<p>\n",
       "  If you're reading this message in the Jupyter Notebook or JupyterLab Notebook, it may mean\n",
       "  that the widgets JavaScript is still loading. If this message persists, it\n",
       "  likely means that the widgets JavaScript library is either not installed or\n",
       "  not enabled. See the <a href=\"https://ipywidgets.readthedocs.io/en/stable/user_install.html\">Jupyter\n",
       "  Widgets Documentation</a> for setup instructions.\n",
       "</p>\n",
       "<p>\n",
       "  If you're reading this message in another frontend (for example, a static\n",
       "  rendering on GitHub or <a href=\"https://nbviewer.jupyter.org/\">NBViewer</a>),\n",
       "  it may mean that your frontend doesn't currently support widgets.\n",
       "</p>\n"
      ],
      "text/plain": [
       "HBox(children=(IntProgress(value=0, max=1), HTML(value='')))"
      ]
     },
     "metadata": {},
     "output_type": "display_data"
    },
    {
     "name": "stdout",
     "output_type": "stream",
     "text": [
      "\n"
     ]
    },
    {
     "data": {
      "application/vnd.jupyter.widget-view+json": {
       "model_id": "fde3c6cbc82b46e689ec7d3387427e5c",
       "version_major": 2,
       "version_minor": 0
      },
      "text/html": [
       "<p>Failed to display Jupyter Widget of type <code>HBox</code>.</p>\n",
       "<p>\n",
       "  If you're reading this message in the Jupyter Notebook or JupyterLab Notebook, it may mean\n",
       "  that the widgets JavaScript is still loading. If this message persists, it\n",
       "  likely means that the widgets JavaScript library is either not installed or\n",
       "  not enabled. See the <a href=\"https://ipywidgets.readthedocs.io/en/stable/user_install.html\">Jupyter\n",
       "  Widgets Documentation</a> for setup instructions.\n",
       "</p>\n",
       "<p>\n",
       "  If you're reading this message in another frontend (for example, a static\n",
       "  rendering on GitHub or <a href=\"https://nbviewer.jupyter.org/\">NBViewer</a>),\n",
       "  it may mean that your frontend doesn't currently support widgets.\n",
       "</p>\n"
      ],
      "text/plain": [
       "HBox(children=(IntProgress(value=0, max=1), HTML(value='')))"
      ]
     },
     "metadata": {},
     "output_type": "display_data"
    },
    {
     "name": "stdout",
     "output_type": "stream",
     "text": [
      "\n"
     ]
    },
    {
     "data": {
      "application/vnd.jupyter.widget-view+json": {
       "model_id": "2420134ae4914874b31d87dfef991046",
       "version_major": 2,
       "version_minor": 0
      },
      "text/html": [
       "<p>Failed to display Jupyter Widget of type <code>HBox</code>.</p>\n",
       "<p>\n",
       "  If you're reading this message in the Jupyter Notebook or JupyterLab Notebook, it may mean\n",
       "  that the widgets JavaScript is still loading. If this message persists, it\n",
       "  likely means that the widgets JavaScript library is either not installed or\n",
       "  not enabled. See the <a href=\"https://ipywidgets.readthedocs.io/en/stable/user_install.html\">Jupyter\n",
       "  Widgets Documentation</a> for setup instructions.\n",
       "</p>\n",
       "<p>\n",
       "  If you're reading this message in another frontend (for example, a static\n",
       "  rendering on GitHub or <a href=\"https://nbviewer.jupyter.org/\">NBViewer</a>),\n",
       "  it may mean that your frontend doesn't currently support widgets.\n",
       "</p>\n"
      ],
      "text/plain": [
       "HBox(children=(IntProgress(value=0, max=1), HTML(value='')))"
      ]
     },
     "metadata": {},
     "output_type": "display_data"
    },
    {
     "name": "stdout",
     "output_type": "stream",
     "text": [
      "\n"
     ]
    },
    {
     "data": {
      "application/vnd.jupyter.widget-view+json": {
       "model_id": "cddd0143d65e4a18bafac543c6a47e11",
       "version_major": 2,
       "version_minor": 0
      },
      "text/html": [
       "<p>Failed to display Jupyter Widget of type <code>HBox</code>.</p>\n",
       "<p>\n",
       "  If you're reading this message in the Jupyter Notebook or JupyterLab Notebook, it may mean\n",
       "  that the widgets JavaScript is still loading. If this message persists, it\n",
       "  likely means that the widgets JavaScript library is either not installed or\n",
       "  not enabled. See the <a href=\"https://ipywidgets.readthedocs.io/en/stable/user_install.html\">Jupyter\n",
       "  Widgets Documentation</a> for setup instructions.\n",
       "</p>\n",
       "<p>\n",
       "  If you're reading this message in another frontend (for example, a static\n",
       "  rendering on GitHub or <a href=\"https://nbviewer.jupyter.org/\">NBViewer</a>),\n",
       "  it may mean that your frontend doesn't currently support widgets.\n",
       "</p>\n"
      ],
      "text/plain": [
       "HBox(children=(IntProgress(value=0, max=1), HTML(value='')))"
      ]
     },
     "metadata": {},
     "output_type": "display_data"
    },
    {
     "name": "stdout",
     "output_type": "stream",
     "text": [
      "\n",
      "==== Performance Check === \n",
      "\t Train Loss =  2.9338293075561523\n",
      "\t Dev Loss =  6.604465961456299\n",
      "\t Train BLEU =  0.0017941146\n",
      "\t Dev BLEU =  0.0017165844\n"
     ]
    },
    {
     "data": {
      "application/vnd.jupyter.widget-view+json": {
       "model_id": "c1fe7a4aa6c44fb29646b8ec62ba8c06",
       "version_major": 2,
       "version_minor": 0
      },
      "text/html": [
       "<p>Failed to display Jupyter Widget of type <code>HBox</code>.</p>\n",
       "<p>\n",
       "  If you're reading this message in the Jupyter Notebook or JupyterLab Notebook, it may mean\n",
       "  that the widgets JavaScript is still loading. If this message persists, it\n",
       "  likely means that the widgets JavaScript library is either not installed or\n",
       "  not enabled. See the <a href=\"https://ipywidgets.readthedocs.io/en/stable/user_install.html\">Jupyter\n",
       "  Widgets Documentation</a> for setup instructions.\n",
       "</p>\n",
       "<p>\n",
       "  If you're reading this message in another frontend (for example, a static\n",
       "  rendering on GitHub or <a href=\"https://nbviewer.jupyter.org/\">NBViewer</a>),\n",
       "  it may mean that your frontend doesn't currently support widgets.\n",
       "</p>\n"
      ],
      "text/plain": [
       "HBox(children=(IntProgress(value=0, max=1), HTML(value='')))"
      ]
     },
     "metadata": {},
     "output_type": "display_data"
    },
    {
     "name": "stdout",
     "output_type": "stream",
     "text": [
      "\n"
     ]
    },
    {
     "data": {
      "application/vnd.jupyter.widget-view+json": {
       "model_id": "8732e552043747719b0ee2771d44b18e",
       "version_major": 2,
       "version_minor": 0
      },
      "text/html": [
       "<p>Failed to display Jupyter Widget of type <code>HBox</code>.</p>\n",
       "<p>\n",
       "  If you're reading this message in the Jupyter Notebook or JupyterLab Notebook, it may mean\n",
       "  that the widgets JavaScript is still loading. If this message persists, it\n",
       "  likely means that the widgets JavaScript library is either not installed or\n",
       "  not enabled. See the <a href=\"https://ipywidgets.readthedocs.io/en/stable/user_install.html\">Jupyter\n",
       "  Widgets Documentation</a> for setup instructions.\n",
       "</p>\n",
       "<p>\n",
       "  If you're reading this message in another frontend (for example, a static\n",
       "  rendering on GitHub or <a href=\"https://nbviewer.jupyter.org/\">NBViewer</a>),\n",
       "  it may mean that your frontend doesn't currently support widgets.\n",
       "</p>\n"
      ],
      "text/plain": [
       "HBox(children=(IntProgress(value=0, max=1), HTML(value='')))"
      ]
     },
     "metadata": {},
     "output_type": "display_data"
    },
    {
     "name": "stdout",
     "output_type": "stream",
     "text": [
      "\n"
     ]
    },
    {
     "data": {
      "application/vnd.jupyter.widget-view+json": {
       "model_id": "aea68447e0194f12b03049883ab2f055",
       "version_major": 2,
       "version_minor": 0
      },
      "text/html": [
       "<p>Failed to display Jupyter Widget of type <code>HBox</code>.</p>\n",
       "<p>\n",
       "  If you're reading this message in the Jupyter Notebook or JupyterLab Notebook, it may mean\n",
       "  that the widgets JavaScript is still loading. If this message persists, it\n",
       "  likely means that the widgets JavaScript library is either not installed or\n",
       "  not enabled. See the <a href=\"https://ipywidgets.readthedocs.io/en/stable/user_install.html\">Jupyter\n",
       "  Widgets Documentation</a> for setup instructions.\n",
       "</p>\n",
       "<p>\n",
       "  If you're reading this message in another frontend (for example, a static\n",
       "  rendering on GitHub or <a href=\"https://nbviewer.jupyter.org/\">NBViewer</a>),\n",
       "  it may mean that your frontend doesn't currently support widgets.\n",
       "</p>\n"
      ],
      "text/plain": [
       "HBox(children=(IntProgress(value=0, max=1), HTML(value='')))"
      ]
     },
     "metadata": {},
     "output_type": "display_data"
    },
    {
     "name": "stdout",
     "output_type": "stream",
     "text": [
      "\n"
     ]
    },
    {
     "data": {
      "application/vnd.jupyter.widget-view+json": {
       "model_id": "fc84d6c69a0240d789b8424ee23af346",
       "version_major": 2,
       "version_minor": 0
      },
      "text/html": [
       "<p>Failed to display Jupyter Widget of type <code>HBox</code>.</p>\n",
       "<p>\n",
       "  If you're reading this message in the Jupyter Notebook or JupyterLab Notebook, it may mean\n",
       "  that the widgets JavaScript is still loading. If this message persists, it\n",
       "  likely means that the widgets JavaScript library is either not installed or\n",
       "  not enabled. See the <a href=\"https://ipywidgets.readthedocs.io/en/stable/user_install.html\">Jupyter\n",
       "  Widgets Documentation</a> for setup instructions.\n",
       "</p>\n",
       "<p>\n",
       "  If you're reading this message in another frontend (for example, a static\n",
       "  rendering on GitHub or <a href=\"https://nbviewer.jupyter.org/\">NBViewer</a>),\n",
       "  it may mean that your frontend doesn't currently support widgets.\n",
       "</p>\n"
      ],
      "text/plain": [
       "HBox(children=(IntProgress(value=0, max=1), HTML(value='')))"
      ]
     },
     "metadata": {},
     "output_type": "display_data"
    },
    {
     "name": "stdout",
     "output_type": "stream",
     "text": [
      "\n"
     ]
    },
    {
     "data": {
      "application/vnd.jupyter.widget-view+json": {
       "model_id": "9dabbb77e5d74d4faf2aa68968d30bcf",
       "version_major": 2,
       "version_minor": 0
      },
      "text/html": [
       "<p>Failed to display Jupyter Widget of type <code>HBox</code>.</p>\n",
       "<p>\n",
       "  If you're reading this message in the Jupyter Notebook or JupyterLab Notebook, it may mean\n",
       "  that the widgets JavaScript is still loading. If this message persists, it\n",
       "  likely means that the widgets JavaScript library is either not installed or\n",
       "  not enabled. See the <a href=\"https://ipywidgets.readthedocs.io/en/stable/user_install.html\">Jupyter\n",
       "  Widgets Documentation</a> for setup instructions.\n",
       "</p>\n",
       "<p>\n",
       "  If you're reading this message in another frontend (for example, a static\n",
       "  rendering on GitHub or <a href=\"https://nbviewer.jupyter.org/\">NBViewer</a>),\n",
       "  it may mean that your frontend doesn't currently support widgets.\n",
       "</p>\n"
      ],
      "text/plain": [
       "HBox(children=(IntProgress(value=0, max=1), HTML(value='')))"
      ]
     },
     "metadata": {},
     "output_type": "display_data"
    },
    {
     "name": "stdout",
     "output_type": "stream",
     "text": [
      "\n",
      "==== Performance Check === \n",
      "\t Train Loss =  2.838155508041382\n",
      "\t Dev Loss =  6.6411333084106445\n",
      "\t Train BLEU =  0.008163356\n",
      "\t Dev BLEU =  0.009945463\n"
     ]
    },
    {
     "data": {
      "application/vnd.jupyter.widget-view+json": {
       "model_id": "0972146c06c74a5fb2f1079b6ae704a8",
       "version_major": 2,
       "version_minor": 0
      },
      "text/html": [
       "<p>Failed to display Jupyter Widget of type <code>HBox</code>.</p>\n",
       "<p>\n",
       "  If you're reading this message in the Jupyter Notebook or JupyterLab Notebook, it may mean\n",
       "  that the widgets JavaScript is still loading. If this message persists, it\n",
       "  likely means that the widgets JavaScript library is either not installed or\n",
       "  not enabled. See the <a href=\"https://ipywidgets.readthedocs.io/en/stable/user_install.html\">Jupyter\n",
       "  Widgets Documentation</a> for setup instructions.\n",
       "</p>\n",
       "<p>\n",
       "  If you're reading this message in another frontend (for example, a static\n",
       "  rendering on GitHub or <a href=\"https://nbviewer.jupyter.org/\">NBViewer</a>),\n",
       "  it may mean that your frontend doesn't currently support widgets.\n",
       "</p>\n"
      ],
      "text/plain": [
       "HBox(children=(IntProgress(value=0, max=1), HTML(value='')))"
      ]
     },
     "metadata": {},
     "output_type": "display_data"
    },
    {
     "name": "stdout",
     "output_type": "stream",
     "text": [
      "\n"
     ]
    },
    {
     "data": {
      "application/vnd.jupyter.widget-view+json": {
       "model_id": "b2a5e735bd174004b405edd5fb1730c8",
       "version_major": 2,
       "version_minor": 0
      },
      "text/html": [
       "<p>Failed to display Jupyter Widget of type <code>HBox</code>.</p>\n",
       "<p>\n",
       "  If you're reading this message in the Jupyter Notebook or JupyterLab Notebook, it may mean\n",
       "  that the widgets JavaScript is still loading. If this message persists, it\n",
       "  likely means that the widgets JavaScript library is either not installed or\n",
       "  not enabled. See the <a href=\"https://ipywidgets.readthedocs.io/en/stable/user_install.html\">Jupyter\n",
       "  Widgets Documentation</a> for setup instructions.\n",
       "</p>\n",
       "<p>\n",
       "  If you're reading this message in another frontend (for example, a static\n",
       "  rendering on GitHub or <a href=\"https://nbviewer.jupyter.org/\">NBViewer</a>),\n",
       "  it may mean that your frontend doesn't currently support widgets.\n",
       "</p>\n"
      ],
      "text/plain": [
       "HBox(children=(IntProgress(value=0, max=1), HTML(value='')))"
      ]
     },
     "metadata": {},
     "output_type": "display_data"
    },
    {
     "name": "stdout",
     "output_type": "stream",
     "text": [
      "\n"
     ]
    },
    {
     "data": {
      "application/vnd.jupyter.widget-view+json": {
       "model_id": "c828b6af241f43d68140ae7e63275d2c",
       "version_major": 2,
       "version_minor": 0
      },
      "text/html": [
       "<p>Failed to display Jupyter Widget of type <code>HBox</code>.</p>\n",
       "<p>\n",
       "  If you're reading this message in the Jupyter Notebook or JupyterLab Notebook, it may mean\n",
       "  that the widgets JavaScript is still loading. If this message persists, it\n",
       "  likely means that the widgets JavaScript library is either not installed or\n",
       "  not enabled. See the <a href=\"https://ipywidgets.readthedocs.io/en/stable/user_install.html\">Jupyter\n",
       "  Widgets Documentation</a> for setup instructions.\n",
       "</p>\n",
       "<p>\n",
       "  If you're reading this message in another frontend (for example, a static\n",
       "  rendering on GitHub or <a href=\"https://nbviewer.jupyter.org/\">NBViewer</a>),\n",
       "  it may mean that your frontend doesn't currently support widgets.\n",
       "</p>\n"
      ],
      "text/plain": [
       "HBox(children=(IntProgress(value=0, max=1), HTML(value='')))"
      ]
     },
     "metadata": {},
     "output_type": "display_data"
    },
    {
     "name": "stdout",
     "output_type": "stream",
     "text": [
      "\n"
     ]
    },
    {
     "data": {
      "application/vnd.jupyter.widget-view+json": {
       "model_id": "eca3fded59fb462d8c433918cf5c1f90",
       "version_major": 2,
       "version_minor": 0
      },
      "text/html": [
       "<p>Failed to display Jupyter Widget of type <code>HBox</code>.</p>\n",
       "<p>\n",
       "  If you're reading this message in the Jupyter Notebook or JupyterLab Notebook, it may mean\n",
       "  that the widgets JavaScript is still loading. If this message persists, it\n",
       "  likely means that the widgets JavaScript library is either not installed or\n",
       "  not enabled. See the <a href=\"https://ipywidgets.readthedocs.io/en/stable/user_install.html\">Jupyter\n",
       "  Widgets Documentation</a> for setup instructions.\n",
       "</p>\n",
       "<p>\n",
       "  If you're reading this message in another frontend (for example, a static\n",
       "  rendering on GitHub or <a href=\"https://nbviewer.jupyter.org/\">NBViewer</a>),\n",
       "  it may mean that your frontend doesn't currently support widgets.\n",
       "</p>\n"
      ],
      "text/plain": [
       "HBox(children=(IntProgress(value=0, max=1), HTML(value='')))"
      ]
     },
     "metadata": {},
     "output_type": "display_data"
    },
    {
     "name": "stdout",
     "output_type": "stream",
     "text": [
      "\n"
     ]
    },
    {
     "data": {
      "application/vnd.jupyter.widget-view+json": {
       "model_id": "ed531211cc6c4b71bc3e6eaf0cbe6545",
       "version_major": 2,
       "version_minor": 0
      },
      "text/html": [
       "<p>Failed to display Jupyter Widget of type <code>HBox</code>.</p>\n",
       "<p>\n",
       "  If you're reading this message in the Jupyter Notebook or JupyterLab Notebook, it may mean\n",
       "  that the widgets JavaScript is still loading. If this message persists, it\n",
       "  likely means that the widgets JavaScript library is either not installed or\n",
       "  not enabled. See the <a href=\"https://ipywidgets.readthedocs.io/en/stable/user_install.html\">Jupyter\n",
       "  Widgets Documentation</a> for setup instructions.\n",
       "</p>\n",
       "<p>\n",
       "  If you're reading this message in another frontend (for example, a static\n",
       "  rendering on GitHub or <a href=\"https://nbviewer.jupyter.org/\">NBViewer</a>),\n",
       "  it may mean that your frontend doesn't currently support widgets.\n",
       "</p>\n"
      ],
      "text/plain": [
       "HBox(children=(IntProgress(value=0, max=1), HTML(value='')))"
      ]
     },
     "metadata": {},
     "output_type": "display_data"
    },
    {
     "name": "stdout",
     "output_type": "stream",
     "text": [
      "\n",
      "==== Performance Check === \n",
      "\t Train Loss =  2.745424509048462\n",
      "\t Dev Loss =  6.759212493896484\n",
      "\t Train BLEU =  0.007849983\n",
      "\t Dev BLEU =  0.009117166\n"
     ]
    },
    {
     "data": {
      "application/vnd.jupyter.widget-view+json": {
       "model_id": "ddd87657c3db4442983e40cdb1321aed",
       "version_major": 2,
       "version_minor": 0
      },
      "text/html": [
       "<p>Failed to display Jupyter Widget of type <code>HBox</code>.</p>\n",
       "<p>\n",
       "  If you're reading this message in the Jupyter Notebook or JupyterLab Notebook, it may mean\n",
       "  that the widgets JavaScript is still loading. If this message persists, it\n",
       "  likely means that the widgets JavaScript library is either not installed or\n",
       "  not enabled. See the <a href=\"https://ipywidgets.readthedocs.io/en/stable/user_install.html\">Jupyter\n",
       "  Widgets Documentation</a> for setup instructions.\n",
       "</p>\n",
       "<p>\n",
       "  If you're reading this message in another frontend (for example, a static\n",
       "  rendering on GitHub or <a href=\"https://nbviewer.jupyter.org/\">NBViewer</a>),\n",
       "  it may mean that your frontend doesn't currently support widgets.\n",
       "</p>\n"
      ],
      "text/plain": [
       "HBox(children=(IntProgress(value=0, max=1), HTML(value='')))"
      ]
     },
     "metadata": {},
     "output_type": "display_data"
    },
    {
     "name": "stdout",
     "output_type": "stream",
     "text": [
      "\n"
     ]
    },
    {
     "data": {
      "application/vnd.jupyter.widget-view+json": {
       "model_id": "4e608bb6562f494ab0af01bc34615d10",
       "version_major": 2,
       "version_minor": 0
      },
      "text/html": [
       "<p>Failed to display Jupyter Widget of type <code>HBox</code>.</p>\n",
       "<p>\n",
       "  If you're reading this message in the Jupyter Notebook or JupyterLab Notebook, it may mean\n",
       "  that the widgets JavaScript is still loading. If this message persists, it\n",
       "  likely means that the widgets JavaScript library is either not installed or\n",
       "  not enabled. See the <a href=\"https://ipywidgets.readthedocs.io/en/stable/user_install.html\">Jupyter\n",
       "  Widgets Documentation</a> for setup instructions.\n",
       "</p>\n",
       "<p>\n",
       "  If you're reading this message in another frontend (for example, a static\n",
       "  rendering on GitHub or <a href=\"https://nbviewer.jupyter.org/\">NBViewer</a>),\n",
       "  it may mean that your frontend doesn't currently support widgets.\n",
       "</p>\n"
      ],
      "text/plain": [
       "HBox(children=(IntProgress(value=0, max=1), HTML(value='')))"
      ]
     },
     "metadata": {},
     "output_type": "display_data"
    },
    {
     "name": "stdout",
     "output_type": "stream",
     "text": [
      "\n"
     ]
    },
    {
     "data": {
      "application/vnd.jupyter.widget-view+json": {
       "model_id": "dcbc78ff4540448e80ea5d10abea6f27",
       "version_major": 2,
       "version_minor": 0
      },
      "text/html": [
       "<p>Failed to display Jupyter Widget of type <code>HBox</code>.</p>\n",
       "<p>\n",
       "  If you're reading this message in the Jupyter Notebook or JupyterLab Notebook, it may mean\n",
       "  that the widgets JavaScript is still loading. If this message persists, it\n",
       "  likely means that the widgets JavaScript library is either not installed or\n",
       "  not enabled. See the <a href=\"https://ipywidgets.readthedocs.io/en/stable/user_install.html\">Jupyter\n",
       "  Widgets Documentation</a> for setup instructions.\n",
       "</p>\n",
       "<p>\n",
       "  If you're reading this message in another frontend (for example, a static\n",
       "  rendering on GitHub or <a href=\"https://nbviewer.jupyter.org/\">NBViewer</a>),\n",
       "  it may mean that your frontend doesn't currently support widgets.\n",
       "</p>\n"
      ],
      "text/plain": [
       "HBox(children=(IntProgress(value=0, max=1), HTML(value='')))"
      ]
     },
     "metadata": {},
     "output_type": "display_data"
    },
    {
     "name": "stdout",
     "output_type": "stream",
     "text": [
      "\n"
     ]
    },
    {
     "data": {
      "application/vnd.jupyter.widget-view+json": {
       "model_id": "aa78d4151f5349798b590c9c86837b40",
       "version_major": 2,
       "version_minor": 0
      },
      "text/html": [
       "<p>Failed to display Jupyter Widget of type <code>HBox</code>.</p>\n",
       "<p>\n",
       "  If you're reading this message in the Jupyter Notebook or JupyterLab Notebook, it may mean\n",
       "  that the widgets JavaScript is still loading. If this message persists, it\n",
       "  likely means that the widgets JavaScript library is either not installed or\n",
       "  not enabled. See the <a href=\"https://ipywidgets.readthedocs.io/en/stable/user_install.html\">Jupyter\n",
       "  Widgets Documentation</a> for setup instructions.\n",
       "</p>\n",
       "<p>\n",
       "  If you're reading this message in another frontend (for example, a static\n",
       "  rendering on GitHub or <a href=\"https://nbviewer.jupyter.org/\">NBViewer</a>),\n",
       "  it may mean that your frontend doesn't currently support widgets.\n",
       "</p>\n"
      ],
      "text/plain": [
       "HBox(children=(IntProgress(value=0, max=1), HTML(value='')))"
      ]
     },
     "metadata": {},
     "output_type": "display_data"
    },
    {
     "name": "stdout",
     "output_type": "stream",
     "text": [
      "\n"
     ]
    },
    {
     "data": {
      "application/vnd.jupyter.widget-view+json": {
       "model_id": "2b33ebac111d41d18b49ff20a8606fbc",
       "version_major": 2,
       "version_minor": 0
      },
      "text/html": [
       "<p>Failed to display Jupyter Widget of type <code>HBox</code>.</p>\n",
       "<p>\n",
       "  If you're reading this message in the Jupyter Notebook or JupyterLab Notebook, it may mean\n",
       "  that the widgets JavaScript is still loading. If this message persists, it\n",
       "  likely means that the widgets JavaScript library is either not installed or\n",
       "  not enabled. See the <a href=\"https://ipywidgets.readthedocs.io/en/stable/user_install.html\">Jupyter\n",
       "  Widgets Documentation</a> for setup instructions.\n",
       "</p>\n",
       "<p>\n",
       "  If you're reading this message in another frontend (for example, a static\n",
       "  rendering on GitHub or <a href=\"https://nbviewer.jupyter.org/\">NBViewer</a>),\n",
       "  it may mean that your frontend doesn't currently support widgets.\n",
       "</p>\n"
      ],
      "text/plain": [
       "HBox(children=(IntProgress(value=0, max=1), HTML(value='')))"
      ]
     },
     "metadata": {},
     "output_type": "display_data"
    },
    {
     "name": "stdout",
     "output_type": "stream",
     "text": [
      "\n",
      "==== Performance Check === \n",
      "\t Train Loss =  2.6504032611846924\n",
      "\t Dev Loss =  6.9120612144470215\n",
      "\t Train BLEU =  0.0017941146\n",
      "\t Dev BLEU =  0.0017941146\n"
     ]
    },
    {
     "data": {
      "application/vnd.jupyter.widget-view+json": {
       "model_id": "89b290da76ba460ab9d6cbbd4d203b5a",
       "version_major": 2,
       "version_minor": 0
      },
      "text/html": [
       "<p>Failed to display Jupyter Widget of type <code>HBox</code>.</p>\n",
       "<p>\n",
       "  If you're reading this message in the Jupyter Notebook or JupyterLab Notebook, it may mean\n",
       "  that the widgets JavaScript is still loading. If this message persists, it\n",
       "  likely means that the widgets JavaScript library is either not installed or\n",
       "  not enabled. See the <a href=\"https://ipywidgets.readthedocs.io/en/stable/user_install.html\">Jupyter\n",
       "  Widgets Documentation</a> for setup instructions.\n",
       "</p>\n",
       "<p>\n",
       "  If you're reading this message in another frontend (for example, a static\n",
       "  rendering on GitHub or <a href=\"https://nbviewer.jupyter.org/\">NBViewer</a>),\n",
       "  it may mean that your frontend doesn't currently support widgets.\n",
       "</p>\n"
      ],
      "text/plain": [
       "HBox(children=(IntProgress(value=0, max=1), HTML(value='')))"
      ]
     },
     "metadata": {},
     "output_type": "display_data"
    },
    {
     "name": "stdout",
     "output_type": "stream",
     "text": [
      "\n"
     ]
    },
    {
     "data": {
      "application/vnd.jupyter.widget-view+json": {
       "model_id": "f666fbff30344985a510972f1b6cc4d7",
       "version_major": 2,
       "version_minor": 0
      },
      "text/html": [
       "<p>Failed to display Jupyter Widget of type <code>HBox</code>.</p>\n",
       "<p>\n",
       "  If you're reading this message in the Jupyter Notebook or JupyterLab Notebook, it may mean\n",
       "  that the widgets JavaScript is still loading. If this message persists, it\n",
       "  likely means that the widgets JavaScript library is either not installed or\n",
       "  not enabled. See the <a href=\"https://ipywidgets.readthedocs.io/en/stable/user_install.html\">Jupyter\n",
       "  Widgets Documentation</a> for setup instructions.\n",
       "</p>\n",
       "<p>\n",
       "  If you're reading this message in another frontend (for example, a static\n",
       "  rendering on GitHub or <a href=\"https://nbviewer.jupyter.org/\">NBViewer</a>),\n",
       "  it may mean that your frontend doesn't currently support widgets.\n",
       "</p>\n"
      ],
      "text/plain": [
       "HBox(children=(IntProgress(value=0, max=1), HTML(value='')))"
      ]
     },
     "metadata": {},
     "output_type": "display_data"
    },
    {
     "name": "stdout",
     "output_type": "stream",
     "text": [
      "\n"
     ]
    },
    {
     "data": {
      "application/vnd.jupyter.widget-view+json": {
       "model_id": "bb561db73f0747a2867a69d2fa13c1e9",
       "version_major": 2,
       "version_minor": 0
      },
      "text/html": [
       "<p>Failed to display Jupyter Widget of type <code>HBox</code>.</p>\n",
       "<p>\n",
       "  If you're reading this message in the Jupyter Notebook or JupyterLab Notebook, it may mean\n",
       "  that the widgets JavaScript is still loading. If this message persists, it\n",
       "  likely means that the widgets JavaScript library is either not installed or\n",
       "  not enabled. See the <a href=\"https://ipywidgets.readthedocs.io/en/stable/user_install.html\">Jupyter\n",
       "  Widgets Documentation</a> for setup instructions.\n",
       "</p>\n",
       "<p>\n",
       "  If you're reading this message in another frontend (for example, a static\n",
       "  rendering on GitHub or <a href=\"https://nbviewer.jupyter.org/\">NBViewer</a>),\n",
       "  it may mean that your frontend doesn't currently support widgets.\n",
       "</p>\n"
      ],
      "text/plain": [
       "HBox(children=(IntProgress(value=0, max=1), HTML(value='')))"
      ]
     },
     "metadata": {},
     "output_type": "display_data"
    },
    {
     "name": "stdout",
     "output_type": "stream",
     "text": [
      "\n"
     ]
    },
    {
     "data": {
      "application/vnd.jupyter.widget-view+json": {
       "model_id": "827ba30d1e144c96b181acea8f6a94cf",
       "version_major": 2,
       "version_minor": 0
      },
      "text/html": [
       "<p>Failed to display Jupyter Widget of type <code>HBox</code>.</p>\n",
       "<p>\n",
       "  If you're reading this message in the Jupyter Notebook or JupyterLab Notebook, it may mean\n",
       "  that the widgets JavaScript is still loading. If this message persists, it\n",
       "  likely means that the widgets JavaScript library is either not installed or\n",
       "  not enabled. See the <a href=\"https://ipywidgets.readthedocs.io/en/stable/user_install.html\">Jupyter\n",
       "  Widgets Documentation</a> for setup instructions.\n",
       "</p>\n",
       "<p>\n",
       "  If you're reading this message in another frontend (for example, a static\n",
       "  rendering on GitHub or <a href=\"https://nbviewer.jupyter.org/\">NBViewer</a>),\n",
       "  it may mean that your frontend doesn't currently support widgets.\n",
       "</p>\n"
      ],
      "text/plain": [
       "HBox(children=(IntProgress(value=0, max=1), HTML(value='')))"
      ]
     },
     "metadata": {},
     "output_type": "display_data"
    },
    {
     "name": "stdout",
     "output_type": "stream",
     "text": [
      "\n"
     ]
    },
    {
     "data": {
      "application/vnd.jupyter.widget-view+json": {
       "model_id": "bb6e4611409a4ffaa0da7bb192d84da8",
       "version_major": 2,
       "version_minor": 0
      },
      "text/html": [
       "<p>Failed to display Jupyter Widget of type <code>HBox</code>.</p>\n",
       "<p>\n",
       "  If you're reading this message in the Jupyter Notebook or JupyterLab Notebook, it may mean\n",
       "  that the widgets JavaScript is still loading. If this message persists, it\n",
       "  likely means that the widgets JavaScript library is either not installed or\n",
       "  not enabled. See the <a href=\"https://ipywidgets.readthedocs.io/en/stable/user_install.html\">Jupyter\n",
       "  Widgets Documentation</a> for setup instructions.\n",
       "</p>\n",
       "<p>\n",
       "  If you're reading this message in another frontend (for example, a static\n",
       "  rendering on GitHub or <a href=\"https://nbviewer.jupyter.org/\">NBViewer</a>),\n",
       "  it may mean that your frontend doesn't currently support widgets.\n",
       "</p>\n"
      ],
      "text/plain": [
       "HBox(children=(IntProgress(value=0, max=1), HTML(value='')))"
      ]
     },
     "metadata": {},
     "output_type": "display_data"
    },
    {
     "name": "stdout",
     "output_type": "stream",
     "text": [
      "\n",
      "==== Performance Check === \n",
      "\t Train Loss =  2.5604372024536133\n",
      "\t Dev Loss =  7.093997001647949\n",
      "\t Train BLEU =  0.006375745\n",
      "\t Dev BLEU =  0.007370445\n"
     ]
    },
    {
     "data": {
      "application/vnd.jupyter.widget-view+json": {
       "model_id": "b07a282e4aec4685b7f00bdc79197add",
       "version_major": 2,
       "version_minor": 0
      },
      "text/html": [
       "<p>Failed to display Jupyter Widget of type <code>HBox</code>.</p>\n",
       "<p>\n",
       "  If you're reading this message in the Jupyter Notebook or JupyterLab Notebook, it may mean\n",
       "  that the widgets JavaScript is still loading. If this message persists, it\n",
       "  likely means that the widgets JavaScript library is either not installed or\n",
       "  not enabled. See the <a href=\"https://ipywidgets.readthedocs.io/en/stable/user_install.html\">Jupyter\n",
       "  Widgets Documentation</a> for setup instructions.\n",
       "</p>\n",
       "<p>\n",
       "  If you're reading this message in another frontend (for example, a static\n",
       "  rendering on GitHub or <a href=\"https://nbviewer.jupyter.org/\">NBViewer</a>),\n",
       "  it may mean that your frontend doesn't currently support widgets.\n",
       "</p>\n"
      ],
      "text/plain": [
       "HBox(children=(IntProgress(value=0, max=1), HTML(value='')))"
      ]
     },
     "metadata": {},
     "output_type": "display_data"
    },
    {
     "name": "stdout",
     "output_type": "stream",
     "text": [
      "\n"
     ]
    },
    {
     "data": {
      "application/vnd.jupyter.widget-view+json": {
       "model_id": "09255215c1e342109b870d7c6409b2e1",
       "version_major": 2,
       "version_minor": 0
      },
      "text/html": [
       "<p>Failed to display Jupyter Widget of type <code>HBox</code>.</p>\n",
       "<p>\n",
       "  If you're reading this message in the Jupyter Notebook or JupyterLab Notebook, it may mean\n",
       "  that the widgets JavaScript is still loading. If this message persists, it\n",
       "  likely means that the widgets JavaScript library is either not installed or\n",
       "  not enabled. See the <a href=\"https://ipywidgets.readthedocs.io/en/stable/user_install.html\">Jupyter\n",
       "  Widgets Documentation</a> for setup instructions.\n",
       "</p>\n",
       "<p>\n",
       "  If you're reading this message in another frontend (for example, a static\n",
       "  rendering on GitHub or <a href=\"https://nbviewer.jupyter.org/\">NBViewer</a>),\n",
       "  it may mean that your frontend doesn't currently support widgets.\n",
       "</p>\n"
      ],
      "text/plain": [
       "HBox(children=(IntProgress(value=0, max=1), HTML(value='')))"
      ]
     },
     "metadata": {},
     "output_type": "display_data"
    },
    {
     "name": "stdout",
     "output_type": "stream",
     "text": [
      "\n"
     ]
    },
    {
     "data": {
      "application/vnd.jupyter.widget-view+json": {
       "model_id": "f9a315705d8546339819e08698cbca18",
       "version_major": 2,
       "version_minor": 0
      },
      "text/html": [
       "<p>Failed to display Jupyter Widget of type <code>HBox</code>.</p>\n",
       "<p>\n",
       "  If you're reading this message in the Jupyter Notebook or JupyterLab Notebook, it may mean\n",
       "  that the widgets JavaScript is still loading. If this message persists, it\n",
       "  likely means that the widgets JavaScript library is either not installed or\n",
       "  not enabled. See the <a href=\"https://ipywidgets.readthedocs.io/en/stable/user_install.html\">Jupyter\n",
       "  Widgets Documentation</a> for setup instructions.\n",
       "</p>\n",
       "<p>\n",
       "  If you're reading this message in another frontend (for example, a static\n",
       "  rendering on GitHub or <a href=\"https://nbviewer.jupyter.org/\">NBViewer</a>),\n",
       "  it may mean that your frontend doesn't currently support widgets.\n",
       "</p>\n"
      ],
      "text/plain": [
       "HBox(children=(IntProgress(value=0, max=1), HTML(value='')))"
      ]
     },
     "metadata": {},
     "output_type": "display_data"
    },
    {
     "name": "stdout",
     "output_type": "stream",
     "text": [
      "\n"
     ]
    },
    {
     "data": {
      "application/vnd.jupyter.widget-view+json": {
       "model_id": "0d3f6701a7b64f59ba7bab3fdd952597",
       "version_major": 2,
       "version_minor": 0
      },
      "text/html": [
       "<p>Failed to display Jupyter Widget of type <code>HBox</code>.</p>\n",
       "<p>\n",
       "  If you're reading this message in the Jupyter Notebook or JupyterLab Notebook, it may mean\n",
       "  that the widgets JavaScript is still loading. If this message persists, it\n",
       "  likely means that the widgets JavaScript library is either not installed or\n",
       "  not enabled. See the <a href=\"https://ipywidgets.readthedocs.io/en/stable/user_install.html\">Jupyter\n",
       "  Widgets Documentation</a> for setup instructions.\n",
       "</p>\n",
       "<p>\n",
       "  If you're reading this message in another frontend (for example, a static\n",
       "  rendering on GitHub or <a href=\"https://nbviewer.jupyter.org/\">NBViewer</a>),\n",
       "  it may mean that your frontend doesn't currently support widgets.\n",
       "</p>\n"
      ],
      "text/plain": [
       "HBox(children=(IntProgress(value=0, max=1), HTML(value='')))"
      ]
     },
     "metadata": {},
     "output_type": "display_data"
    },
    {
     "name": "stdout",
     "output_type": "stream",
     "text": [
      "\n"
     ]
    },
    {
     "data": {
      "application/vnd.jupyter.widget-view+json": {
       "model_id": "ef0f5462705c4a41ac4f39f0c4ac9958",
       "version_major": 2,
       "version_minor": 0
      },
      "text/html": [
       "<p>Failed to display Jupyter Widget of type <code>HBox</code>.</p>\n",
       "<p>\n",
       "  If you're reading this message in the Jupyter Notebook or JupyterLab Notebook, it may mean\n",
       "  that the widgets JavaScript is still loading. If this message persists, it\n",
       "  likely means that the widgets JavaScript library is either not installed or\n",
       "  not enabled. See the <a href=\"https://ipywidgets.readthedocs.io/en/stable/user_install.html\">Jupyter\n",
       "  Widgets Documentation</a> for setup instructions.\n",
       "</p>\n",
       "<p>\n",
       "  If you're reading this message in another frontend (for example, a static\n",
       "  rendering on GitHub or <a href=\"https://nbviewer.jupyter.org/\">NBViewer</a>),\n",
       "  it may mean that your frontend doesn't currently support widgets.\n",
       "</p>\n"
      ],
      "text/plain": [
       "HBox(children=(IntProgress(value=0, max=1), HTML(value='')))"
      ]
     },
     "metadata": {},
     "output_type": "display_data"
    },
    {
     "name": "stdout",
     "output_type": "stream",
     "text": [
      "\n",
      "==== Performance Check === \n",
      "\t Train Loss =  2.481119155883789\n",
      "\t Dev Loss =  7.2529520988464355\n",
      "\t Train BLEU =  0.0055417996\n",
      "\t Dev BLEU =  0.0065508625\n"
     ]
    },
    {
     "data": {
      "application/vnd.jupyter.widget-view+json": {
       "model_id": "d9cda43b7aa04eaba306fec688733bff",
       "version_major": 2,
       "version_minor": 0
      },
      "text/html": [
       "<p>Failed to display Jupyter Widget of type <code>HBox</code>.</p>\n",
       "<p>\n",
       "  If you're reading this message in the Jupyter Notebook or JupyterLab Notebook, it may mean\n",
       "  that the widgets JavaScript is still loading. If this message persists, it\n",
       "  likely means that the widgets JavaScript library is either not installed or\n",
       "  not enabled. See the <a href=\"https://ipywidgets.readthedocs.io/en/stable/user_install.html\">Jupyter\n",
       "  Widgets Documentation</a> for setup instructions.\n",
       "</p>\n",
       "<p>\n",
       "  If you're reading this message in another frontend (for example, a static\n",
       "  rendering on GitHub or <a href=\"https://nbviewer.jupyter.org/\">NBViewer</a>),\n",
       "  it may mean that your frontend doesn't currently support widgets.\n",
       "</p>\n"
      ],
      "text/plain": [
       "HBox(children=(IntProgress(value=0, max=1), HTML(value='')))"
      ]
     },
     "metadata": {},
     "output_type": "display_data"
    },
    {
     "name": "stdout",
     "output_type": "stream",
     "text": [
      "\n"
     ]
    },
    {
     "data": {
      "application/vnd.jupyter.widget-view+json": {
       "model_id": "57bdbb2112ca48aab94963d677b7c2d6",
       "version_major": 2,
       "version_minor": 0
      },
      "text/html": [
       "<p>Failed to display Jupyter Widget of type <code>HBox</code>.</p>\n",
       "<p>\n",
       "  If you're reading this message in the Jupyter Notebook or JupyterLab Notebook, it may mean\n",
       "  that the widgets JavaScript is still loading. If this message persists, it\n",
       "  likely means that the widgets JavaScript library is either not installed or\n",
       "  not enabled. See the <a href=\"https://ipywidgets.readthedocs.io/en/stable/user_install.html\">Jupyter\n",
       "  Widgets Documentation</a> for setup instructions.\n",
       "</p>\n",
       "<p>\n",
       "  If you're reading this message in another frontend (for example, a static\n",
       "  rendering on GitHub or <a href=\"https://nbviewer.jupyter.org/\">NBViewer</a>),\n",
       "  it may mean that your frontend doesn't currently support widgets.\n",
       "</p>\n"
      ],
      "text/plain": [
       "HBox(children=(IntProgress(value=0, max=1), HTML(value='')))"
      ]
     },
     "metadata": {},
     "output_type": "display_data"
    },
    {
     "name": "stdout",
     "output_type": "stream",
     "text": [
      "\n"
     ]
    },
    {
     "data": {
      "application/vnd.jupyter.widget-view+json": {
       "model_id": "dbdfc2589c2c4a089875d54ef829e9df",
       "version_major": 2,
       "version_minor": 0
      },
      "text/html": [
       "<p>Failed to display Jupyter Widget of type <code>HBox</code>.</p>\n",
       "<p>\n",
       "  If you're reading this message in the Jupyter Notebook or JupyterLab Notebook, it may mean\n",
       "  that the widgets JavaScript is still loading. If this message persists, it\n",
       "  likely means that the widgets JavaScript library is either not installed or\n",
       "  not enabled. See the <a href=\"https://ipywidgets.readthedocs.io/en/stable/user_install.html\">Jupyter\n",
       "  Widgets Documentation</a> for setup instructions.\n",
       "</p>\n",
       "<p>\n",
       "  If you're reading this message in another frontend (for example, a static\n",
       "  rendering on GitHub or <a href=\"https://nbviewer.jupyter.org/\">NBViewer</a>),\n",
       "  it may mean that your frontend doesn't currently support widgets.\n",
       "</p>\n"
      ],
      "text/plain": [
       "HBox(children=(IntProgress(value=0, max=1), HTML(value='')))"
      ]
     },
     "metadata": {},
     "output_type": "display_data"
    },
    {
     "name": "stdout",
     "output_type": "stream",
     "text": [
      "\n"
     ]
    },
    {
     "data": {
      "application/vnd.jupyter.widget-view+json": {
       "model_id": "a4f5a838428a40ae9698bcf9dea93e27",
       "version_major": 2,
       "version_minor": 0
      },
      "text/html": [
       "<p>Failed to display Jupyter Widget of type <code>HBox</code>.</p>\n",
       "<p>\n",
       "  If you're reading this message in the Jupyter Notebook or JupyterLab Notebook, it may mean\n",
       "  that the widgets JavaScript is still loading. If this message persists, it\n",
       "  likely means that the widgets JavaScript library is either not installed or\n",
       "  not enabled. See the <a href=\"https://ipywidgets.readthedocs.io/en/stable/user_install.html\">Jupyter\n",
       "  Widgets Documentation</a> for setup instructions.\n",
       "</p>\n",
       "<p>\n",
       "  If you're reading this message in another frontend (for example, a static\n",
       "  rendering on GitHub or <a href=\"https://nbviewer.jupyter.org/\">NBViewer</a>),\n",
       "  it may mean that your frontend doesn't currently support widgets.\n",
       "</p>\n"
      ],
      "text/plain": [
       "HBox(children=(IntProgress(value=0, max=1), HTML(value='')))"
      ]
     },
     "metadata": {},
     "output_type": "display_data"
    },
    {
     "name": "stdout",
     "output_type": "stream",
     "text": [
      "\n"
     ]
    },
    {
     "data": {
      "application/vnd.jupyter.widget-view+json": {
       "model_id": "4a53cc2206604f40847ab30e60b8e5e0",
       "version_major": 2,
       "version_minor": 0
      },
      "text/html": [
       "<p>Failed to display Jupyter Widget of type <code>HBox</code>.</p>\n",
       "<p>\n",
       "  If you're reading this message in the Jupyter Notebook or JupyterLab Notebook, it may mean\n",
       "  that the widgets JavaScript is still loading. If this message persists, it\n",
       "  likely means that the widgets JavaScript library is either not installed or\n",
       "  not enabled. See the <a href=\"https://ipywidgets.readthedocs.io/en/stable/user_install.html\">Jupyter\n",
       "  Widgets Documentation</a> for setup instructions.\n",
       "</p>\n",
       "<p>\n",
       "  If you're reading this message in another frontend (for example, a static\n",
       "  rendering on GitHub or <a href=\"https://nbviewer.jupyter.org/\">NBViewer</a>),\n",
       "  it may mean that your frontend doesn't currently support widgets.\n",
       "</p>\n"
      ],
      "text/plain": [
       "HBox(children=(IntProgress(value=0, max=1), HTML(value='')))"
      ]
     },
     "metadata": {},
     "output_type": "display_data"
    },
    {
     "name": "stdout",
     "output_type": "stream",
     "text": [
      "\n",
      "==== Performance Check === \n",
      "\t Train Loss =  4.042433261871338\n",
      "\t Dev Loss =  5.133236408233643\n",
      "\t Train BLEU =  0.00097458746\n",
      "\t Dev BLEU =  0.0010785584\n"
     ]
    },
    {
     "data": {
      "application/vnd.jupyter.widget-view+json": {
       "model_id": "2aaa13fa20854a4c95d39ad17992fd50",
       "version_major": 2,
       "version_minor": 0
      },
      "text/html": [
       "<p>Failed to display Jupyter Widget of type <code>HBox</code>.</p>\n",
       "<p>\n",
       "  If you're reading this message in the Jupyter Notebook or JupyterLab Notebook, it may mean\n",
       "  that the widgets JavaScript is still loading. If this message persists, it\n",
       "  likely means that the widgets JavaScript library is either not installed or\n",
       "  not enabled. See the <a href=\"https://ipywidgets.readthedocs.io/en/stable/user_install.html\">Jupyter\n",
       "  Widgets Documentation</a> for setup instructions.\n",
       "</p>\n",
       "<p>\n",
       "  If you're reading this message in another frontend (for example, a static\n",
       "  rendering on GitHub or <a href=\"https://nbviewer.jupyter.org/\">NBViewer</a>),\n",
       "  it may mean that your frontend doesn't currently support widgets.\n",
       "</p>\n"
      ],
      "text/plain": [
       "HBox(children=(IntProgress(value=0, max=1), HTML(value='')))"
      ]
     },
     "metadata": {},
     "output_type": "display_data"
    },
    {
     "name": "stdout",
     "output_type": "stream",
     "text": [
      "\n"
     ]
    },
    {
     "data": {
      "application/vnd.jupyter.widget-view+json": {
       "model_id": "7417102202c34c5dac4a626574ab7c69",
       "version_major": 2,
       "version_minor": 0
      },
      "text/html": [
       "<p>Failed to display Jupyter Widget of type <code>HBox</code>.</p>\n",
       "<p>\n",
       "  If you're reading this message in the Jupyter Notebook or JupyterLab Notebook, it may mean\n",
       "  that the widgets JavaScript is still loading. If this message persists, it\n",
       "  likely means that the widgets JavaScript library is either not installed or\n",
       "  not enabled. See the <a href=\"https://ipywidgets.readthedocs.io/en/stable/user_install.html\">Jupyter\n",
       "  Widgets Documentation</a> for setup instructions.\n",
       "</p>\n",
       "<p>\n",
       "  If you're reading this message in another frontend (for example, a static\n",
       "  rendering on GitHub or <a href=\"https://nbviewer.jupyter.org/\">NBViewer</a>),\n",
       "  it may mean that your frontend doesn't currently support widgets.\n",
       "</p>\n"
      ],
      "text/plain": [
       "HBox(children=(IntProgress(value=0, max=1), HTML(value='')))"
      ]
     },
     "metadata": {},
     "output_type": "display_data"
    },
    {
     "name": "stdout",
     "output_type": "stream",
     "text": [
      "\n"
     ]
    },
    {
     "data": {
      "application/vnd.jupyter.widget-view+json": {
       "model_id": "0ad7966afdbd407dbc662e4adf8b39b5",
       "version_major": 2,
       "version_minor": 0
      },
      "text/html": [
       "<p>Failed to display Jupyter Widget of type <code>HBox</code>.</p>\n",
       "<p>\n",
       "  If you're reading this message in the Jupyter Notebook or JupyterLab Notebook, it may mean\n",
       "  that the widgets JavaScript is still loading. If this message persists, it\n",
       "  likely means that the widgets JavaScript library is either not installed or\n",
       "  not enabled. See the <a href=\"https://ipywidgets.readthedocs.io/en/stable/user_install.html\">Jupyter\n",
       "  Widgets Documentation</a> for setup instructions.\n",
       "</p>\n",
       "<p>\n",
       "  If you're reading this message in another frontend (for example, a static\n",
       "  rendering on GitHub or <a href=\"https://nbviewer.jupyter.org/\">NBViewer</a>),\n",
       "  it may mean that your frontend doesn't currently support widgets.\n",
       "</p>\n"
      ],
      "text/plain": [
       "HBox(children=(IntProgress(value=0, max=1), HTML(value='')))"
      ]
     },
     "metadata": {},
     "output_type": "display_data"
    },
    {
     "name": "stdout",
     "output_type": "stream",
     "text": [
      "\n"
     ]
    },
    {
     "data": {
      "application/vnd.jupyter.widget-view+json": {
       "model_id": "29e0d24279e946cb9224976510ea8fde",
       "version_major": 2,
       "version_minor": 0
      },
      "text/html": [
       "<p>Failed to display Jupyter Widget of type <code>HBox</code>.</p>\n",
       "<p>\n",
       "  If you're reading this message in the Jupyter Notebook or JupyterLab Notebook, it may mean\n",
       "  that the widgets JavaScript is still loading. If this message persists, it\n",
       "  likely means that the widgets JavaScript library is either not installed or\n",
       "  not enabled. See the <a href=\"https://ipywidgets.readthedocs.io/en/stable/user_install.html\">Jupyter\n",
       "  Widgets Documentation</a> for setup instructions.\n",
       "</p>\n",
       "<p>\n",
       "  If you're reading this message in another frontend (for example, a static\n",
       "  rendering on GitHub or <a href=\"https://nbviewer.jupyter.org/\">NBViewer</a>),\n",
       "  it may mean that your frontend doesn't currently support widgets.\n",
       "</p>\n"
      ],
      "text/plain": [
       "HBox(children=(IntProgress(value=0, max=1), HTML(value='')))"
      ]
     },
     "metadata": {},
     "output_type": "display_data"
    },
    {
     "name": "stdout",
     "output_type": "stream",
     "text": [
      "\n"
     ]
    },
    {
     "data": {
      "application/vnd.jupyter.widget-view+json": {
       "model_id": "ecebc458e34348b88bd69241c1fbdd29",
       "version_major": 2,
       "version_minor": 0
      },
      "text/html": [
       "<p>Failed to display Jupyter Widget of type <code>HBox</code>.</p>\n",
       "<p>\n",
       "  If you're reading this message in the Jupyter Notebook or JupyterLab Notebook, it may mean\n",
       "  that the widgets JavaScript is still loading. If this message persists, it\n",
       "  likely means that the widgets JavaScript library is either not installed or\n",
       "  not enabled. See the <a href=\"https://ipywidgets.readthedocs.io/en/stable/user_install.html\">Jupyter\n",
       "  Widgets Documentation</a> for setup instructions.\n",
       "</p>\n",
       "<p>\n",
       "  If you're reading this message in another frontend (for example, a static\n",
       "  rendering on GitHub or <a href=\"https://nbviewer.jupyter.org/\">NBViewer</a>),\n",
       "  it may mean that your frontend doesn't currently support widgets.\n",
       "</p>\n"
      ],
      "text/plain": [
       "HBox(children=(IntProgress(value=0, max=1), HTML(value='')))"
      ]
     },
     "metadata": {},
     "output_type": "display_data"
    },
    {
     "name": "stdout",
     "output_type": "stream",
     "text": [
      "\n",
      "==== Performance Check === \n",
      "\t Train Loss =  3.145596981048584\n",
      "\t Dev Loss =  6.537840366363525\n",
      "\t Train BLEU =  0.00081952714\n",
      "\t Dev BLEU =  0.0\n"
     ]
    },
    {
     "data": {
      "application/vnd.jupyter.widget-view+json": {
       "model_id": "17c238dd2c3e43058a93aa4a3f06956e",
       "version_major": 2,
       "version_minor": 0
      },
      "text/html": [
       "<p>Failed to display Jupyter Widget of type <code>HBox</code>.</p>\n",
       "<p>\n",
       "  If you're reading this message in the Jupyter Notebook or JupyterLab Notebook, it may mean\n",
       "  that the widgets JavaScript is still loading. If this message persists, it\n",
       "  likely means that the widgets JavaScript library is either not installed or\n",
       "  not enabled. See the <a href=\"https://ipywidgets.readthedocs.io/en/stable/user_install.html\">Jupyter\n",
       "  Widgets Documentation</a> for setup instructions.\n",
       "</p>\n",
       "<p>\n",
       "  If you're reading this message in another frontend (for example, a static\n",
       "  rendering on GitHub or <a href=\"https://nbviewer.jupyter.org/\">NBViewer</a>),\n",
       "  it may mean that your frontend doesn't currently support widgets.\n",
       "</p>\n"
      ],
      "text/plain": [
       "HBox(children=(IntProgress(value=0, max=1), HTML(value='')))"
      ]
     },
     "metadata": {},
     "output_type": "display_data"
    },
    {
     "name": "stdout",
     "output_type": "stream",
     "text": [
      "\n"
     ]
    },
    {
     "data": {
      "application/vnd.jupyter.widget-view+json": {
       "model_id": "5a531db75b88419bbdc4847320a6652e",
       "version_major": 2,
       "version_minor": 0
      },
      "text/html": [
       "<p>Failed to display Jupyter Widget of type <code>HBox</code>.</p>\n",
       "<p>\n",
       "  If you're reading this message in the Jupyter Notebook or JupyterLab Notebook, it may mean\n",
       "  that the widgets JavaScript is still loading. If this message persists, it\n",
       "  likely means that the widgets JavaScript library is either not installed or\n",
       "  not enabled. See the <a href=\"https://ipywidgets.readthedocs.io/en/stable/user_install.html\">Jupyter\n",
       "  Widgets Documentation</a> for setup instructions.\n",
       "</p>\n",
       "<p>\n",
       "  If you're reading this message in another frontend (for example, a static\n",
       "  rendering on GitHub or <a href=\"https://nbviewer.jupyter.org/\">NBViewer</a>),\n",
       "  it may mean that your frontend doesn't currently support widgets.\n",
       "</p>\n"
      ],
      "text/plain": [
       "HBox(children=(IntProgress(value=0, max=1), HTML(value='')))"
      ]
     },
     "metadata": {},
     "output_type": "display_data"
    },
    {
     "name": "stdout",
     "output_type": "stream",
     "text": [
      "\n"
     ]
    },
    {
     "data": {
      "application/vnd.jupyter.widget-view+json": {
       "model_id": "61d5fa2b07f64dcd86b5a6c96dbbd78a",
       "version_major": 2,
       "version_minor": 0
      },
      "text/html": [
       "<p>Failed to display Jupyter Widget of type <code>HBox</code>.</p>\n",
       "<p>\n",
       "  If you're reading this message in the Jupyter Notebook or JupyterLab Notebook, it may mean\n",
       "  that the widgets JavaScript is still loading. If this message persists, it\n",
       "  likely means that the widgets JavaScript library is either not installed or\n",
       "  not enabled. See the <a href=\"https://ipywidgets.readthedocs.io/en/stable/user_install.html\">Jupyter\n",
       "  Widgets Documentation</a> for setup instructions.\n",
       "</p>\n",
       "<p>\n",
       "  If you're reading this message in another frontend (for example, a static\n",
       "  rendering on GitHub or <a href=\"https://nbviewer.jupyter.org/\">NBViewer</a>),\n",
       "  it may mean that your frontend doesn't currently support widgets.\n",
       "</p>\n"
      ],
      "text/plain": [
       "HBox(children=(IntProgress(value=0, max=1), HTML(value='')))"
      ]
     },
     "metadata": {},
     "output_type": "display_data"
    },
    {
     "name": "stdout",
     "output_type": "stream",
     "text": [
      "\n"
     ]
    },
    {
     "data": {
      "application/vnd.jupyter.widget-view+json": {
       "model_id": "f5809b1b13fc45ed88b36bbbe4bf8cbb",
       "version_major": 2,
       "version_minor": 0
      },
      "text/html": [
       "<p>Failed to display Jupyter Widget of type <code>HBox</code>.</p>\n",
       "<p>\n",
       "  If you're reading this message in the Jupyter Notebook or JupyterLab Notebook, it may mean\n",
       "  that the widgets JavaScript is still loading. If this message persists, it\n",
       "  likely means that the widgets JavaScript library is either not installed or\n",
       "  not enabled. See the <a href=\"https://ipywidgets.readthedocs.io/en/stable/user_install.html\">Jupyter\n",
       "  Widgets Documentation</a> for setup instructions.\n",
       "</p>\n",
       "<p>\n",
       "  If you're reading this message in another frontend (for example, a static\n",
       "  rendering on GitHub or <a href=\"https://nbviewer.jupyter.org/\">NBViewer</a>),\n",
       "  it may mean that your frontend doesn't currently support widgets.\n",
       "</p>\n"
      ],
      "text/plain": [
       "HBox(children=(IntProgress(value=0, max=1), HTML(value='')))"
      ]
     },
     "metadata": {},
     "output_type": "display_data"
    },
    {
     "name": "stdout",
     "output_type": "stream",
     "text": [
      "\n"
     ]
    },
    {
     "data": {
      "application/vnd.jupyter.widget-view+json": {
       "model_id": "f0c8e6dbe68c4b2dad6da7355c3b8306",
       "version_major": 2,
       "version_minor": 0
      },
      "text/html": [
       "<p>Failed to display Jupyter Widget of type <code>HBox</code>.</p>\n",
       "<p>\n",
       "  If you're reading this message in the Jupyter Notebook or JupyterLab Notebook, it may mean\n",
       "  that the widgets JavaScript is still loading. If this message persists, it\n",
       "  likely means that the widgets JavaScript library is either not installed or\n",
       "  not enabled. See the <a href=\"https://ipywidgets.readthedocs.io/en/stable/user_install.html\">Jupyter\n",
       "  Widgets Documentation</a> for setup instructions.\n",
       "</p>\n",
       "<p>\n",
       "  If you're reading this message in another frontend (for example, a static\n",
       "  rendering on GitHub or <a href=\"https://nbviewer.jupyter.org/\">NBViewer</a>),\n",
       "  it may mean that your frontend doesn't currently support widgets.\n",
       "</p>\n"
      ],
      "text/plain": [
       "HBox(children=(IntProgress(value=0, max=1), HTML(value='')))"
      ]
     },
     "metadata": {},
     "output_type": "display_data"
    },
    {
     "name": "stdout",
     "output_type": "stream",
     "text": [
      "\n",
      "==== Performance Check === \n",
      "\t Train Loss =  3.01029896736145\n",
      "\t Dev Loss =  9.884441375732422\n",
      "\t Train BLEU =  0.0016390543\n",
      "\t Dev BLEU =  0.0012292907\n"
     ]
    },
    {
     "data": {
      "application/vnd.jupyter.widget-view+json": {
       "model_id": "b5ef397802f14e5fa2561b4bc44b8315",
       "version_major": 2,
       "version_minor": 0
      },
      "text/html": [
       "<p>Failed to display Jupyter Widget of type <code>HBox</code>.</p>\n",
       "<p>\n",
       "  If you're reading this message in the Jupyter Notebook or JupyterLab Notebook, it may mean\n",
       "  that the widgets JavaScript is still loading. If this message persists, it\n",
       "  likely means that the widgets JavaScript library is either not installed or\n",
       "  not enabled. See the <a href=\"https://ipywidgets.readthedocs.io/en/stable/user_install.html\">Jupyter\n",
       "  Widgets Documentation</a> for setup instructions.\n",
       "</p>\n",
       "<p>\n",
       "  If you're reading this message in another frontend (for example, a static\n",
       "  rendering on GitHub or <a href=\"https://nbviewer.jupyter.org/\">NBViewer</a>),\n",
       "  it may mean that your frontend doesn't currently support widgets.\n",
       "</p>\n"
      ],
      "text/plain": [
       "HBox(children=(IntProgress(value=0, max=1), HTML(value='')))"
      ]
     },
     "metadata": {},
     "output_type": "display_data"
    },
    {
     "name": "stdout",
     "output_type": "stream",
     "text": [
      "\n"
     ]
    },
    {
     "data": {
      "application/vnd.jupyter.widget-view+json": {
       "model_id": "54a21ebbf8df4b20a9ccedac8fee98b4",
       "version_major": 2,
       "version_minor": 0
      },
      "text/html": [
       "<p>Failed to display Jupyter Widget of type <code>HBox</code>.</p>\n",
       "<p>\n",
       "  If you're reading this message in the Jupyter Notebook or JupyterLab Notebook, it may mean\n",
       "  that the widgets JavaScript is still loading. If this message persists, it\n",
       "  likely means that the widgets JavaScript library is either not installed or\n",
       "  not enabled. See the <a href=\"https://ipywidgets.readthedocs.io/en/stable/user_install.html\">Jupyter\n",
       "  Widgets Documentation</a> for setup instructions.\n",
       "</p>\n",
       "<p>\n",
       "  If you're reading this message in another frontend (for example, a static\n",
       "  rendering on GitHub or <a href=\"https://nbviewer.jupyter.org/\">NBViewer</a>),\n",
       "  it may mean that your frontend doesn't currently support widgets.\n",
       "</p>\n"
      ],
      "text/plain": [
       "HBox(children=(IntProgress(value=0, max=1), HTML(value='')))"
      ]
     },
     "metadata": {},
     "output_type": "display_data"
    },
    {
     "name": "stdout",
     "output_type": "stream",
     "text": [
      "\n"
     ]
    },
    {
     "data": {
      "application/vnd.jupyter.widget-view+json": {
       "model_id": "7b73f277d49d4bdd829f60a19def9f34",
       "version_major": 2,
       "version_minor": 0
      },
      "text/html": [
       "<p>Failed to display Jupyter Widget of type <code>HBox</code>.</p>\n",
       "<p>\n",
       "  If you're reading this message in the Jupyter Notebook or JupyterLab Notebook, it may mean\n",
       "  that the widgets JavaScript is still loading. If this message persists, it\n",
       "  likely means that the widgets JavaScript library is either not installed or\n",
       "  not enabled. See the <a href=\"https://ipywidgets.readthedocs.io/en/stable/user_install.html\">Jupyter\n",
       "  Widgets Documentation</a> for setup instructions.\n",
       "</p>\n",
       "<p>\n",
       "  If you're reading this message in another frontend (for example, a static\n",
       "  rendering on GitHub or <a href=\"https://nbviewer.jupyter.org/\">NBViewer</a>),\n",
       "  it may mean that your frontend doesn't currently support widgets.\n",
       "</p>\n"
      ],
      "text/plain": [
       "HBox(children=(IntProgress(value=0, max=1), HTML(value='')))"
      ]
     },
     "metadata": {},
     "output_type": "display_data"
    },
    {
     "name": "stdout",
     "output_type": "stream",
     "text": [
      "\n"
     ]
    },
    {
     "data": {
      "application/vnd.jupyter.widget-view+json": {
       "model_id": "4bc0ab0b71fb4594ab3a371f062ddd7f",
       "version_major": 2,
       "version_minor": 0
      },
      "text/html": [
       "<p>Failed to display Jupyter Widget of type <code>HBox</code>.</p>\n",
       "<p>\n",
       "  If you're reading this message in the Jupyter Notebook or JupyterLab Notebook, it may mean\n",
       "  that the widgets JavaScript is still loading. If this message persists, it\n",
       "  likely means that the widgets JavaScript library is either not installed or\n",
       "  not enabled. See the <a href=\"https://ipywidgets.readthedocs.io/en/stable/user_install.html\">Jupyter\n",
       "  Widgets Documentation</a> for setup instructions.\n",
       "</p>\n",
       "<p>\n",
       "  If you're reading this message in another frontend (for example, a static\n",
       "  rendering on GitHub or <a href=\"https://nbviewer.jupyter.org/\">NBViewer</a>),\n",
       "  it may mean that your frontend doesn't currently support widgets.\n",
       "</p>\n"
      ],
      "text/plain": [
       "HBox(children=(IntProgress(value=0, max=1), HTML(value='')))"
      ]
     },
     "metadata": {},
     "output_type": "display_data"
    },
    {
     "name": "stdout",
     "output_type": "stream",
     "text": [
      "\n"
     ]
    },
    {
     "data": {
      "application/vnd.jupyter.widget-view+json": {
       "model_id": "05b3fa64ff31484b8fb57957c6d1b11e",
       "version_major": 2,
       "version_minor": 0
      },
      "text/html": [
       "<p>Failed to display Jupyter Widget of type <code>HBox</code>.</p>\n",
       "<p>\n",
       "  If you're reading this message in the Jupyter Notebook or JupyterLab Notebook, it may mean\n",
       "  that the widgets JavaScript is still loading. If this message persists, it\n",
       "  likely means that the widgets JavaScript library is either not installed or\n",
       "  not enabled. See the <a href=\"https://ipywidgets.readthedocs.io/en/stable/user_install.html\">Jupyter\n",
       "  Widgets Documentation</a> for setup instructions.\n",
       "</p>\n",
       "<p>\n",
       "  If you're reading this message in another frontend (for example, a static\n",
       "  rendering on GitHub or <a href=\"https://nbviewer.jupyter.org/\">NBViewer</a>),\n",
       "  it may mean that your frontend doesn't currently support widgets.\n",
       "</p>\n"
      ],
      "text/plain": [
       "HBox(children=(IntProgress(value=0, max=1), HTML(value='')))"
      ]
     },
     "metadata": {},
     "output_type": "display_data"
    },
    {
     "name": "stdout",
     "output_type": "stream",
     "text": [
      "\n",
      "==== Performance Check === \n",
      "\t Train Loss =  2.9137141704559326\n",
      "\t Dev Loss =  14.257248878479004\n",
      "\t Train BLEU =  0.0017941146\n",
      "\t Dev BLEU =  0.00081952714\n"
     ]
    },
    {
     "data": {
      "application/vnd.jupyter.widget-view+json": {
       "model_id": "ab10a691c36348ce84830c40b59e328a",
       "version_major": 2,
       "version_minor": 0
      },
      "text/html": [
       "<p>Failed to display Jupyter Widget of type <code>HBox</code>.</p>\n",
       "<p>\n",
       "  If you're reading this message in the Jupyter Notebook or JupyterLab Notebook, it may mean\n",
       "  that the widgets JavaScript is still loading. If this message persists, it\n",
       "  likely means that the widgets JavaScript library is either not installed or\n",
       "  not enabled. See the <a href=\"https://ipywidgets.readthedocs.io/en/stable/user_install.html\">Jupyter\n",
       "  Widgets Documentation</a> for setup instructions.\n",
       "</p>\n",
       "<p>\n",
       "  If you're reading this message in another frontend (for example, a static\n",
       "  rendering on GitHub or <a href=\"https://nbviewer.jupyter.org/\">NBViewer</a>),\n",
       "  it may mean that your frontend doesn't currently support widgets.\n",
       "</p>\n"
      ],
      "text/plain": [
       "HBox(children=(IntProgress(value=0, max=1), HTML(value='')))"
      ]
     },
     "metadata": {},
     "output_type": "display_data"
    },
    {
     "name": "stdout",
     "output_type": "stream",
     "text": [
      "\n"
     ]
    },
    {
     "data": {
      "application/vnd.jupyter.widget-view+json": {
       "model_id": "9e0e1f38306743d0adf6489ad9f56641",
       "version_major": 2,
       "version_minor": 0
      },
      "text/html": [
       "<p>Failed to display Jupyter Widget of type <code>HBox</code>.</p>\n",
       "<p>\n",
       "  If you're reading this message in the Jupyter Notebook or JupyterLab Notebook, it may mean\n",
       "  that the widgets JavaScript is still loading. If this message persists, it\n",
       "  likely means that the widgets JavaScript library is either not installed or\n",
       "  not enabled. See the <a href=\"https://ipywidgets.readthedocs.io/en/stable/user_install.html\">Jupyter\n",
       "  Widgets Documentation</a> for setup instructions.\n",
       "</p>\n",
       "<p>\n",
       "  If you're reading this message in another frontend (for example, a static\n",
       "  rendering on GitHub or <a href=\"https://nbviewer.jupyter.org/\">NBViewer</a>),\n",
       "  it may mean that your frontend doesn't currently support widgets.\n",
       "</p>\n"
      ],
      "text/plain": [
       "HBox(children=(IntProgress(value=0, max=1), HTML(value='')))"
      ]
     },
     "metadata": {},
     "output_type": "display_data"
    },
    {
     "name": "stdout",
     "output_type": "stream",
     "text": [
      "\n"
     ]
    },
    {
     "data": {
      "application/vnd.jupyter.widget-view+json": {
       "model_id": "e02fc053a6824f12aaeeb5bee594987c",
       "version_major": 2,
       "version_minor": 0
      },
      "text/html": [
       "<p>Failed to display Jupyter Widget of type <code>HBox</code>.</p>\n",
       "<p>\n",
       "  If you're reading this message in the Jupyter Notebook or JupyterLab Notebook, it may mean\n",
       "  that the widgets JavaScript is still loading. If this message persists, it\n",
       "  likely means that the widgets JavaScript library is either not installed or\n",
       "  not enabled. See the <a href=\"https://ipywidgets.readthedocs.io/en/stable/user_install.html\">Jupyter\n",
       "  Widgets Documentation</a> for setup instructions.\n",
       "</p>\n",
       "<p>\n",
       "  If you're reading this message in another frontend (for example, a static\n",
       "  rendering on GitHub or <a href=\"https://nbviewer.jupyter.org/\">NBViewer</a>),\n",
       "  it may mean that your frontend doesn't currently support widgets.\n",
       "</p>\n"
      ],
      "text/plain": [
       "HBox(children=(IntProgress(value=0, max=1), HTML(value='')))"
      ]
     },
     "metadata": {},
     "output_type": "display_data"
    },
    {
     "name": "stdout",
     "output_type": "stream",
     "text": [
      "\n"
     ]
    },
    {
     "data": {
      "application/vnd.jupyter.widget-view+json": {
       "model_id": "39c1bb7d0e0b40089daaf7acfd618a22",
       "version_major": 2,
       "version_minor": 0
      },
      "text/html": [
       "<p>Failed to display Jupyter Widget of type <code>HBox</code>.</p>\n",
       "<p>\n",
       "  If you're reading this message in the Jupyter Notebook or JupyterLab Notebook, it may mean\n",
       "  that the widgets JavaScript is still loading. If this message persists, it\n",
       "  likely means that the widgets JavaScript library is either not installed or\n",
       "  not enabled. See the <a href=\"https://ipywidgets.readthedocs.io/en/stable/user_install.html\">Jupyter\n",
       "  Widgets Documentation</a> for setup instructions.\n",
       "</p>\n",
       "<p>\n",
       "  If you're reading this message in another frontend (for example, a static\n",
       "  rendering on GitHub or <a href=\"https://nbviewer.jupyter.org/\">NBViewer</a>),\n",
       "  it may mean that your frontend doesn't currently support widgets.\n",
       "</p>\n"
      ],
      "text/plain": [
       "HBox(children=(IntProgress(value=0, max=1), HTML(value='')))"
      ]
     },
     "metadata": {},
     "output_type": "display_data"
    },
    {
     "name": "stdout",
     "output_type": "stream",
     "text": [
      "\n"
     ]
    },
    {
     "data": {
      "application/vnd.jupyter.widget-view+json": {
       "model_id": "e45b3b753afd4b9d8742d993325390c7",
       "version_major": 2,
       "version_minor": 0
      },
      "text/html": [
       "<p>Failed to display Jupyter Widget of type <code>HBox</code>.</p>\n",
       "<p>\n",
       "  If you're reading this message in the Jupyter Notebook or JupyterLab Notebook, it may mean\n",
       "  that the widgets JavaScript is still loading. If this message persists, it\n",
       "  likely means that the widgets JavaScript library is either not installed or\n",
       "  not enabled. See the <a href=\"https://ipywidgets.readthedocs.io/en/stable/user_install.html\">Jupyter\n",
       "  Widgets Documentation</a> for setup instructions.\n",
       "</p>\n",
       "<p>\n",
       "  If you're reading this message in another frontend (for example, a static\n",
       "  rendering on GitHub or <a href=\"https://nbviewer.jupyter.org/\">NBViewer</a>),\n",
       "  it may mean that your frontend doesn't currently support widgets.\n",
       "</p>\n"
      ],
      "text/plain": [
       "HBox(children=(IntProgress(value=0, max=1), HTML(value='')))"
      ]
     },
     "metadata": {},
     "output_type": "display_data"
    },
    {
     "name": "stdout",
     "output_type": "stream",
     "text": [
      "\n",
      "==== Performance Check === \n",
      "\t Train Loss =  2.7660346031188965\n",
      "\t Dev Loss =  9.659725189208984\n",
      "\t Train BLEU =  0.010399748\n",
      "\t Dev BLEU =  0.0144013455\n"
     ]
    },
    {
     "data": {
      "application/vnd.jupyter.widget-view+json": {
       "model_id": "bcf52c69867f4fe0ad4e7594fcce24cb",
       "version_major": 2,
       "version_minor": 0
      },
      "text/html": [
       "<p>Failed to display Jupyter Widget of type <code>HBox</code>.</p>\n",
       "<p>\n",
       "  If you're reading this message in the Jupyter Notebook or JupyterLab Notebook, it may mean\n",
       "  that the widgets JavaScript is still loading. If this message persists, it\n",
       "  likely means that the widgets JavaScript library is either not installed or\n",
       "  not enabled. See the <a href=\"https://ipywidgets.readthedocs.io/en/stable/user_install.html\">Jupyter\n",
       "  Widgets Documentation</a> for setup instructions.\n",
       "</p>\n",
       "<p>\n",
       "  If you're reading this message in another frontend (for example, a static\n",
       "  rendering on GitHub or <a href=\"https://nbviewer.jupyter.org/\">NBViewer</a>),\n",
       "  it may mean that your frontend doesn't currently support widgets.\n",
       "</p>\n"
      ],
      "text/plain": [
       "HBox(children=(IntProgress(value=0, max=1), HTML(value='')))"
      ]
     },
     "metadata": {},
     "output_type": "display_data"
    },
    {
     "name": "stdout",
     "output_type": "stream",
     "text": [
      "\n"
     ]
    },
    {
     "data": {
      "application/vnd.jupyter.widget-view+json": {
       "model_id": "a23f0643eeb3456f84a8fed7bab5c3fc",
       "version_major": 2,
       "version_minor": 0
      },
      "text/html": [
       "<p>Failed to display Jupyter Widget of type <code>HBox</code>.</p>\n",
       "<p>\n",
       "  If you're reading this message in the Jupyter Notebook or JupyterLab Notebook, it may mean\n",
       "  that the widgets JavaScript is still loading. If this message persists, it\n",
       "  likely means that the widgets JavaScript library is either not installed or\n",
       "  not enabled. See the <a href=\"https://ipywidgets.readthedocs.io/en/stable/user_install.html\">Jupyter\n",
       "  Widgets Documentation</a> for setup instructions.\n",
       "</p>\n",
       "<p>\n",
       "  If you're reading this message in another frontend (for example, a static\n",
       "  rendering on GitHub or <a href=\"https://nbviewer.jupyter.org/\">NBViewer</a>),\n",
       "  it may mean that your frontend doesn't currently support widgets.\n",
       "</p>\n"
      ],
      "text/plain": [
       "HBox(children=(IntProgress(value=0, max=1), HTML(value='')))"
      ]
     },
     "metadata": {},
     "output_type": "display_data"
    },
    {
     "name": "stdout",
     "output_type": "stream",
     "text": [
      "\n"
     ]
    },
    {
     "data": {
      "application/vnd.jupyter.widget-view+json": {
       "model_id": "44405d42ef474afdb0b55438a3afec19",
       "version_major": 2,
       "version_minor": 0
      },
      "text/html": [
       "<p>Failed to display Jupyter Widget of type <code>HBox</code>.</p>\n",
       "<p>\n",
       "  If you're reading this message in the Jupyter Notebook or JupyterLab Notebook, it may mean\n",
       "  that the widgets JavaScript is still loading. If this message persists, it\n",
       "  likely means that the widgets JavaScript library is either not installed or\n",
       "  not enabled. See the <a href=\"https://ipywidgets.readthedocs.io/en/stable/user_install.html\">Jupyter\n",
       "  Widgets Documentation</a> for setup instructions.\n",
       "</p>\n",
       "<p>\n",
       "  If you're reading this message in another frontend (for example, a static\n",
       "  rendering on GitHub or <a href=\"https://nbviewer.jupyter.org/\">NBViewer</a>),\n",
       "  it may mean that your frontend doesn't currently support widgets.\n",
       "</p>\n"
      ],
      "text/plain": [
       "HBox(children=(IntProgress(value=0, max=1), HTML(value='')))"
      ]
     },
     "metadata": {},
     "output_type": "display_data"
    },
    {
     "name": "stdout",
     "output_type": "stream",
     "text": [
      "\n"
     ]
    },
    {
     "data": {
      "application/vnd.jupyter.widget-view+json": {
       "model_id": "610f17ee096a4186a7d0e18e46da92f1",
       "version_major": 2,
       "version_minor": 0
      },
      "text/html": [
       "<p>Failed to display Jupyter Widget of type <code>HBox</code>.</p>\n",
       "<p>\n",
       "  If you're reading this message in the Jupyter Notebook or JupyterLab Notebook, it may mean\n",
       "  that the widgets JavaScript is still loading. If this message persists, it\n",
       "  likely means that the widgets JavaScript library is either not installed or\n",
       "  not enabled. See the <a href=\"https://ipywidgets.readthedocs.io/en/stable/user_install.html\">Jupyter\n",
       "  Widgets Documentation</a> for setup instructions.\n",
       "</p>\n",
       "<p>\n",
       "  If you're reading this message in another frontend (for example, a static\n",
       "  rendering on GitHub or <a href=\"https://nbviewer.jupyter.org/\">NBViewer</a>),\n",
       "  it may mean that your frontend doesn't currently support widgets.\n",
       "</p>\n"
      ],
      "text/plain": [
       "HBox(children=(IntProgress(value=0, max=1), HTML(value='')))"
      ]
     },
     "metadata": {},
     "output_type": "display_data"
    },
    {
     "name": "stdout",
     "output_type": "stream",
     "text": [
      "\n"
     ]
    },
    {
     "data": {
      "application/vnd.jupyter.widget-view+json": {
       "model_id": "4da99f246c7a47f59dd8e4810f3b6fe5",
       "version_major": 2,
       "version_minor": 0
      },
      "text/html": [
       "<p>Failed to display Jupyter Widget of type <code>HBox</code>.</p>\n",
       "<p>\n",
       "  If you're reading this message in the Jupyter Notebook or JupyterLab Notebook, it may mean\n",
       "  that the widgets JavaScript is still loading. If this message persists, it\n",
       "  likely means that the widgets JavaScript library is either not installed or\n",
       "  not enabled. See the <a href=\"https://ipywidgets.readthedocs.io/en/stable/user_install.html\">Jupyter\n",
       "  Widgets Documentation</a> for setup instructions.\n",
       "</p>\n",
       "<p>\n",
       "  If you're reading this message in another frontend (for example, a static\n",
       "  rendering on GitHub or <a href=\"https://nbviewer.jupyter.org/\">NBViewer</a>),\n",
       "  it may mean that your frontend doesn't currently support widgets.\n",
       "</p>\n"
      ],
      "text/plain": [
       "HBox(children=(IntProgress(value=0, max=1), HTML(value='')))"
      ]
     },
     "metadata": {},
     "output_type": "display_data"
    },
    {
     "name": "stdout",
     "output_type": "stream",
     "text": [
      "\n",
      "==== Performance Check === \n",
      "\t Train Loss =  2.639941930770874\n",
      "\t Dev Loss =  7.453526973724365\n",
      "\t Train BLEU =  0.0017941146\n",
      "\t Dev BLEU =  0.0019491749\n"
     ]
    },
    {
     "data": {
      "application/vnd.jupyter.widget-view+json": {
       "model_id": "67ac6dc0f96a4a44a6bc969c10efea56",
       "version_major": 2,
       "version_minor": 0
      },
      "text/html": [
       "<p>Failed to display Jupyter Widget of type <code>HBox</code>.</p>\n",
       "<p>\n",
       "  If you're reading this message in the Jupyter Notebook or JupyterLab Notebook, it may mean\n",
       "  that the widgets JavaScript is still loading. If this message persists, it\n",
       "  likely means that the widgets JavaScript library is either not installed or\n",
       "  not enabled. See the <a href=\"https://ipywidgets.readthedocs.io/en/stable/user_install.html\">Jupyter\n",
       "  Widgets Documentation</a> for setup instructions.\n",
       "</p>\n",
       "<p>\n",
       "  If you're reading this message in another frontend (for example, a static\n",
       "  rendering on GitHub or <a href=\"https://nbviewer.jupyter.org/\">NBViewer</a>),\n",
       "  it may mean that your frontend doesn't currently support widgets.\n",
       "</p>\n"
      ],
      "text/plain": [
       "HBox(children=(IntProgress(value=0, max=1), HTML(value='')))"
      ]
     },
     "metadata": {},
     "output_type": "display_data"
    },
    {
     "name": "stdout",
     "output_type": "stream",
     "text": [
      "\n"
     ]
    },
    {
     "data": {
      "application/vnd.jupyter.widget-view+json": {
       "model_id": "4f5e5754840f4de3a08cbdd3fbbca311",
       "version_major": 2,
       "version_minor": 0
      },
      "text/html": [
       "<p>Failed to display Jupyter Widget of type <code>HBox</code>.</p>\n",
       "<p>\n",
       "  If you're reading this message in the Jupyter Notebook or JupyterLab Notebook, it may mean\n",
       "  that the widgets JavaScript is still loading. If this message persists, it\n",
       "  likely means that the widgets JavaScript library is either not installed or\n",
       "  not enabled. See the <a href=\"https://ipywidgets.readthedocs.io/en/stable/user_install.html\">Jupyter\n",
       "  Widgets Documentation</a> for setup instructions.\n",
       "</p>\n",
       "<p>\n",
       "  If you're reading this message in another frontend (for example, a static\n",
       "  rendering on GitHub or <a href=\"https://nbviewer.jupyter.org/\">NBViewer</a>),\n",
       "  it may mean that your frontend doesn't currently support widgets.\n",
       "</p>\n"
      ],
      "text/plain": [
       "HBox(children=(IntProgress(value=0, max=1), HTML(value='')))"
      ]
     },
     "metadata": {},
     "output_type": "display_data"
    },
    {
     "name": "stdout",
     "output_type": "stream",
     "text": [
      "\n"
     ]
    },
    {
     "data": {
      "application/vnd.jupyter.widget-view+json": {
       "model_id": "ffac96d3a35e411e9bf630c11f9cf2f3",
       "version_major": 2,
       "version_minor": 0
      },
      "text/html": [
       "<p>Failed to display Jupyter Widget of type <code>HBox</code>.</p>\n",
       "<p>\n",
       "  If you're reading this message in the Jupyter Notebook or JupyterLab Notebook, it may mean\n",
       "  that the widgets JavaScript is still loading. If this message persists, it\n",
       "  likely means that the widgets JavaScript library is either not installed or\n",
       "  not enabled. See the <a href=\"https://ipywidgets.readthedocs.io/en/stable/user_install.html\">Jupyter\n",
       "  Widgets Documentation</a> for setup instructions.\n",
       "</p>\n",
       "<p>\n",
       "  If you're reading this message in another frontend (for example, a static\n",
       "  rendering on GitHub or <a href=\"https://nbviewer.jupyter.org/\">NBViewer</a>),\n",
       "  it may mean that your frontend doesn't currently support widgets.\n",
       "</p>\n"
      ],
      "text/plain": [
       "HBox(children=(IntProgress(value=0, max=1), HTML(value='')))"
      ]
     },
     "metadata": {},
     "output_type": "display_data"
    },
    {
     "name": "stdout",
     "output_type": "stream",
     "text": [
      "\n"
     ]
    },
    {
     "data": {
      "application/vnd.jupyter.widget-view+json": {
       "model_id": "f888dcb8def646af865d84c161406c98",
       "version_major": 2,
       "version_minor": 0
      },
      "text/html": [
       "<p>Failed to display Jupyter Widget of type <code>HBox</code>.</p>\n",
       "<p>\n",
       "  If you're reading this message in the Jupyter Notebook or JupyterLab Notebook, it may mean\n",
       "  that the widgets JavaScript is still loading. If this message persists, it\n",
       "  likely means that the widgets JavaScript library is either not installed or\n",
       "  not enabled. See the <a href=\"https://ipywidgets.readthedocs.io/en/stable/user_install.html\">Jupyter\n",
       "  Widgets Documentation</a> for setup instructions.\n",
       "</p>\n",
       "<p>\n",
       "  If you're reading this message in another frontend (for example, a static\n",
       "  rendering on GitHub or <a href=\"https://nbviewer.jupyter.org/\">NBViewer</a>),\n",
       "  it may mean that your frontend doesn't currently support widgets.\n",
       "</p>\n"
      ],
      "text/plain": [
       "HBox(children=(IntProgress(value=0, max=1), HTML(value='')))"
      ]
     },
     "metadata": {},
     "output_type": "display_data"
    },
    {
     "name": "stdout",
     "output_type": "stream",
     "text": [
      "\n"
     ]
    },
    {
     "data": {
      "application/vnd.jupyter.widget-view+json": {
       "model_id": "56cd1042c48a45de888c634b873dd404",
       "version_major": 2,
       "version_minor": 0
      },
      "text/html": [
       "<p>Failed to display Jupyter Widget of type <code>HBox</code>.</p>\n",
       "<p>\n",
       "  If you're reading this message in the Jupyter Notebook or JupyterLab Notebook, it may mean\n",
       "  that the widgets JavaScript is still loading. If this message persists, it\n",
       "  likely means that the widgets JavaScript library is either not installed or\n",
       "  not enabled. See the <a href=\"https://ipywidgets.readthedocs.io/en/stable/user_install.html\">Jupyter\n",
       "  Widgets Documentation</a> for setup instructions.\n",
       "</p>\n",
       "<p>\n",
       "  If you're reading this message in another frontend (for example, a static\n",
       "  rendering on GitHub or <a href=\"https://nbviewer.jupyter.org/\">NBViewer</a>),\n",
       "  it may mean that your frontend doesn't currently support widgets.\n",
       "</p>\n"
      ],
      "text/plain": [
       "HBox(children=(IntProgress(value=0, max=1), HTML(value='')))"
      ]
     },
     "metadata": {},
     "output_type": "display_data"
    },
    {
     "name": "stdout",
     "output_type": "stream",
     "text": [
      "\n",
      "==== Performance Check === \n",
      "\t Train Loss =  2.5331239700317383\n",
      "\t Dev Loss =  7.670583248138428\n",
      "\t Train BLEU =  0.004464768\n",
      "\t Dev BLEU =  0.0030634692\n"
     ]
    },
    {
     "data": {
      "application/vnd.jupyter.widget-view+json": {
       "model_id": "9bfdd3f6c53f4a1a86aa4a74bde995c3",
       "version_major": 2,
       "version_minor": 0
      },
      "text/html": [
       "<p>Failed to display Jupyter Widget of type <code>HBox</code>.</p>\n",
       "<p>\n",
       "  If you're reading this message in the Jupyter Notebook or JupyterLab Notebook, it may mean\n",
       "  that the widgets JavaScript is still loading. If this message persists, it\n",
       "  likely means that the widgets JavaScript library is either not installed or\n",
       "  not enabled. See the <a href=\"https://ipywidgets.readthedocs.io/en/stable/user_install.html\">Jupyter\n",
       "  Widgets Documentation</a> for setup instructions.\n",
       "</p>\n",
       "<p>\n",
       "  If you're reading this message in another frontend (for example, a static\n",
       "  rendering on GitHub or <a href=\"https://nbviewer.jupyter.org/\">NBViewer</a>),\n",
       "  it may mean that your frontend doesn't currently support widgets.\n",
       "</p>\n"
      ],
      "text/plain": [
       "HBox(children=(IntProgress(value=0, max=1), HTML(value='')))"
      ]
     },
     "metadata": {},
     "output_type": "display_data"
    },
    {
     "name": "stdout",
     "output_type": "stream",
     "text": [
      "\n"
     ]
    },
    {
     "data": {
      "application/vnd.jupyter.widget-view+json": {
       "model_id": "b257e062b7dd4c1087a01632d43aea6d",
       "version_major": 2,
       "version_minor": 0
      },
      "text/html": [
       "<p>Failed to display Jupyter Widget of type <code>HBox</code>.</p>\n",
       "<p>\n",
       "  If you're reading this message in the Jupyter Notebook or JupyterLab Notebook, it may mean\n",
       "  that the widgets JavaScript is still loading. If this message persists, it\n",
       "  likely means that the widgets JavaScript library is either not installed or\n",
       "  not enabled. See the <a href=\"https://ipywidgets.readthedocs.io/en/stable/user_install.html\">Jupyter\n",
       "  Widgets Documentation</a> for setup instructions.\n",
       "</p>\n",
       "<p>\n",
       "  If you're reading this message in another frontend (for example, a static\n",
       "  rendering on GitHub or <a href=\"https://nbviewer.jupyter.org/\">NBViewer</a>),\n",
       "  it may mean that your frontend doesn't currently support widgets.\n",
       "</p>\n"
      ],
      "text/plain": [
       "HBox(children=(IntProgress(value=0, max=1), HTML(value='')))"
      ]
     },
     "metadata": {},
     "output_type": "display_data"
    },
    {
     "name": "stdout",
     "output_type": "stream",
     "text": [
      "\n"
     ]
    },
    {
     "data": {
      "application/vnd.jupyter.widget-view+json": {
       "model_id": "373ca5939a074a38a1a078db971bfeb9",
       "version_major": 2,
       "version_minor": 0
      },
      "text/html": [
       "<p>Failed to display Jupyter Widget of type <code>HBox</code>.</p>\n",
       "<p>\n",
       "  If you're reading this message in the Jupyter Notebook or JupyterLab Notebook, it may mean\n",
       "  that the widgets JavaScript is still loading. If this message persists, it\n",
       "  likely means that the widgets JavaScript library is either not installed or\n",
       "  not enabled. See the <a href=\"https://ipywidgets.readthedocs.io/en/stable/user_install.html\">Jupyter\n",
       "  Widgets Documentation</a> for setup instructions.\n",
       "</p>\n",
       "<p>\n",
       "  If you're reading this message in another frontend (for example, a static\n",
       "  rendering on GitHub or <a href=\"https://nbviewer.jupyter.org/\">NBViewer</a>),\n",
       "  it may mean that your frontend doesn't currently support widgets.\n",
       "</p>\n"
      ],
      "text/plain": [
       "HBox(children=(IntProgress(value=0, max=1), HTML(value='')))"
      ]
     },
     "metadata": {},
     "output_type": "display_data"
    },
    {
     "name": "stdout",
     "output_type": "stream",
     "text": [
      "\n"
     ]
    },
    {
     "data": {
      "application/vnd.jupyter.widget-view+json": {
       "model_id": "75a4bf6c1291410e90da63aa5654f61c",
       "version_major": 2,
       "version_minor": 0
      },
      "text/html": [
       "<p>Failed to display Jupyter Widget of type <code>HBox</code>.</p>\n",
       "<p>\n",
       "  If you're reading this message in the Jupyter Notebook or JupyterLab Notebook, it may mean\n",
       "  that the widgets JavaScript is still loading. If this message persists, it\n",
       "  likely means that the widgets JavaScript library is either not installed or\n",
       "  not enabled. See the <a href=\"https://ipywidgets.readthedocs.io/en/stable/user_install.html\">Jupyter\n",
       "  Widgets Documentation</a> for setup instructions.\n",
       "</p>\n",
       "<p>\n",
       "  If you're reading this message in another frontend (for example, a static\n",
       "  rendering on GitHub or <a href=\"https://nbviewer.jupyter.org/\">NBViewer</a>),\n",
       "  it may mean that your frontend doesn't currently support widgets.\n",
       "</p>\n"
      ],
      "text/plain": [
       "HBox(children=(IntProgress(value=0, max=1), HTML(value='')))"
      ]
     },
     "metadata": {},
     "output_type": "display_data"
    },
    {
     "name": "stdout",
     "output_type": "stream",
     "text": [
      "\n"
     ]
    },
    {
     "data": {
      "application/vnd.jupyter.widget-view+json": {
       "model_id": "0058ba3fb04e4724a616f5575cf1201b",
       "version_major": 2,
       "version_minor": 0
      },
      "text/html": [
       "<p>Failed to display Jupyter Widget of type <code>HBox</code>.</p>\n",
       "<p>\n",
       "  If you're reading this message in the Jupyter Notebook or JupyterLab Notebook, it may mean\n",
       "  that the widgets JavaScript is still loading. If this message persists, it\n",
       "  likely means that the widgets JavaScript library is either not installed or\n",
       "  not enabled. See the <a href=\"https://ipywidgets.readthedocs.io/en/stable/user_install.html\">Jupyter\n",
       "  Widgets Documentation</a> for setup instructions.\n",
       "</p>\n",
       "<p>\n",
       "  If you're reading this message in another frontend (for example, a static\n",
       "  rendering on GitHub or <a href=\"https://nbviewer.jupyter.org/\">NBViewer</a>),\n",
       "  it may mean that your frontend doesn't currently support widgets.\n",
       "</p>\n"
      ],
      "text/plain": [
       "HBox(children=(IntProgress(value=0, max=1), HTML(value='')))"
      ]
     },
     "metadata": {},
     "output_type": "display_data"
    },
    {
     "name": "stdout",
     "output_type": "stream",
     "text": [
      "\n",
      "==== Performance Check === \n",
      "\t Train Loss =  2.462761640548706\n",
      "\t Dev Loss =  7.912360191345215\n",
      "\t Train BLEU =  0.0019491749\n",
      "\t Dev BLEU =  0.0019491749\n"
     ]
    },
    {
     "data": {
      "application/vnd.jupyter.widget-view+json": {
       "model_id": "4788b18fc56e48a297b7926b14f4ef36",
       "version_major": 2,
       "version_minor": 0
      },
      "text/html": [
       "<p>Failed to display Jupyter Widget of type <code>HBox</code>.</p>\n",
       "<p>\n",
       "  If you're reading this message in the Jupyter Notebook or JupyterLab Notebook, it may mean\n",
       "  that the widgets JavaScript is still loading. If this message persists, it\n",
       "  likely means that the widgets JavaScript library is either not installed or\n",
       "  not enabled. See the <a href=\"https://ipywidgets.readthedocs.io/en/stable/user_install.html\">Jupyter\n",
       "  Widgets Documentation</a> for setup instructions.\n",
       "</p>\n",
       "<p>\n",
       "  If you're reading this message in another frontend (for example, a static\n",
       "  rendering on GitHub or <a href=\"https://nbviewer.jupyter.org/\">NBViewer</a>),\n",
       "  it may mean that your frontend doesn't currently support widgets.\n",
       "</p>\n"
      ],
      "text/plain": [
       "HBox(children=(IntProgress(value=0, max=1), HTML(value='')))"
      ]
     },
     "metadata": {},
     "output_type": "display_data"
    },
    {
     "name": "stdout",
     "output_type": "stream",
     "text": [
      "\n"
     ]
    },
    {
     "data": {
      "application/vnd.jupyter.widget-view+json": {
       "model_id": "82987e77c2474b909559633e88e34cf3",
       "version_major": 2,
       "version_minor": 0
      },
      "text/html": [
       "<p>Failed to display Jupyter Widget of type <code>HBox</code>.</p>\n",
       "<p>\n",
       "  If you're reading this message in the Jupyter Notebook or JupyterLab Notebook, it may mean\n",
       "  that the widgets JavaScript is still loading. If this message persists, it\n",
       "  likely means that the widgets JavaScript library is either not installed or\n",
       "  not enabled. See the <a href=\"https://ipywidgets.readthedocs.io/en/stable/user_install.html\">Jupyter\n",
       "  Widgets Documentation</a> for setup instructions.\n",
       "</p>\n",
       "<p>\n",
       "  If you're reading this message in another frontend (for example, a static\n",
       "  rendering on GitHub or <a href=\"https://nbviewer.jupyter.org/\">NBViewer</a>),\n",
       "  it may mean that your frontend doesn't currently support widgets.\n",
       "</p>\n"
      ],
      "text/plain": [
       "HBox(children=(IntProgress(value=0, max=1), HTML(value='')))"
      ]
     },
     "metadata": {},
     "output_type": "display_data"
    },
    {
     "name": "stdout",
     "output_type": "stream",
     "text": [
      "\n"
     ]
    },
    {
     "data": {
      "application/vnd.jupyter.widget-view+json": {
       "model_id": "2b8b7db2153b4cdf836581e88374f059",
       "version_major": 2,
       "version_minor": 0
      },
      "text/html": [
       "<p>Failed to display Jupyter Widget of type <code>HBox</code>.</p>\n",
       "<p>\n",
       "  If you're reading this message in the Jupyter Notebook or JupyterLab Notebook, it may mean\n",
       "  that the widgets JavaScript is still loading. If this message persists, it\n",
       "  likely means that the widgets JavaScript library is either not installed or\n",
       "  not enabled. See the <a href=\"https://ipywidgets.readthedocs.io/en/stable/user_install.html\">Jupyter\n",
       "  Widgets Documentation</a> for setup instructions.\n",
       "</p>\n",
       "<p>\n",
       "  If you're reading this message in another frontend (for example, a static\n",
       "  rendering on GitHub or <a href=\"https://nbviewer.jupyter.org/\">NBViewer</a>),\n",
       "  it may mean that your frontend doesn't currently support widgets.\n",
       "</p>\n"
      ],
      "text/plain": [
       "HBox(children=(IntProgress(value=0, max=1), HTML(value='')))"
      ]
     },
     "metadata": {},
     "output_type": "display_data"
    },
    {
     "name": "stdout",
     "output_type": "stream",
     "text": [
      "\n"
     ]
    },
    {
     "data": {
      "application/vnd.jupyter.widget-view+json": {
       "model_id": "474a9e03ee7d4101abdd0450e10278e4",
       "version_major": 2,
       "version_minor": 0
      },
      "text/html": [
       "<p>Failed to display Jupyter Widget of type <code>HBox</code>.</p>\n",
       "<p>\n",
       "  If you're reading this message in the Jupyter Notebook or JupyterLab Notebook, it may mean\n",
       "  that the widgets JavaScript is still loading. If this message persists, it\n",
       "  likely means that the widgets JavaScript library is either not installed or\n",
       "  not enabled. See the <a href=\"https://ipywidgets.readthedocs.io/en/stable/user_install.html\">Jupyter\n",
       "  Widgets Documentation</a> for setup instructions.\n",
       "</p>\n",
       "<p>\n",
       "  If you're reading this message in another frontend (for example, a static\n",
       "  rendering on GitHub or <a href=\"https://nbviewer.jupyter.org/\">NBViewer</a>),\n",
       "  it may mean that your frontend doesn't currently support widgets.\n",
       "</p>\n"
      ],
      "text/plain": [
       "HBox(children=(IntProgress(value=0, max=1), HTML(value='')))"
      ]
     },
     "metadata": {},
     "output_type": "display_data"
    },
    {
     "name": "stdout",
     "output_type": "stream",
     "text": [
      "\n"
     ]
    },
    {
     "data": {
      "application/vnd.jupyter.widget-view+json": {
       "model_id": "f764a286c11f4a79aacc3ed99ba15590",
       "version_major": 2,
       "version_minor": 0
      },
      "text/html": [
       "<p>Failed to display Jupyter Widget of type <code>HBox</code>.</p>\n",
       "<p>\n",
       "  If you're reading this message in the Jupyter Notebook or JupyterLab Notebook, it may mean\n",
       "  that the widgets JavaScript is still loading. If this message persists, it\n",
       "  likely means that the widgets JavaScript library is either not installed or\n",
       "  not enabled. See the <a href=\"https://ipywidgets.readthedocs.io/en/stable/user_install.html\">Jupyter\n",
       "  Widgets Documentation</a> for setup instructions.\n",
       "</p>\n",
       "<p>\n",
       "  If you're reading this message in another frontend (for example, a static\n",
       "  rendering on GitHub or <a href=\"https://nbviewer.jupyter.org/\">NBViewer</a>),\n",
       "  it may mean that your frontend doesn't currently support widgets.\n",
       "</p>\n"
      ],
      "text/plain": [
       "HBox(children=(IntProgress(value=0, max=1), HTML(value='')))"
      ]
     },
     "metadata": {},
     "output_type": "display_data"
    },
    {
     "name": "stdout",
     "output_type": "stream",
     "text": [
      "\n",
      "==== Performance Check === \n",
      "\t Train Loss =  2.3980870246887207\n",
      "\t Dev Loss =  8.107370376586914\n",
      "\t Train BLEU =  0.0019491749\n",
      "\t Dev BLEU =  0.0019491749\n"
     ]
    },
    {
     "data": {
      "application/vnd.jupyter.widget-view+json": {
       "model_id": "8e8d6540b73a48738772972f120e4a71",
       "version_major": 2,
       "version_minor": 0
      },
      "text/html": [
       "<p>Failed to display Jupyter Widget of type <code>HBox</code>.</p>\n",
       "<p>\n",
       "  If you're reading this message in the Jupyter Notebook or JupyterLab Notebook, it may mean\n",
       "  that the widgets JavaScript is still loading. If this message persists, it\n",
       "  likely means that the widgets JavaScript library is either not installed or\n",
       "  not enabled. See the <a href=\"https://ipywidgets.readthedocs.io/en/stable/user_install.html\">Jupyter\n",
       "  Widgets Documentation</a> for setup instructions.\n",
       "</p>\n",
       "<p>\n",
       "  If you're reading this message in another frontend (for example, a static\n",
       "  rendering on GitHub or <a href=\"https://nbviewer.jupyter.org/\">NBViewer</a>),\n",
       "  it may mean that your frontend doesn't currently support widgets.\n",
       "</p>\n"
      ],
      "text/plain": [
       "HBox(children=(IntProgress(value=0, max=1), HTML(value='')))"
      ]
     },
     "metadata": {},
     "output_type": "display_data"
    },
    {
     "name": "stdout",
     "output_type": "stream",
     "text": [
      "\n"
     ]
    },
    {
     "data": {
      "application/vnd.jupyter.widget-view+json": {
       "model_id": "232be9698f2647ae9598eb2e6f34a05e",
       "version_major": 2,
       "version_minor": 0
      },
      "text/html": [
       "<p>Failed to display Jupyter Widget of type <code>HBox</code>.</p>\n",
       "<p>\n",
       "  If you're reading this message in the Jupyter Notebook or JupyterLab Notebook, it may mean\n",
       "  that the widgets JavaScript is still loading. If this message persists, it\n",
       "  likely means that the widgets JavaScript library is either not installed or\n",
       "  not enabled. See the <a href=\"https://ipywidgets.readthedocs.io/en/stable/user_install.html\">Jupyter\n",
       "  Widgets Documentation</a> for setup instructions.\n",
       "</p>\n",
       "<p>\n",
       "  If you're reading this message in another frontend (for example, a static\n",
       "  rendering on GitHub or <a href=\"https://nbviewer.jupyter.org/\">NBViewer</a>),\n",
       "  it may mean that your frontend doesn't currently support widgets.\n",
       "</p>\n"
      ],
      "text/plain": [
       "HBox(children=(IntProgress(value=0, max=1), HTML(value='')))"
      ]
     },
     "metadata": {},
     "output_type": "display_data"
    },
    {
     "name": "stdout",
     "output_type": "stream",
     "text": [
      "\n"
     ]
    },
    {
     "data": {
      "application/vnd.jupyter.widget-view+json": {
       "model_id": "2ede3a4c0ed64ac294aa59fc1c31a5d1",
       "version_major": 2,
       "version_minor": 0
      },
      "text/html": [
       "<p>Failed to display Jupyter Widget of type <code>HBox</code>.</p>\n",
       "<p>\n",
       "  If you're reading this message in the Jupyter Notebook or JupyterLab Notebook, it may mean\n",
       "  that the widgets JavaScript is still loading. If this message persists, it\n",
       "  likely means that the widgets JavaScript library is either not installed or\n",
       "  not enabled. See the <a href=\"https://ipywidgets.readthedocs.io/en/stable/user_install.html\">Jupyter\n",
       "  Widgets Documentation</a> for setup instructions.\n",
       "</p>\n",
       "<p>\n",
       "  If you're reading this message in another frontend (for example, a static\n",
       "  rendering on GitHub or <a href=\"https://nbviewer.jupyter.org/\">NBViewer</a>),\n",
       "  it may mean that your frontend doesn't currently support widgets.\n",
       "</p>\n"
      ],
      "text/plain": [
       "HBox(children=(IntProgress(value=0, max=1), HTML(value='')))"
      ]
     },
     "metadata": {},
     "output_type": "display_data"
    },
    {
     "name": "stdout",
     "output_type": "stream",
     "text": [
      "\n"
     ]
    },
    {
     "data": {
      "application/vnd.jupyter.widget-view+json": {
       "model_id": "7042db394106449a9b15581a3ec487fd",
       "version_major": 2,
       "version_minor": 0
      },
      "text/html": [
       "<p>Failed to display Jupyter Widget of type <code>HBox</code>.</p>\n",
       "<p>\n",
       "  If you're reading this message in the Jupyter Notebook or JupyterLab Notebook, it may mean\n",
       "  that the widgets JavaScript is still loading. If this message persists, it\n",
       "  likely means that the widgets JavaScript library is either not installed or\n",
       "  not enabled. See the <a href=\"https://ipywidgets.readthedocs.io/en/stable/user_install.html\">Jupyter\n",
       "  Widgets Documentation</a> for setup instructions.\n",
       "</p>\n",
       "<p>\n",
       "  If you're reading this message in another frontend (for example, a static\n",
       "  rendering on GitHub or <a href=\"https://nbviewer.jupyter.org/\">NBViewer</a>),\n",
       "  it may mean that your frontend doesn't currently support widgets.\n",
       "</p>\n"
      ],
      "text/plain": [
       "HBox(children=(IntProgress(value=0, max=1), HTML(value='')))"
      ]
     },
     "metadata": {},
     "output_type": "display_data"
    },
    {
     "name": "stdout",
     "output_type": "stream",
     "text": [
      "\n"
     ]
    },
    {
     "data": {
      "application/vnd.jupyter.widget-view+json": {
       "model_id": "ecede317b0eb4733a4c4272db98b6f0d",
       "version_major": 2,
       "version_minor": 0
      },
      "text/html": [
       "<p>Failed to display Jupyter Widget of type <code>HBox</code>.</p>\n",
       "<p>\n",
       "  If you're reading this message in the Jupyter Notebook or JupyterLab Notebook, it may mean\n",
       "  that the widgets JavaScript is still loading. If this message persists, it\n",
       "  likely means that the widgets JavaScript library is either not installed or\n",
       "  not enabled. See the <a href=\"https://ipywidgets.readthedocs.io/en/stable/user_install.html\">Jupyter\n",
       "  Widgets Documentation</a> for setup instructions.\n",
       "</p>\n",
       "<p>\n",
       "  If you're reading this message in another frontend (for example, a static\n",
       "  rendering on GitHub or <a href=\"https://nbviewer.jupyter.org/\">NBViewer</a>),\n",
       "  it may mean that your frontend doesn't currently support widgets.\n",
       "</p>\n"
      ],
      "text/plain": [
       "HBox(children=(IntProgress(value=0, max=1), HTML(value='')))"
      ]
     },
     "metadata": {},
     "output_type": "display_data"
    },
    {
     "name": "stdout",
     "output_type": "stream",
     "text": [
      "\n",
      "==== Performance Check === \n",
      "\t Train Loss =  2.3594536781311035\n",
      "\t Dev Loss =  8.25241756439209\n",
      "\t Train BLEU =  0.005479144\n",
      "\t Dev BLEU =  0.004498995\n"
     ]
    }
   ],
   "source": [
    "lrs = [1e-4, 5e-4, 9e-4,]\n",
    "results = {}\n",
    "for lr in lrs:\n",
    "    c_results  = train_localizer_network(learning_rate=lr)\n",
    "    results[str(lr)] = c_results  "
   ]
  },
  {
   "cell_type": "code",
   "execution_count": 5,
   "metadata": {},
   "outputs": [
    {
     "data": {
      "text/plain": [
       "<matplotlib.legend.Legend at 0x1a1504a438>"
      ]
     },
     "execution_count": 5,
     "metadata": {},
     "output_type": "execute_result"
    },
    {
     "data": {
      "image/png": "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\n",
      "text/plain": [
       "<matplotlib.figure.Figure at 0x10fc127f0>"
      ]
     },
     "metadata": {},
     "output_type": "display_data"
    }
   ],
   "source": [
    "for k, v in results.items():\n",
    "    plt.plot(v[0], label=k)\n",
    "plt.legend()"
   ]
  },
  {
   "cell_type": "code",
   "execution_count": null,
   "metadata": {},
   "outputs": [
    {
     "data": {
      "application/vnd.jupyter.widget-view+json": {
       "model_id": "fa17147ad1e74bca83eb154c7bf40ca1",
       "version_major": 2,
       "version_minor": 0
      },
      "text/html": [
       "<p>Failed to display Jupyter Widget of type <code>HBox</code>.</p>\n",
       "<p>\n",
       "  If you're reading this message in the Jupyter Notebook or JupyterLab Notebook, it may mean\n",
       "  that the widgets JavaScript is still loading. If this message persists, it\n",
       "  likely means that the widgets JavaScript library is either not installed or\n",
       "  not enabled. See the <a href=\"https://ipywidgets.readthedocs.io/en/stable/user_install.html\">Jupyter\n",
       "  Widgets Documentation</a> for setup instructions.\n",
       "</p>\n",
       "<p>\n",
       "  If you're reading this message in another frontend (for example, a static\n",
       "  rendering on GitHub or <a href=\"https://nbviewer.jupyter.org/\">NBViewer</a>),\n",
       "  it may mean that your frontend doesn't currently support widgets.\n",
       "</p>\n"
      ],
      "text/plain": [
       "HBox(children=(IntProgress(value=0, max=1), HTML(value='')))"
      ]
     },
     "metadata": {},
     "output_type": "display_data"
    },
    {
     "name": "stdout",
     "output_type": "stream",
     "text": [
      "\n"
     ]
    },
    {
     "data": {
      "application/vnd.jupyter.widget-view+json": {
       "model_id": "f102af54a5c44340b6339f2dce90061b",
       "version_major": 2,
       "version_minor": 0
      },
      "text/html": [
       "<p>Failed to display Jupyter Widget of type <code>HBox</code>.</p>\n",
       "<p>\n",
       "  If you're reading this message in the Jupyter Notebook or JupyterLab Notebook, it may mean\n",
       "  that the widgets JavaScript is still loading. If this message persists, it\n",
       "  likely means that the widgets JavaScript library is either not installed or\n",
       "  not enabled. See the <a href=\"https://ipywidgets.readthedocs.io/en/stable/user_install.html\">Jupyter\n",
       "  Widgets Documentation</a> for setup instructions.\n",
       "</p>\n",
       "<p>\n",
       "  If you're reading this message in another frontend (for example, a static\n",
       "  rendering on GitHub or <a href=\"https://nbviewer.jupyter.org/\">NBViewer</a>),\n",
       "  it may mean that your frontend doesn't currently support widgets.\n",
       "</p>\n"
      ],
      "text/plain": [
       "HBox(children=(IntProgress(value=0, max=1), HTML(value='')))"
      ]
     },
     "metadata": {},
     "output_type": "display_data"
    },
    {
     "name": "stdout",
     "output_type": "stream",
     "text": [
      "\n"
     ]
    },
    {
     "data": {
      "application/vnd.jupyter.widget-view+json": {
       "model_id": "8df27334923a47dfbefd4fd8b9d25bc1",
       "version_major": 2,
       "version_minor": 0
      },
      "text/html": [
       "<p>Failed to display Jupyter Widget of type <code>HBox</code>.</p>\n",
       "<p>\n",
       "  If you're reading this message in the Jupyter Notebook or JupyterLab Notebook, it may mean\n",
       "  that the widgets JavaScript is still loading. If this message persists, it\n",
       "  likely means that the widgets JavaScript library is either not installed or\n",
       "  not enabled. See the <a href=\"https://ipywidgets.readthedocs.io/en/stable/user_install.html\">Jupyter\n",
       "  Widgets Documentation</a> for setup instructions.\n",
       "</p>\n",
       "<p>\n",
       "  If you're reading this message in another frontend (for example, a static\n",
       "  rendering on GitHub or <a href=\"https://nbviewer.jupyter.org/\">NBViewer</a>),\n",
       "  it may mean that your frontend doesn't currently support widgets.\n",
       "</p>\n"
      ],
      "text/plain": [
       "HBox(children=(IntProgress(value=0, max=1), HTML(value='')))"
      ]
     },
     "metadata": {},
     "output_type": "display_data"
    },
    {
     "name": "stdout",
     "output_type": "stream",
     "text": [
      "\n"
     ]
    },
    {
     "data": {
      "application/vnd.jupyter.widget-view+json": {
       "model_id": "f7c6234f5a6d493f8f6d4ec4678d3f73",
       "version_major": 2,
       "version_minor": 0
      },
      "text/html": [
       "<p>Failed to display Jupyter Widget of type <code>HBox</code>.</p>\n",
       "<p>\n",
       "  If you're reading this message in the Jupyter Notebook or JupyterLab Notebook, it may mean\n",
       "  that the widgets JavaScript is still loading. If this message persists, it\n",
       "  likely means that the widgets JavaScript library is either not installed or\n",
       "  not enabled. See the <a href=\"https://ipywidgets.readthedocs.io/en/stable/user_install.html\">Jupyter\n",
       "  Widgets Documentation</a> for setup instructions.\n",
       "</p>\n",
       "<p>\n",
       "  If you're reading this message in another frontend (for example, a static\n",
       "  rendering on GitHub or <a href=\"https://nbviewer.jupyter.org/\">NBViewer</a>),\n",
       "  it may mean that your frontend doesn't currently support widgets.\n",
       "</p>\n"
      ],
      "text/plain": [
       "HBox(children=(IntProgress(value=0, max=1), HTML(value='')))"
      ]
     },
     "metadata": {},
     "output_type": "display_data"
    },
    {
     "name": "stdout",
     "output_type": "stream",
     "text": [
      "\n"
     ]
    },
    {
     "data": {
      "application/vnd.jupyter.widget-view+json": {
       "model_id": "2be11a17403e4e62a49b67b63c44f63b",
       "version_major": 2,
       "version_minor": 0
      },
      "text/html": [
       "<p>Failed to display Jupyter Widget of type <code>HBox</code>.</p>\n",
       "<p>\n",
       "  If you're reading this message in the Jupyter Notebook or JupyterLab Notebook, it may mean\n",
       "  that the widgets JavaScript is still loading. If this message persists, it\n",
       "  likely means that the widgets JavaScript library is either not installed or\n",
       "  not enabled. See the <a href=\"https://ipywidgets.readthedocs.io/en/stable/user_install.html\">Jupyter\n",
       "  Widgets Documentation</a> for setup instructions.\n",
       "</p>\n",
       "<p>\n",
       "  If you're reading this message in another frontend (for example, a static\n",
       "  rendering on GitHub or <a href=\"https://nbviewer.jupyter.org/\">NBViewer</a>),\n",
       "  it may mean that your frontend doesn't currently support widgets.\n",
       "</p>\n"
      ],
      "text/plain": [
       "HBox(children=(IntProgress(value=0, max=1), HTML(value='')))"
      ]
     },
     "metadata": {},
     "output_type": "display_data"
    },
    {
     "name": "stdout",
     "output_type": "stream",
     "text": [
      "\n",
      "==== Performance Check === \n",
      "\t Train Loss =  4.335470199584961\n",
      "\t Dev Loss =  5.016636371612549\n",
      "\t Train BLEU =  0.0010785584\n",
      "\t Dev BLEU =  0.0015658521\n"
     ]
    },
    {
     "data": {
      "application/vnd.jupyter.widget-view+json": {
       "model_id": "a10b1783d816490489acdfaf92b626c9",
       "version_major": 2,
       "version_minor": 0
      },
      "text/html": [
       "<p>Failed to display Jupyter Widget of type <code>HBox</code>.</p>\n",
       "<p>\n",
       "  If you're reading this message in the Jupyter Notebook or JupyterLab Notebook, it may mean\n",
       "  that the widgets JavaScript is still loading. If this message persists, it\n",
       "  likely means that the widgets JavaScript library is either not installed or\n",
       "  not enabled. See the <a href=\"https://ipywidgets.readthedocs.io/en/stable/user_install.html\">Jupyter\n",
       "  Widgets Documentation</a> for setup instructions.\n",
       "</p>\n",
       "<p>\n",
       "  If you're reading this message in another frontend (for example, a static\n",
       "  rendering on GitHub or <a href=\"https://nbviewer.jupyter.org/\">NBViewer</a>),\n",
       "  it may mean that your frontend doesn't currently support widgets.\n",
       "</p>\n"
      ],
      "text/plain": [
       "HBox(children=(IntProgress(value=0, max=1), HTML(value='')))"
      ]
     },
     "metadata": {},
     "output_type": "display_data"
    },
    {
     "name": "stdout",
     "output_type": "stream",
     "text": [
      "\n"
     ]
    },
    {
     "data": {
      "application/vnd.jupyter.widget-view+json": {
       "model_id": "751d8d9f33d74bf7908079fe22e10419",
       "version_major": 2,
       "version_minor": 0
      },
      "text/html": [
       "<p>Failed to display Jupyter Widget of type <code>HBox</code>.</p>\n",
       "<p>\n",
       "  If you're reading this message in the Jupyter Notebook or JupyterLab Notebook, it may mean\n",
       "  that the widgets JavaScript is still loading. If this message persists, it\n",
       "  likely means that the widgets JavaScript library is either not installed or\n",
       "  not enabled. See the <a href=\"https://ipywidgets.readthedocs.io/en/stable/user_install.html\">Jupyter\n",
       "  Widgets Documentation</a> for setup instructions.\n",
       "</p>\n",
       "<p>\n",
       "  If you're reading this message in another frontend (for example, a static\n",
       "  rendering on GitHub or <a href=\"https://nbviewer.jupyter.org/\">NBViewer</a>),\n",
       "  it may mean that your frontend doesn't currently support widgets.\n",
       "</p>\n"
      ],
      "text/plain": [
       "HBox(children=(IntProgress(value=0, max=1), HTML(value='')))"
      ]
     },
     "metadata": {},
     "output_type": "display_data"
    },
    {
     "name": "stdout",
     "output_type": "stream",
     "text": [
      "\n"
     ]
    },
    {
     "data": {
      "application/vnd.jupyter.widget-view+json": {
       "model_id": "25d1114802d84035bb064188159d3c78",
       "version_major": 2,
       "version_minor": 0
      },
      "text/html": [
       "<p>Failed to display Jupyter Widget of type <code>HBox</code>.</p>\n",
       "<p>\n",
       "  If you're reading this message in the Jupyter Notebook or JupyterLab Notebook, it may mean\n",
       "  that the widgets JavaScript is still loading. If this message persists, it\n",
       "  likely means that the widgets JavaScript library is either not installed or\n",
       "  not enabled. See the <a href=\"https://ipywidgets.readthedocs.io/en/stable/user_install.html\">Jupyter\n",
       "  Widgets Documentation</a> for setup instructions.\n",
       "</p>\n",
       "<p>\n",
       "  If you're reading this message in another frontend (for example, a static\n",
       "  rendering on GitHub or <a href=\"https://nbviewer.jupyter.org/\">NBViewer</a>),\n",
       "  it may mean that your frontend doesn't currently support widgets.\n",
       "</p>\n"
      ],
      "text/plain": [
       "HBox(children=(IntProgress(value=0, max=1), HTML(value='')))"
      ]
     },
     "metadata": {},
     "output_type": "display_data"
    },
    {
     "name": "stdout",
     "output_type": "stream",
     "text": [
      "\n"
     ]
    },
    {
     "data": {
      "application/vnd.jupyter.widget-view+json": {
       "model_id": "4ce075c3ee6f4e29adb45c7d0d00426c",
       "version_major": 2,
       "version_minor": 0
      },
      "text/html": [
       "<p>Failed to display Jupyter Widget of type <code>HBox</code>.</p>\n",
       "<p>\n",
       "  If you're reading this message in the Jupyter Notebook or JupyterLab Notebook, it may mean\n",
       "  that the widgets JavaScript is still loading. If this message persists, it\n",
       "  likely means that the widgets JavaScript library is either not installed or\n",
       "  not enabled. See the <a href=\"https://ipywidgets.readthedocs.io/en/stable/user_install.html\">Jupyter\n",
       "  Widgets Documentation</a> for setup instructions.\n",
       "</p>\n",
       "<p>\n",
       "  If you're reading this message in another frontend (for example, a static\n",
       "  rendering on GitHub or <a href=\"https://nbviewer.jupyter.org/\">NBViewer</a>),\n",
       "  it may mean that your frontend doesn't currently support widgets.\n",
       "</p>\n"
      ],
      "text/plain": [
       "HBox(children=(IntProgress(value=0, max=1), HTML(value='')))"
      ]
     },
     "metadata": {},
     "output_type": "display_data"
    },
    {
     "name": "stdout",
     "output_type": "stream",
     "text": [
      "\n"
     ]
    },
    {
     "data": {
      "application/vnd.jupyter.widget-view+json": {
       "model_id": "dd956b7a1fb8410bbacf28235ab5aef9",
       "version_major": 2,
       "version_minor": 0
      },
      "text/html": [
       "<p>Failed to display Jupyter Widget of type <code>HBox</code>.</p>\n",
       "<p>\n",
       "  If you're reading this message in the Jupyter Notebook or JupyterLab Notebook, it may mean\n",
       "  that the widgets JavaScript is still loading. If this message persists, it\n",
       "  likely means that the widgets JavaScript library is either not installed or\n",
       "  not enabled. See the <a href=\"https://ipywidgets.readthedocs.io/en/stable/user_install.html\">Jupyter\n",
       "  Widgets Documentation</a> for setup instructions.\n",
       "</p>\n",
       "<p>\n",
       "  If you're reading this message in another frontend (for example, a static\n",
       "  rendering on GitHub or <a href=\"https://nbviewer.jupyter.org/\">NBViewer</a>),\n",
       "  it may mean that your frontend doesn't currently support widgets.\n",
       "</p>\n"
      ],
      "text/plain": [
       "HBox(children=(IntProgress(value=0, max=1), HTML(value='')))"
      ]
     },
     "metadata": {},
     "output_type": "display_data"
    },
    {
     "name": "stdout",
     "output_type": "stream",
     "text": [
      "\n",
      "==== Performance Check === \n",
      "\t Train Loss =  3.130692481994629\n",
      "\t Dev Loss =  6.567233562469482\n",
      "\t Train BLEU =  0.0016390543\n",
      "\t Dev BLEU =  0.0068055275\n"
     ]
    },
    {
     "data": {
      "application/vnd.jupyter.widget-view+json": {
       "model_id": "bbcec5d32e98436399315ce361344a35",
       "version_major": 2,
       "version_minor": 0
      },
      "text/html": [
       "<p>Failed to display Jupyter Widget of type <code>HBox</code>.</p>\n",
       "<p>\n",
       "  If you're reading this message in the Jupyter Notebook or JupyterLab Notebook, it may mean\n",
       "  that the widgets JavaScript is still loading. If this message persists, it\n",
       "  likely means that the widgets JavaScript library is either not installed or\n",
       "  not enabled. See the <a href=\"https://ipywidgets.readthedocs.io/en/stable/user_install.html\">Jupyter\n",
       "  Widgets Documentation</a> for setup instructions.\n",
       "</p>\n",
       "<p>\n",
       "  If you're reading this message in another frontend (for example, a static\n",
       "  rendering on GitHub or <a href=\"https://nbviewer.jupyter.org/\">NBViewer</a>),\n",
       "  it may mean that your frontend doesn't currently support widgets.\n",
       "</p>\n"
      ],
      "text/plain": [
       "HBox(children=(IntProgress(value=0, max=1), HTML(value='')))"
      ]
     },
     "metadata": {},
     "output_type": "display_data"
    },
    {
     "name": "stdout",
     "output_type": "stream",
     "text": [
      "\n"
     ]
    },
    {
     "data": {
      "application/vnd.jupyter.widget-view+json": {
       "model_id": "33dc93634f9347c29d5c7169793eaa2b",
       "version_major": 2,
       "version_minor": 0
      },
      "text/html": [
       "<p>Failed to display Jupyter Widget of type <code>HBox</code>.</p>\n",
       "<p>\n",
       "  If you're reading this message in the Jupyter Notebook or JupyterLab Notebook, it may mean\n",
       "  that the widgets JavaScript is still loading. If this message persists, it\n",
       "  likely means that the widgets JavaScript library is either not installed or\n",
       "  not enabled. See the <a href=\"https://ipywidgets.readthedocs.io/en/stable/user_install.html\">Jupyter\n",
       "  Widgets Documentation</a> for setup instructions.\n",
       "</p>\n",
       "<p>\n",
       "  If you're reading this message in another frontend (for example, a static\n",
       "  rendering on GitHub or <a href=\"https://nbviewer.jupyter.org/\">NBViewer</a>),\n",
       "  it may mean that your frontend doesn't currently support widgets.\n",
       "</p>\n"
      ],
      "text/plain": [
       "HBox(children=(IntProgress(value=0, max=1), HTML(value='')))"
      ]
     },
     "metadata": {},
     "output_type": "display_data"
    },
    {
     "name": "stdout",
     "output_type": "stream",
     "text": [
      "\n"
     ]
    },
    {
     "data": {
      "application/vnd.jupyter.widget-view+json": {
       "model_id": "488f4d81c62e4682b70325e24b7f255d",
       "version_major": 2,
       "version_minor": 0
      },
      "text/html": [
       "<p>Failed to display Jupyter Widget of type <code>HBox</code>.</p>\n",
       "<p>\n",
       "  If you're reading this message in the Jupyter Notebook or JupyterLab Notebook, it may mean\n",
       "  that the widgets JavaScript is still loading. If this message persists, it\n",
       "  likely means that the widgets JavaScript library is either not installed or\n",
       "  not enabled. See the <a href=\"https://ipywidgets.readthedocs.io/en/stable/user_install.html\">Jupyter\n",
       "  Widgets Documentation</a> for setup instructions.\n",
       "</p>\n",
       "<p>\n",
       "  If you're reading this message in another frontend (for example, a static\n",
       "  rendering on GitHub or <a href=\"https://nbviewer.jupyter.org/\">NBViewer</a>),\n",
       "  it may mean that your frontend doesn't currently support widgets.\n",
       "</p>\n"
      ],
      "text/plain": [
       "HBox(children=(IntProgress(value=0, max=1), HTML(value='')))"
      ]
     },
     "metadata": {},
     "output_type": "display_data"
    },
    {
     "name": "stdout",
     "output_type": "stream",
     "text": [
      "\n"
     ]
    },
    {
     "data": {
      "application/vnd.jupyter.widget-view+json": {
       "model_id": "2294fc7b3cc74c79ad982ee170480324",
       "version_major": 2,
       "version_minor": 0
      },
      "text/html": [
       "<p>Failed to display Jupyter Widget of type <code>HBox</code>.</p>\n",
       "<p>\n",
       "  If you're reading this message in the Jupyter Notebook or JupyterLab Notebook, it may mean\n",
       "  that the widgets JavaScript is still loading. If this message persists, it\n",
       "  likely means that the widgets JavaScript library is either not installed or\n",
       "  not enabled. See the <a href=\"https://ipywidgets.readthedocs.io/en/stable/user_install.html\">Jupyter\n",
       "  Widgets Documentation</a> for setup instructions.\n",
       "</p>\n",
       "<p>\n",
       "  If you're reading this message in another frontend (for example, a static\n",
       "  rendering on GitHub or <a href=\"https://nbviewer.jupyter.org/\">NBViewer</a>),\n",
       "  it may mean that your frontend doesn't currently support widgets.\n",
       "</p>\n"
      ],
      "text/plain": [
       "HBox(children=(IntProgress(value=0, max=1), HTML(value='')))"
      ]
     },
     "metadata": {},
     "output_type": "display_data"
    },
    {
     "name": "stdout",
     "output_type": "stream",
     "text": [
      "\n"
     ]
    },
    {
     "data": {
      "application/vnd.jupyter.widget-view+json": {
       "model_id": "0af8c6f8928c439491d17898945f8046",
       "version_major": 2,
       "version_minor": 0
      },
      "text/html": [
       "<p>Failed to display Jupyter Widget of type <code>HBox</code>.</p>\n",
       "<p>\n",
       "  If you're reading this message in the Jupyter Notebook or JupyterLab Notebook, it may mean\n",
       "  that the widgets JavaScript is still loading. If this message persists, it\n",
       "  likely means that the widgets JavaScript library is either not installed or\n",
       "  not enabled. See the <a href=\"https://ipywidgets.readthedocs.io/en/stable/user_install.html\">Jupyter\n",
       "  Widgets Documentation</a> for setup instructions.\n",
       "</p>\n",
       "<p>\n",
       "  If you're reading this message in another frontend (for example, a static\n",
       "  rendering on GitHub or <a href=\"https://nbviewer.jupyter.org/\">NBViewer</a>),\n",
       "  it may mean that your frontend doesn't currently support widgets.\n",
       "</p>\n"
      ],
      "text/plain": [
       "HBox(children=(IntProgress(value=0, max=1), HTML(value='')))"
      ]
     },
     "metadata": {},
     "output_type": "display_data"
    },
    {
     "name": "stdout",
     "output_type": "stream",
     "text": [
      "\n",
      "==== Performance Check === \n",
      "\t Train Loss =  2.9461090564727783\n",
      "\t Dev Loss =  9.958268165588379\n",
      "\t Train BLEU =  0.0013266461\n",
      "\t Dev BLEU =  0.0\n"
     ]
    },
    {
     "data": {
      "application/vnd.jupyter.widget-view+json": {
       "model_id": "a20cbcba00934b12a4c4296a0f9f1f05",
=======
    }
   ],
   "source": [
    "for k, v in results.items():\n",
    "    plt.plot(v[0], label=k)\n",
    "plt.legend()"
   ]
  },
  {
   "cell_type": "code",
   "execution_count": 3,
   "metadata": {},
   "outputs": [
    {
     "data": {
      "application/vnd.jupyter.widget-view+json": {
       "model_id": "f320cf70a12148c798d68430829935e0",
>>>>>>> 06fe6826ef4fd9f087973c7870bd8881edea2cad
       "version_major": 2,
       "version_minor": 0
      },
      "text/html": [
       "<p>Failed to display Jupyter Widget of type <code>HBox</code>.</p>\n",
       "<p>\n",
       "  If you're reading this message in the Jupyter Notebook or JupyterLab Notebook, it may mean\n",
       "  that the widgets JavaScript is still loading. If this message persists, it\n",
       "  likely means that the widgets JavaScript library is either not installed or\n",
       "  not enabled. See the <a href=\"https://ipywidgets.readthedocs.io/en/stable/user_install.html\">Jupyter\n",
       "  Widgets Documentation</a> for setup instructions.\n",
       "</p>\n",
       "<p>\n",
       "  If you're reading this message in another frontend (for example, a static\n",
       "  rendering on GitHub or <a href=\"https://nbviewer.jupyter.org/\">NBViewer</a>),\n",
       "  it may mean that your frontend doesn't currently support widgets.\n",
       "</p>\n"
      ],
      "text/plain": [
<<<<<<< HEAD
       "HBox(children=(IntProgress(value=0, max=1), HTML(value='')))"
=======
       "HBox(children=(IntProgress(value=0, max=500), HTML(value='')))"
>>>>>>> 06fe6826ef4fd9f087973c7870bd8881edea2cad
      ]
     },
     "metadata": {},
     "output_type": "display_data"
    },
    {
     "name": "stdout",
     "output_type": "stream",
     "text": [
      "\n"
     ]
    },
    {
     "data": {
      "application/vnd.jupyter.widget-view+json": {
<<<<<<< HEAD
       "model_id": "da88d7b859214de187a9047ca9be1675",
=======
       "model_id": "464abc5117f7462fad73a6fc135d93b5",
>>>>>>> 06fe6826ef4fd9f087973c7870bd8881edea2cad
       "version_major": 2,
       "version_minor": 0
      },
      "text/html": [
       "<p>Failed to display Jupyter Widget of type <code>HBox</code>.</p>\n",
       "<p>\n",
       "  If you're reading this message in the Jupyter Notebook or JupyterLab Notebook, it may mean\n",
       "  that the widgets JavaScript is still loading. If this message persists, it\n",
       "  likely means that the widgets JavaScript library is either not installed or\n",
       "  not enabled. See the <a href=\"https://ipywidgets.readthedocs.io/en/stable/user_install.html\">Jupyter\n",
       "  Widgets Documentation</a> for setup instructions.\n",
       "</p>\n",
       "<p>\n",
       "  If you're reading this message in another frontend (for example, a static\n",
       "  rendering on GitHub or <a href=\"https://nbviewer.jupyter.org/\">NBViewer</a>),\n",
       "  it may mean that your frontend doesn't currently support widgets.\n",
       "</p>\n"
      ],
      "text/plain": [
<<<<<<< HEAD
       "HBox(children=(IntProgress(value=0, max=1), HTML(value='')))"
=======
       "HBox(children=(IntProgress(value=0, max=500), HTML(value='')))"
>>>>>>> 06fe6826ef4fd9f087973c7870bd8881edea2cad
      ]
     },
     "metadata": {},
     "output_type": "display_data"
    },
    {
     "name": "stdout",
     "output_type": "stream",
     "text": [
      "\n"
     ]
    },
    {
     "data": {
      "application/vnd.jupyter.widget-view+json": {
<<<<<<< HEAD
       "model_id": "c84d2e77d7a744a98e987cf282135b8b",
=======
       "model_id": "393e55c3a5f74bfbbe4d80c9efa51fef",
>>>>>>> 06fe6826ef4fd9f087973c7870bd8881edea2cad
       "version_major": 2,
       "version_minor": 0
      },
      "text/html": [
       "<p>Failed to display Jupyter Widget of type <code>HBox</code>.</p>\n",
       "<p>\n",
       "  If you're reading this message in the Jupyter Notebook or JupyterLab Notebook, it may mean\n",
       "  that the widgets JavaScript is still loading. If this message persists, it\n",
       "  likely means that the widgets JavaScript library is either not installed or\n",
       "  not enabled. See the <a href=\"https://ipywidgets.readthedocs.io/en/stable/user_install.html\">Jupyter\n",
       "  Widgets Documentation</a> for setup instructions.\n",
       "</p>\n",
       "<p>\n",
       "  If you're reading this message in another frontend (for example, a static\n",
       "  rendering on GitHub or <a href=\"https://nbviewer.jupyter.org/\">NBViewer</a>),\n",
       "  it may mean that your frontend doesn't currently support widgets.\n",
       "</p>\n"
      ],
      "text/plain": [
<<<<<<< HEAD
       "HBox(children=(IntProgress(value=0, max=1), HTML(value='')))"
=======
       "HBox(children=(IntProgress(value=0, max=500), HTML(value='')))"
>>>>>>> 06fe6826ef4fd9f087973c7870bd8881edea2cad
      ]
     },
     "metadata": {},
     "output_type": "display_data"
    },
    {
     "name": "stdout",
     "output_type": "stream",
     "text": [
      "\n"
     ]
    },
    {
     "data": {
      "application/vnd.jupyter.widget-view+json": {
<<<<<<< HEAD
       "model_id": "df7c2deed70944eaa7e97492ec2de326",
=======
       "model_id": "7a85a9036ca14ad080bf4eb05aa3b01b",
>>>>>>> 06fe6826ef4fd9f087973c7870bd8881edea2cad
       "version_major": 2,
       "version_minor": 0
      },
      "text/html": [
       "<p>Failed to display Jupyter Widget of type <code>HBox</code>.</p>\n",
       "<p>\n",
       "  If you're reading this message in the Jupyter Notebook or JupyterLab Notebook, it may mean\n",
       "  that the widgets JavaScript is still loading. If this message persists, it\n",
       "  likely means that the widgets JavaScript library is either not installed or\n",
       "  not enabled. See the <a href=\"https://ipywidgets.readthedocs.io/en/stable/user_install.html\">Jupyter\n",
       "  Widgets Documentation</a> for setup instructions.\n",
       "</p>\n",
       "<p>\n",
       "  If you're reading this message in another frontend (for example, a static\n",
       "  rendering on GitHub or <a href=\"https://nbviewer.jupyter.org/\">NBViewer</a>),\n",
       "  it may mean that your frontend doesn't currently support widgets.\n",
       "</p>\n"
      ],
      "text/plain": [
<<<<<<< HEAD
       "HBox(children=(IntProgress(value=0, max=1), HTML(value='')))"
=======
       "HBox(children=(IntProgress(value=0, max=500), HTML(value='')))"
>>>>>>> 06fe6826ef4fd9f087973c7870bd8881edea2cad
      ]
     },
     "metadata": {},
     "output_type": "display_data"
    },
    {
     "name": "stdout",
     "output_type": "stream",
     "text": [
      "\n"
     ]
    },
    {
     "data": {
      "application/vnd.jupyter.widget-view+json": {
<<<<<<< HEAD
       "model_id": "987a2a2ef8a94eccb18c606403af05e7",
=======
       "model_id": "103f361091704128b811bf6cbbe86a48",
>>>>>>> 06fe6826ef4fd9f087973c7870bd8881edea2cad
       "version_major": 2,
       "version_minor": 0
      },
      "text/html": [
       "<p>Failed to display Jupyter Widget of type <code>HBox</code>.</p>\n",
       "<p>\n",
       "  If you're reading this message in the Jupyter Notebook or JupyterLab Notebook, it may mean\n",
       "  that the widgets JavaScript is still loading. If this message persists, it\n",
       "  likely means that the widgets JavaScript library is either not installed or\n",
       "  not enabled. See the <a href=\"https://ipywidgets.readthedocs.io/en/stable/user_install.html\">Jupyter\n",
       "  Widgets Documentation</a> for setup instructions.\n",
       "</p>\n",
       "<p>\n",
       "  If you're reading this message in another frontend (for example, a static\n",
       "  rendering on GitHub or <a href=\"https://nbviewer.jupyter.org/\">NBViewer</a>),\n",
       "  it may mean that your frontend doesn't currently support widgets.\n",
       "</p>\n"
      ],
      "text/plain": [
<<<<<<< HEAD
       "HBox(children=(IntProgress(value=0, max=1), HTML(value='')))"
=======
       "HBox(children=(IntProgress(value=0, max=500), HTML(value='')))"
>>>>>>> 06fe6826ef4fd9f087973c7870bd8881edea2cad
      ]
     },
     "metadata": {},
     "output_type": "display_data"
    },
    {
     "name": "stdout",
     "output_type": "stream",
     "text": [
      "\n",
      "==== Performance Check === \n",
<<<<<<< HEAD
      "\t Train Loss =  2.834487199783325\n",
      "\t Dev Loss =  7.2497687339782715\n",
      "\t Train BLEU =  0.0016390543\n",
      "\t Dev BLEU =  0.0016390543\n"
=======
      "\t Train Loss =  0.9950371980667114\n",
      "\t Dev Loss =  3.0834175957010146\n",
      "\t Train BLEU =  0.03128837\n",
      "\t Dev BLEU =  0.0046088756\n"
>>>>>>> 06fe6826ef4fd9f087973c7870bd8881edea2cad
     ]
    },
    {
     "data": {
      "application/vnd.jupyter.widget-view+json": {
<<<<<<< HEAD
       "model_id": "d03105665acf48c8a8f11ea7712dd22e",
=======
       "model_id": "fa25414bc0884d19ab3aefb7ff0f1811",
>>>>>>> 06fe6826ef4fd9f087973c7870bd8881edea2cad
       "version_major": 2,
       "version_minor": 0
      },
      "text/html": [
       "<p>Failed to display Jupyter Widget of type <code>HBox</code>.</p>\n",
       "<p>\n",
       "  If you're reading this message in the Jupyter Notebook or JupyterLab Notebook, it may mean\n",
       "  that the widgets JavaScript is still loading. If this message persists, it\n",
       "  likely means that the widgets JavaScript library is either not installed or\n",
       "  not enabled. See the <a href=\"https://ipywidgets.readthedocs.io/en/stable/user_install.html\">Jupyter\n",
       "  Widgets Documentation</a> for setup instructions.\n",
       "</p>\n",
       "<p>\n",
       "  If you're reading this message in another frontend (for example, a static\n",
       "  rendering on GitHub or <a href=\"https://nbviewer.jupyter.org/\">NBViewer</a>),\n",
       "  it may mean that your frontend doesn't currently support widgets.\n",
       "</p>\n"
      ],
      "text/plain": [
<<<<<<< HEAD
       "HBox(children=(IntProgress(value=0, max=1), HTML(value='')))"
=======
       "HBox(children=(IntProgress(value=0, max=500), HTML(value='')))"
>>>>>>> 06fe6826ef4fd9f087973c7870bd8881edea2cad
      ]
     },
     "metadata": {},
     "output_type": "display_data"
    },
    {
     "name": "stdout",
     "output_type": "stream",
     "text": [
      "\n"
     ]
    },
    {
     "data": {
      "application/vnd.jupyter.widget-view+json": {
<<<<<<< HEAD
       "model_id": "5b994273353b4e5fb26ac6387fe3cc17",
=======
       "model_id": "88821e883c324064a70674a074e388e7",
>>>>>>> 06fe6826ef4fd9f087973c7870bd8881edea2cad
       "version_major": 2,
       "version_minor": 0
      },
      "text/html": [
       "<p>Failed to display Jupyter Widget of type <code>HBox</code>.</p>\n",
       "<p>\n",
       "  If you're reading this message in the Jupyter Notebook or JupyterLab Notebook, it may mean\n",
       "  that the widgets JavaScript is still loading. If this message persists, it\n",
       "  likely means that the widgets JavaScript library is either not installed or\n",
       "  not enabled. See the <a href=\"https://ipywidgets.readthedocs.io/en/stable/user_install.html\">Jupyter\n",
       "  Widgets Documentation</a> for setup instructions.\n",
       "</p>\n",
       "<p>\n",
       "  If you're reading this message in another frontend (for example, a static\n",
       "  rendering on GitHub or <a href=\"https://nbviewer.jupyter.org/\">NBViewer</a>),\n",
       "  it may mean that your frontend doesn't currently support widgets.\n",
       "</p>\n"
      ],
      "text/plain": [
<<<<<<< HEAD
       "HBox(children=(IntProgress(value=0, max=1), HTML(value='')))"
=======
       "HBox(children=(IntProgress(value=0, max=500), HTML(value='')))"
>>>>>>> 06fe6826ef4fd9f087973c7870bd8881edea2cad
      ]
     },
     "metadata": {},
     "output_type": "display_data"
    },
    {
     "name": "stdout",
     "output_type": "stream",
     "text": [
      "\n"
     ]
    },
    {
     "data": {
      "application/vnd.jupyter.widget-view+json": {
<<<<<<< HEAD
       "model_id": "ca43f161d739450490db1533050c4548",
=======
       "model_id": "7bd68f9058a6428da80135e36744b561",
>>>>>>> 06fe6826ef4fd9f087973c7870bd8881edea2cad
       "version_major": 2,
       "version_minor": 0
      },
      "text/html": [
       "<p>Failed to display Jupyter Widget of type <code>HBox</code>.</p>\n",
       "<p>\n",
       "  If you're reading this message in the Jupyter Notebook or JupyterLab Notebook, it may mean\n",
       "  that the widgets JavaScript is still loading. If this message persists, it\n",
       "  likely means that the widgets JavaScript library is either not installed or\n",
       "  not enabled. See the <a href=\"https://ipywidgets.readthedocs.io/en/stable/user_install.html\">Jupyter\n",
       "  Widgets Documentation</a> for setup instructions.\n",
       "</p>\n",
       "<p>\n",
       "  If you're reading this message in another frontend (for example, a static\n",
       "  rendering on GitHub or <a href=\"https://nbviewer.jupyter.org/\">NBViewer</a>),\n",
       "  it may mean that your frontend doesn't currently support widgets.\n",
       "</p>\n"
      ],
      "text/plain": [
<<<<<<< HEAD
       "HBox(children=(IntProgress(value=0, max=1), HTML(value='')))"
=======
       "HBox(children=(IntProgress(value=0, max=500), HTML(value='')))"
>>>>>>> 06fe6826ef4fd9f087973c7870bd8881edea2cad
      ]
     },
     "metadata": {},
     "output_type": "display_data"
    },
    {
     "name": "stdout",
     "output_type": "stream",
     "text": [
      "\n"
     ]
    },
    {
     "data": {
      "application/vnd.jupyter.widget-view+json": {
<<<<<<< HEAD
       "model_id": "3cbbbaf1d0204ae38abe2fecc7b016b9",
=======
       "model_id": "4ebd31cce5e044d1ba3d9876a5d71c92",
>>>>>>> 06fe6826ef4fd9f087973c7870bd8881edea2cad
       "version_major": 2,
       "version_minor": 0
      },
      "text/html": [
       "<p>Failed to display Jupyter Widget of type <code>HBox</code>.</p>\n",
       "<p>\n",
       "  If you're reading this message in the Jupyter Notebook or JupyterLab Notebook, it may mean\n",
       "  that the widgets JavaScript is still loading. If this message persists, it\n",
       "  likely means that the widgets JavaScript library is either not installed or\n",
       "  not enabled. See the <a href=\"https://ipywidgets.readthedocs.io/en/stable/user_install.html\">Jupyter\n",
       "  Widgets Documentation</a> for setup instructions.\n",
       "</p>\n",
       "<p>\n",
       "  If you're reading this message in another frontend (for example, a static\n",
       "  rendering on GitHub or <a href=\"https://nbviewer.jupyter.org/\">NBViewer</a>),\n",
       "  it may mean that your frontend doesn't currently support widgets.\n",
       "</p>\n"
      ],
      "text/plain": [
<<<<<<< HEAD
       "HBox(children=(IntProgress(value=0, max=1), HTML(value='')))"
=======
       "HBox(children=(IntProgress(value=0, max=500), HTML(value='')))"
>>>>>>> 06fe6826ef4fd9f087973c7870bd8881edea2cad
      ]
     },
     "metadata": {},
     "output_type": "display_data"
    },
    {
     "name": "stdout",
     "output_type": "stream",
     "text": [
      "\n"
     ]
    },
    {
     "data": {
      "application/vnd.jupyter.widget-view+json": {
<<<<<<< HEAD
       "model_id": "5cc9804696814703b2eed11045ce8ec3",
=======
       "model_id": "759cac0319e9469db7b86d6b02c2b254",
>>>>>>> 06fe6826ef4fd9f087973c7870bd8881edea2cad
       "version_major": 2,
       "version_minor": 0
      },
      "text/html": [
       "<p>Failed to display Jupyter Widget of type <code>HBox</code>.</p>\n",
       "<p>\n",
       "  If you're reading this message in the Jupyter Notebook or JupyterLab Notebook, it may mean\n",
       "  that the widgets JavaScript is still loading. If this message persists, it\n",
       "  likely means that the widgets JavaScript library is either not installed or\n",
       "  not enabled. See the <a href=\"https://ipywidgets.readthedocs.io/en/stable/user_install.html\">Jupyter\n",
       "  Widgets Documentation</a> for setup instructions.\n",
       "</p>\n",
       "<p>\n",
       "  If you're reading this message in another frontend (for example, a static\n",
       "  rendering on GitHub or <a href=\"https://nbviewer.jupyter.org/\">NBViewer</a>),\n",
       "  it may mean that your frontend doesn't currently support widgets.\n",
       "</p>\n"
      ],
      "text/plain": [
<<<<<<< HEAD
       "HBox(children=(IntProgress(value=0, max=1), HTML(value='')))"
=======
       "HBox(children=(IntProgress(value=0, max=500), HTML(value='')))"
>>>>>>> 06fe6826ef4fd9f087973c7870bd8881edea2cad
      ]
     },
     "metadata": {},
     "output_type": "display_data"
    },
    {
     "name": "stdout",
     "output_type": "stream",
     "text": [
      "\n",
      "==== Performance Check === \n",
<<<<<<< HEAD
      "\t Train Loss =  2.703763961791992\n",
      "\t Dev Loss =  7.466639041900635\n",
      "\t Train BLEU =  0.005328764\n",
      "\t Dev BLEU =  0.004049759\n"
     ]
    },
    {
     "data": {
      "application/vnd.jupyter.widget-view+json": {
       "model_id": "ff0a17d8118547309a7124d2ad40e60e",
       "version_major": 2,
       "version_minor": 0
      },
      "text/html": [
       "<p>Failed to display Jupyter Widget of type <code>HBox</code>.</p>\n",
       "<p>\n",
       "  If you're reading this message in the Jupyter Notebook or JupyterLab Notebook, it may mean\n",
       "  that the widgets JavaScript is still loading. If this message persists, it\n",
       "  likely means that the widgets JavaScript library is either not installed or\n",
       "  not enabled. See the <a href=\"https://ipywidgets.readthedocs.io/en/stable/user_install.html\">Jupyter\n",
       "  Widgets Documentation</a> for setup instructions.\n",
       "</p>\n",
       "<p>\n",
       "  If you're reading this message in another frontend (for example, a static\n",
       "  rendering on GitHub or <a href=\"https://nbviewer.jupyter.org/\">NBViewer</a>),\n",
       "  it may mean that your frontend doesn't currently support widgets.\n",
       "</p>\n"
      ],
      "text/plain": [
       "HBox(children=(IntProgress(value=0, max=1), HTML(value='')))"
      ]
     },
     "metadata": {},
     "output_type": "display_data"
    },
    {
     "name": "stdout",
     "output_type": "stream",
     "text": [
      "\n"
     ]
    },
    {
     "data": {
      "application/vnd.jupyter.widget-view+json": {
       "model_id": "859759fca3b64b43adbf07098f7d0361",
       "version_major": 2,
       "version_minor": 0
      },
      "text/html": [
       "<p>Failed to display Jupyter Widget of type <code>HBox</code>.</p>\n",
       "<p>\n",
       "  If you're reading this message in the Jupyter Notebook or JupyterLab Notebook, it may mean\n",
       "  that the widgets JavaScript is still loading. If this message persists, it\n",
       "  likely means that the widgets JavaScript library is either not installed or\n",
       "  not enabled. See the <a href=\"https://ipywidgets.readthedocs.io/en/stable/user_install.html\">Jupyter\n",
       "  Widgets Documentation</a> for setup instructions.\n",
       "</p>\n",
       "<p>\n",
       "  If you're reading this message in another frontend (for example, a static\n",
       "  rendering on GitHub or <a href=\"https://nbviewer.jupyter.org/\">NBViewer</a>),\n",
       "  it may mean that your frontend doesn't currently support widgets.\n",
       "</p>\n"
      ],
      "text/plain": [
       "HBox(children=(IntProgress(value=0, max=1), HTML(value='')))"
      ]
     },
     "metadata": {},
     "output_type": "display_data"
=======
      "\t Train Loss =  0.6528602838516235\n",
      "\t Dev Loss =  2.6739985435567\n",
      "\t Train BLEU =  0.008852331\n",
      "\t Dev BLEU =  0.0041426416\n"
     ]
>>>>>>> 06fe6826ef4fd9f087973c7870bd8881edea2cad
    }
   ],
   "source": [
    "r = train_localizer_network(learning_rate=9e-4)"
   ]
  },
  {
   "cell_type": "code",
<<<<<<< HEAD
   "execution_count": 8,
=======
   "execution_count": 5,
>>>>>>> 06fe6826ef4fd9f087973c7870bd8881edea2cad
   "metadata": {},
   "outputs": [],
   "source": [
    "plt.rcParams['figure.figsize'] = (10.0, 8.0) # set default size of plots\n",
    "plt.rcParams['image.interpolation'] = 'nearest'\n",
    "plt.rcParams['image.cmap'] = 'gray'\n",
    "import numpy as np\n",
    "np.save('results', r)"
   ]
  },
  {
   "cell_type": "code",
   "execution_count": 6,
   "metadata": {},
   "outputs": [
    {
     "data": {
      "text/plain": [
       "<matplotlib.legend.Legend at 0x7fc48992e9b0>"
      ]
     },
     "execution_count": 6,
     "metadata": {},
     "output_type": "execute_result"
    },
    {
     "data": {
      "image/png": "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\n",
      "text/plain": [
       "<matplotlib.figure.Figure at 0x7fc48d86e240>"
      ]
     },
     "metadata": {},
     "output_type": "display_data"
    }
   ],
   "source": [
    "train_losses, dev_losses, train_bleu, dev_bleu = r\n",
    "plt.plot(train_losses, label='train')\n",
    "plt.plot(dev_losses, label='dev')\n",
    "plt.legend()"
   ]
  },
  {
   "cell_type": "code",
   "execution_count": 7,
   "metadata": {},
   "outputs": [
    {
     "data": {
      "text/plain": [
       "<matplotlib.legend.Legend at 0x7fc48e32d668>"
      ]
     },
     "execution_count": 7,
     "metadata": {},
     "output_type": "execute_result"
    },
    {
     "data": {
      "image/png": "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\n",
      "text/plain": [
       "<matplotlib.figure.Figure at 0x7fc480ffc5c0>"
      ]
     },
     "metadata": {},
     "output_type": "display_data"
    }
   ],
   "source": [
    "plt.plot(train_bleu, label='train bleu')\n",
    "plt.plot(dev_bleu, label='dev bleu')\n",
    "plt.legend()"
   ]
  },
  {
   "cell_type": "code",
   "execution_count": null,
   "metadata": {},
   "outputs": [],
   "source": [
    "def ensure_all_data_is_available():\n",
    "    import numpy as np\n",
    "    data_path = '../Data/FullData/train_dev_test.npy'\n",
    "    ANNOTATION_PATH = '../Data/FullData/Transcriptions/annotations.npy'\n",
    "    annotations = np.load(ANNOTATION_PATH).item()\n",
    "    images = (\n",
    "            np.load(data_path).item()['train'] + np.load(data_path).item()['dev'] + \n",
    "            np.load(data_path).item()['test']\n",
    "    )\n",
    "    bad = []\n",
    "    for img in tqdm(images):\n",
    "        num = img[:img.rfind('_')]\n",
    "        nut = '1_' + num; ingr = '0_'+num\n",
    "        if nut not in annotations or ingr not in annotations:\n",
    "            bad.append(num)\n",
    "    print(set(bad))"
   ]
  },
  {
   "cell_type": "code",
   "execution_count": null,
   "metadata": {},
   "outputs": [],
   "source": []
  },
  {
   "cell_type": "code",
   "execution_count": null,
   "metadata": {},
   "outputs": [],
   "source": []
  }
 ],
 "metadata": {
  "kernelspec": {
   "display_name": "Python 3",
   "language": "python",
   "name": "python3"
  },
  "language_info": {
   "codemirror_mode": {
    "name": "ipython",
    "version": 3
   },
   "file_extension": ".py",
   "mimetype": "text/x-python",
   "name": "python",
   "nbconvert_exporter": "python",
   "pygments_lexer": "ipython3",
   "version": "3.6.4"
  }
 },
 "nbformat": 4,
 "nbformat_minor": 2
}
