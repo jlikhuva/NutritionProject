{
 "cells": [
  {
   "cell_type": "code",
   "execution_count": 1,
   "metadata": {},
   "outputs": [],
   "source": [
    "%load_ext autoreload\n",
    "%autoreload 2\n",
    "import torch\n",
    "from torch.utils.data import Dataset, DataLoader\n",
    "from Model.dataloader import TranscriptionDataset\n",
    "from Model.encoder_net import EncoderNet"
   ]
  },
  {
   "cell_type": "code",
   "execution_count": 2,
   "metadata": {},
   "outputs": [],
   "source": [
    "IMAGE_DIR = '../Data/FullData/Cropped_Images/'\n",
    "ANNOTATION_PATH = '../Data/FullData/Transcriptions/annotations.npy'\n",
    "DATA_PATH = '../Data/FullData/train_dev_test.npy'\n",
    "WORD_VEC_PATH = '../Data/FullData/Transcriptions/nutrition_vectors.npy'\n",
    "INDEX_TO_TERM_PATH = '../Data/FullData/Transcriptions/index_term_dict.npy'\n",
    "TERM_TO_INDEX_PATH = '../Data/FullData/Transcriptions/term_index_dict.npy'\n",
    "VOCAB_SIZE = 621"
   ]
  },
  {
   "cell_type": "markdown",
   "metadata": {},
   "source": [
    "### 1. Make Sure that the Encoder and Works"
   ]
  },
  {
   "cell_type": "code",
   "execution_count": 3,
   "metadata": {},
   "outputs": [],
   "source": [
    "batch = DataLoader(\n",
    "    TranscriptionDataset(\n",
    "        IMAGE_DIR, ANNOTATION_PATH, DATA_PATH, WORD_VEC_PATH, \n",
    "        INDEX_TO_TERM_PATH, TERM_TO_INDEX_PATH, debug=True\n",
    "    ),\n",
    "     batch_size=116, shuffle=True, num_workers=8,\n",
    ")\n",
    "encoder = EncoderNet()\n",
    "for x, y in batch:\n",
    "    z = encoder(x)"
   ]
  },
  {
   "cell_type": "code",
   "execution_count": 4,
   "metadata": {},
   "outputs": [],
   "source": []
  },
  {
   "cell_type": "code",
   "execution_count": null,
   "metadata": {},
   "outputs": [],
   "source": []
  },
  {
   "cell_type": "code",
   "execution_count": null,
   "metadata": {},
   "outputs": [],
   "source": []
  }
 ],
 "metadata": {
  "kernelspec": {
   "display_name": "Python 3",
   "language": "python",
   "name": "python3"
  },
  "language_info": {
   "codemirror_mode": {
    "name": "ipython",
    "version": 3
   },
   "file_extension": ".py",
   "mimetype": "text/x-python",
   "name": "python",
   "nbconvert_exporter": "python",
   "pygments_lexer": "ipython3",
   "version": "3.6.4"
  }
 },
 "nbformat": 4,
 "nbformat_minor": 2
}
