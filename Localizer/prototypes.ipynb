{
 "cells": [
  {
   "cell_type": "code",
   "execution_count": 1,
   "metadata": {},
   "outputs": [],
   "source": [
    "%load_ext autoreload\n",
    "%autoreload 2"
   ]
  },
  {
   "cell_type": "markdown",
   "metadata": {},
   "source": [
    "### 2. Test the Foward part of the Network\n",
    "> * Now make sure that we can map from an image into an SxSx2x11 Tensor\n",
    "> * First make sure that the Yolo2 weights are loadable and make sense."
   ]
  },
  {
   "cell_type": "code",
   "execution_count": 2,
   "metadata": {},
   "outputs": [
    {
     "name": "stderr",
     "output_type": "stream",
     "text": [
      "/Users/likhuva/anaconda2/envs/cs231n/lib/python3.6/site-packages/h5py/__init__.py:36: FutureWarning: Conversion of the second argument of issubdtype from `float` to `np.floating` is deprecated. In future, it will be treated as `np.float64 == np.dtype(float).type`.\n",
      "  from ._conv import register_converters as _register_converters\n"
     ]
    }
   ],
   "source": [
    "import h5py\n",
    "import numpy as np\n",
    "import matplotlib.pyplot as plt\n",
    "%matplotlib inline\n",
    "plt.rcParams['figure.figsize'] = (10.0, 8.0) # set default size of plots\n",
    "plt.rcParams['image.interpolation'] = 'nearest'\n",
    "plt.rcParams['image.cmap'] = 'gray'\n",
    "from Model.vis_utils import visualize_grid"
   ]
  },
  {
   "cell_type": "code",
   "execution_count": null,
   "metadata": {},
   "outputs": [],
   "source": []
  },
  {
   "cell_type": "code",
   "execution_count": 3,
   "metadata": {},
   "outputs": [],
   "source": [
    "# l2 = np.array(list((yolo_weights['model_weights']['conv2d_1']['conv2d_1'][u'kernel:0'])))\n",
    "# grid = visualize_grid(l2.transpose(3, 1, 2, 0))\n",
    "# print (grid.shape, l2.shape)\n",
    "# plt.imshow(grid.astype('uint8'))\n",
    "# plt.axis('off')\n",
    "# plt.gcf().set_size_inches(5, 5)\n",
    "# plt.show()"
   ]
  },
  {
   "cell_type": "markdown",
   "metadata": {},
   "source": [
    "#### 2.1 Overfit Localizer in Tiny Data\n",
    "> * For debugging, we run the foward, and backward pass for `a few`\n",
    "epochs."
   ]
  },
  {
   "cell_type": "code",
   "execution_count": 15,
   "metadata": {},
   "outputs": [
    {
     "name": "stdout",
     "output_type": "stream",
     "text": [
      "0.4.0\n"
     ]
    }
   ],
   "source": [
    "import torch\n",
    "print(torch.__version__)\n",
    "import torch.nn.functional as F\n",
    "from torch.utils.data import Dataset, DataLoader\n",
    "from Model.dataloader import NutritionDataset\n",
    "from Model.net import LocalizerNet\n",
    "from train import train_localizer, calculate_iou"
   ]
  },
  {
   "cell_type": "code",
   "execution_count": 26,
   "metadata": {},
   "outputs": [],
   "source": [
    "def train_localizer_network():\n",
    "    IMAGE_DIR = '../Data/FullData/RawImages/'\n",
    "    BOXES = '../Data/FullData/BoundingBoxes.npy'\n",
    "    DATA_PATH = '../Data/FullData/train_dev_test.npy'\n",
    "    YOLO_PATH = '../Data/FullData/yolo.h5'\n",
    "    debug = not torch.cuda.is_available()\n",
    "    dataset = DataLoader(\n",
    "        NutritionDataset(IMAGE_DIR, BOXES, DATA_PATH, debug=debug),\n",
    "        batch_size=32, shuffle=True, num_workers=4,\n",
    "    )\n",
    "    dev = DataLoader(\n",
    "        NutritionDataset(IMAGE_DIR, BOXES, DATA_PATH, split='dev', debug=debug),\n",
    "        batch_size=32, shuffle=True, num_workers=4,\n",
    "    )\n",
    "    model = LocalizerNet(YOLO_PATH)\n",
    "    optimizer = torch.optim.Adam(\n",
    "        filter(lambda p: p.requires_grad, model.parameters()),\n",
    "        lr=1e-4\n",
    "    )\n",
    "    r = train_localizer(model, optimizer, dataset, dev, epochs=100)\n",
    "    return r    "
   ]
  },
  {
   "cell_type": "code",
   "execution_count": 27,
   "metadata": {
    "scrolled": true
   },
   "outputs": [
    {
     "name": "stdout",
     "output_type": "stream",
     "text": [
      "=== Performance Check ===\n",
      "\t Train Loss =  0.01710907556116581\n",
      "\t Dev Loss =  0.16429191827774048\n",
      "\t Train mAP =  [0.4 0.2 0.1 0.1]\n",
      "\t Dev mAP =  [0. 0. 0. 0.]\n",
      "=== Performance Check ===\n",
      "\t Train Loss =  0.005521452520042658\n",
      "\t Dev Loss =  0.1452295184135437\n",
      "\t Train mAP =  [0.8 0.8 0.7 0.1]\n",
      "\t Dev mAP =  [0. 0. 0. 0.]\n",
      "=== Performance Check ===\n",
      "\t Train Loss =  0.0019554353784769773\n",
      "\t Dev Loss =  0.1391357183456421\n",
      "\t Train mAP =  [1.  0.9 0.6 0.5]\n",
      "\t Dev mAP =  [0. 0. 0. 0.]\n",
      "=== Performance Check ===\n",
      "\t Train Loss =  0.000746017845813185\n",
      "\t Dev Loss =  0.1376955360174179\n",
      "\t Train mAP =  [0.9 0.9 0.8 0.7]\n",
      "\t Dev mAP =  [0. 0. 0. 0.]\n",
      "=== Performance Check ===\n",
      "\t Train Loss =  0.0002726212260313332\n",
      "\t Dev Loss =  0.13671842217445374\n",
      "\t Train mAP =  [1.  0.9 0.9 0.8]\n",
      "\t Dev mAP =  [0. 0. 0. 0.]\n",
      "=== Performance Check ===\n",
      "\t Train Loss =  9.727532597025856e-05\n",
      "\t Dev Loss =  0.136643186211586\n",
      "\t Train mAP =  [1. 1. 1. 1.]\n",
      "\t Dev mAP =  [0. 0. 0. 0.]\n",
      "=== Performance Check ===\n",
      "\t Train Loss =  3.644953540060669e-05\n",
      "\t Dev Loss =  0.1364198476076126\n",
      "\t Train mAP =  [1. 1. 1. 1.]\n",
      "\t Dev mAP =  [0. 0. 0. 0.]\n",
      "=== Performance Check ===\n",
      "\t Train Loss =  1.2791169865522534e-05\n",
      "\t Dev Loss =  0.13631056249141693\n",
      "\t Train mAP =  [1. 1. 1. 1.]\n",
      "\t Dev mAP =  [0. 0. 0. 0.]\n",
      "=== Performance Check ===\n",
      "\t Train Loss =  4.613206328940578e-06\n",
      "\t Dev Loss =  0.13635215163230896\n",
      "\t Train mAP =  [1. 1. 1. 1.]\n",
      "\t Dev mAP =  [0. 0. 0. 0.]\n",
      "=== Performance Check ===\n",
      "\t Train Loss =  1.6910258864299976e-06\n",
      "\t Dev Loss =  0.1363581269979477\n",
      "\t Train mAP =  [1. 1. 1. 1.]\n",
      "\t Dev mAP =  [0. 0. 0. 0.]\n"
     ]
    }
   ],
   "source": [
    "train_losses, dev_losses, train_map, dev_map = train_localizer_network()"
   ]
  },
  {
   "cell_type": "code",
   "execution_count": 21,
   "metadata": {},
   "outputs": [],
   "source": [
    "def plot(train, dev, title):\n",
    "    plt.title(title)\n",
    "    plt.plot(train, label='train'); plt.plot(dev, label='dev')\n",
    "    plt.xlabel('Iteration')\n",
    "    plt.show()"
   ]
  },
  {
   "cell_type": "code",
   "execution_count": null,
   "metadata": {},
   "outputs": [],
   "source": []
  },
  {
   "cell_type": "code",
   "execution_count": 22,
   "metadata": {},
   "outputs": [
    {
     "data": {
      "image/png": "[encoded data removed]",
      "text/plain": [
       "<matplotlib.figure.Figure at 0x1177e0f98>"
      ]
     },
     "metadata": {},
     "output_type": "display_data"
    }
   ],
   "source": [
    "plot(train_losses, dev_losses, title='Loss Curves')"
   ]
  },
  {
   "cell_type": "code",
   "execution_count": 24,
   "metadata": {},
   "outputs": [
    {
     "data": {
      "text/plain": [
       "[<matplotlib.lines.Line2D at 0x13cb8cd30>,\n",
       " <matplotlib.lines.Line2D at 0x13cb8ccc0>,\n",
       " <matplotlib.lines.Line2D at 0x13cb8c198>,\n",
       " <matplotlib.lines.Line2D at 0x13cb8ce10>]"
      ]
     },
     "execution_count": 24,
     "metadata": {},
     "output_type": "execute_result"
    },
    {
     "data": {
      "image/png": "[encoded data removed]",
      "text/plain": [
       "<matplotlib.figure.Figure at 0x1177e0e10>"
      ]
     },
     "metadata": {},
     "output_type": "display_data"
    }
   ],
   "source": [
    "plt.plot(dev_map)\n",
    "plt.plot(train_map)"
   ]
  },
  {
   "cell_type": "code",
   "execution_count": null,
   "metadata": {},
   "outputs": [],
   "source": []
  },
  {
   "cell_type": "code",
   "execution_count": null,
   "metadata": {},
   "outputs": [],
   "source": []
  }
 ],
 "metadata": {
  "kernelspec": {
   "display_name": "Python 3",
   "language": "python",
   "name": "python3"
  },
  "language_info": {
   "codemirror_mode": {
    "name": "ipython",
    "version": 3
   },
   "file_extension": ".py",
   "mimetype": "text/x-python",
   "name": "python",
   "nbconvert_exporter": "python",
   "pygments_lexer": "ipython3",
   "version": "3.6.4"
  }
 },
 "nbformat": 4,
 "nbformat_minor": 2
}
