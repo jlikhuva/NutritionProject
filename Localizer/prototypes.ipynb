{
 "cells": [
  {
   "cell_type": "code",
   "execution_count": 1,
   "metadata": {},
   "outputs": [],
   "source": [
    "%load_ext autoreload\n",
    "%autoreload 2"
   ]
  },
  {
   "cell_type": "markdown",
   "metadata": {},
   "source": [
    "### 2. Test the Foward part of the Network\n",
    "> * Now make sure that we can map from an image into an SxSx2x11 Tensor\n",
    "> * First make sure that the Yolo2 weights are loadable and make sense."
   ]
  },
  {
   "cell_type": "code",
   "execution_count": 2,
   "metadata": {},
   "outputs": [
    {
     "name": "stderr",
     "output_type": "stream",
     "text": [
      "/Users/likhuva/anaconda2/envs/cs231n/lib/python3.6/site-packages/h5py/__init__.py:36: FutureWarning: Conversion of the second argument of issubdtype from `float` to `np.floating` is deprecated. In future, it will be treated as `np.float64 == np.dtype(float).type`.\n",
      "  from ._conv import register_converters as _register_converters\n"
     ]
    }
   ],
   "source": [
    "import h5py\n",
    "import numpy as np\n",
    "import matplotlib.pyplot as plt\n",
    "%matplotlib inline\n",
    "plt.rcParams['figure.figsize'] = (10.0, 8.0) # set default size of plots\n",
    "plt.rcParams['image.interpolation'] = 'nearest'\n",
    "plt.rcParams['image.cmap'] = 'gray'\n",
    "from Model.vis_utils import visualize_grid"
   ]
  },
  {
   "cell_type": "code",
   "execution_count": null,
   "metadata": {},
   "outputs": [],
   "source": []
  },
  {
   "cell_type": "code",
   "execution_count": 3,
   "metadata": {},
   "outputs": [],
   "source": [
    "# l2 = np.array(list((yolo_weights['model_weights']['conv2d_1']['conv2d_1'][u'kernel:0'])))\n",
    "# grid = visualize_grid(l2.transpose(3, 1, 2, 0))\n",
    "# print (grid.shape, l2.shape)\n",
    "# plt.imshow(grid.astype('uint8'))\n",
    "# plt.axis('off')\n",
    "# plt.gcf().set_size_inches(5, 5)\n",
    "# plt.show()"
   ]
  },
  {
   "cell_type": "markdown",
   "metadata": {},
   "source": [
    "#### 2.1 Overfit Localizer in Tiny Data\n",
    "> * For debugging, we run the foward, and backward pass for `a few`\n",
    "epochs."
   ]
  },
  {
   "cell_type": "code",
   "execution_count": 4,
   "metadata": {},
   "outputs": [
    {
     "name": "stdout",
     "output_type": "stream",
     "text": [
      "0.4.0\n"
     ]
    }
   ],
   "source": [
    "import torch\n",
    "print(torch.__version__)\n",
    "import torch.nn.functional as F\n",
    "from torch.utils.data import Dataset, DataLoader\n",
    "from Model.dataloader import NutritionDataset\n",
    "from Model.net import LocalizerNet\n",
    "from train import train_localizer"
   ]
  },
  {
   "cell_type": "code",
   "execution_count": 5,
   "metadata": {},
   "outputs": [],
   "source": [
    "def train_localizer_network():\n",
    "    IMAGE_DIR = '../Data/FullData/RawImages/'\n",
    "    BOXES = '../Data/FullData/BoundingBoxes.npy'\n",
    "    DATA_PATH = '../Data/FullData/train_dev_test.npy'\n",
    "    YOLO_PATH = '../Data/yolo.h5'\n",
    "    \n",
    "    dataset = DataLoader(\n",
    "        NutritionDataset(IMAGE_DIR, BOXES, DATA_PATH),\n",
    "        batch_size=32, shuffle=True, num_workers=4\n",
    "    )\n",
    "    model = LocalizerNet(YOLO_PATH)\n",
    "    optimizer = torch.optim.Adam(\n",
    "        filter(lambda p: p.requires_grad, model.parameters()),\n",
    "        lr=1e-2\n",
    "    )\n",
    "    train_localizer(model, optimizer, dataset)\n",
    "    "
   ]
  },
  {
   "cell_type": "code",
   "execution_count": 6,
   "metadata": {
    "scrolled": true
   },
   "outputs": [
    {
     "name": "stdout",
     "output_type": "stream",
     "text": [
      "tensor([ 0.1665, -0.2064, -0.1627, -0.1571, -0.1462,  0.1570,  0.0650,\n",
      "         0.0342,  0.1102, -0.2926, -0.2347, -0.1774, -0.3472, -0.0938,\n",
      "        -0.2724, -0.0012, -0.1341,  0.4521,  0.3567,  0.0304,  0.0414,\n",
      "         0.1870,  0.1270,  0.3059, -0.0920, -0.0249, -0.3352, -0.1880,\n",
      "        -0.1175,  0.1292, -0.1691, -0.2301, -0.3003, -0.0352, -0.0698,\n",
      "        -0.2321,  0.0333,  0.2762, -0.0096, -0.0034,  0.3325,  0.0456,\n",
      "        -0.0173,  0.1405, -0.0100, -0.2941,  0.0480, -0.1044, -0.1015,\n",
      "         0.1239,  0.0011,  0.0675,  0.0969,  0.0873, -0.0448, -0.0718,\n",
      "         0.3391, -0.1823, -0.1413,  0.2512,  0.1686,  0.2487,  0.1171,\n",
      "        -0.1791, -0.3515, -0.1662, -0.0937,  0.1613,  0.0862,  0.0780,\n",
      "         0.2768,  0.1872, -0.0885,  0.1864, -0.0867,  0.2297,  0.2924,\n",
      "        -0.1779, -0.2430,  0.1074, -0.1245, -0.1873, -0.3741, -0.3335,\n",
      "        -0.0495, -0.0592, -0.1512, -0.3506, -0.1106, -0.1810, -0.0512,\n",
      "        -0.0697, -0.2031,  0.1013, -0.0499, -0.0765,  0.2438, -0.2370,\n",
      "        -0.2135,  0.0557,  0.3095, -0.1534,  0.2095, -0.0308,  0.1739,\n",
      "        -0.2022,  0.3455,  0.0478, -0.0380,  0.1708,  0.2848,  0.0226,\n",
      "         0.2851,  0.0315,  0.0153, -0.2069,  0.2800, -0.0125, -0.0386,\n",
      "        -0.0565,  0.3487, -0.1946, -0.0382,  0.1456,  0.0328,  0.2321,\n",
      "         0.1263,  0.3576, -0.2999,  0.1623, -0.0186, -0.0649,  0.3797,\n",
      "         0.3660,  0.0205,  0.4858, -0.1919,  0.2563,  0.3164, -0.0599,\n",
      "         0.0348,  0.2369,  0.1819,  0.0557, -0.2713, -0.2768,  0.0251,\n",
      "         0.3166,  0.0485, -0.0147, -0.2916, -0.1274, -0.2969, -0.2286,\n",
      "         0.0142,  0.0663, -0.2823, -0.2850, -0.3791,  0.0395, -0.1355,\n",
      "         0.3783, -0.0432, -0.2525,  0.3542, -0.2475, -0.0219, -0.1287,\n",
      "         0.0800,  0.0693, -0.0222, -0.1774, -0.1526, -0.0723, -0.0539,\n",
      "         0.0745,  0.0437,  0.2702,  0.2981,  0.1045, -0.0265, -0.0872,\n",
      "        -0.2168, -0.0227, -0.0251, -0.3015,  0.2855,  0.1268, -0.1412,\n",
      "        -0.0329, -0.0045, -0.1785,  0.0741,  0.3563, -0.1409, -0.1992,\n",
      "         0.2003,  0.3389, -0.0195, -0.1093, -0.4184,  0.0102, -0.0403,\n",
      "        -0.1298, -0.0094,  0.0096, -0.1081, -0.2969, -0.0373, -0.0894,\n",
      "        -0.1494, -0.3036,  0.1312,  0.0349, -0.1222,  0.1875,  0.0876,\n",
      "         0.1026,  0.0365, -0.1183, -0.0881, -0.0093,  0.2049, -0.1816,\n",
      "        -0.0633,  0.0511, -0.1919,  0.3042, -0.0041, -0.2048,  0.4106,\n",
      "        -0.0618,  0.1164, -0.1037,  0.5155, -0.0758, -0.3046,  0.1225,\n",
      "        -0.2318, -0.0120, -0.0889, -0.3015, -0.0163,  0.0821,  0.0404,\n",
      "         0.3889,  0.2178, -0.0757, -0.0751,  0.1820, -0.0659, -0.1097,\n",
      "         0.0137,  0.0883,  0.1047, -0.3671,  0.0191, -0.4122,  0.0041,\n",
      "         0.1396, -0.2978, -0.0866, -0.0573, -0.0341, -0.0797,  0.0138,\n",
      "        -0.0660, -0.0960,  0.0825, -0.3334,  0.2128, -0.0345,  0.2877,\n",
      "        -0.3679, -0.2957, -0.0672,  0.0969, -0.2445,  0.0813,  0.1447,\n",
      "         0.2973,  0.0032, -0.1462,  0.2988, -0.0840, -0.3058, -0.3137,\n",
      "         0.3134, -0.0985, -0.2036, -0.0013, -0.2499, -0.1175,  0.1629,\n",
      "        -0.1612, -0.0071, -0.1711, -0.0820,  0.1939,  0.1511,  0.0535,\n",
      "        -0.0132,  0.2717,  0.0308,  0.0730,  0.0494, -0.0330,  0.1165,\n",
      "         0.1705,  0.1723,  0.3496,  0.1606, -0.1511,  0.3487, -0.3625,\n",
      "        -0.4942,  0.0504, -0.1146,  0.5135,  0.0381, -0.0352, -0.0943,\n",
      "         0.2296,  0.0531,  0.0934,  0.1165,  0.0979,  0.0405, -0.3148,\n",
      "         0.4327, -0.2860, -0.1474,  0.1504, -0.3920, -0.2135, -0.3264,\n",
      "        -0.0039,  0.4394,  0.2182,  0.0623, -0.0912,  0.1016, -0.2441,\n",
      "        -0.3718,  0.1942,  0.1030, -0.1941, -0.1340, -0.2556,  0.4399,\n",
      "        -0.0555,  0.1285,  0.1632, -0.0958,  0.1544,  0.3091,  0.2855,\n",
      "        -0.0197, -0.0347,  0.1975, -0.0706, -0.1291,  0.2380,  0.0044,\n",
      "        -0.1426, -0.1917, -0.2455, -0.0304,  0.4087, -0.2870, -0.0768,\n",
      "        -0.2038,  0.0797,  0.1770, -0.2160, -0.0497,  0.2700, -0.1967,\n",
      "        -0.1158, -0.2567, -0.0754,  0.1459,  0.2849,  0.0713, -0.1274,\n",
      "         0.4419,  0.0340, -0.2046,  0.1679, -0.0006, -0.2162,  0.1495,\n",
      "         0.0335, -0.0426,  0.4310, -0.1448, -0.2320, -0.3082,  0.0718,\n",
      "        -0.0497,  0.2318,  0.2239,  0.3802, -0.2571,  0.2157,  0.0033,\n",
      "         0.1786,  0.2923, -0.2593, -0.3352, -0.4384,  0.1193,  0.1795,\n",
      "        -0.0816,  0.1872, -0.0313, -0.1063,  0.2823, -0.0779, -0.1183,\n",
      "        -0.2209, -0.1619, -0.2058,  0.2041, -0.1513, -0.1861,  0.2642,\n",
      "         0.0049, -0.1709, -0.0935, -0.1056, -0.2157, -0.0068, -0.1859,\n",
      "         0.1727, -0.3058,  0.2902,  0.0459,  0.3552,  0.1004,  0.1362,\n",
      "         0.1685,  0.4779,  0.0736,  0.0830,  0.3959,  0.2558,  0.0720,\n",
      "         0.3653,  0.1382, -0.1156,  0.0005, -0.1963,  0.2727, -0.0748,\n",
      "        -0.2034,  0.1184,  0.1923, -0.0267, -0.6848, -0.3842,  0.0341,\n",
      "        -0.2213, -0.0176, -0.0887, -0.2569, -0.1181,  0.0884, -0.1088,\n",
      "        -0.1153, -0.2932,  0.0608, -0.3171,  0.0691, -0.1530,  0.0916,\n",
      "         0.0216,  0.2701, -0.2623, -0.0895,  0.0389, -0.0218, -0.1337,\n",
      "        -0.1238,  0.0466, -0.2055,  0.1896,  0.0719,  0.3157, -0.0222,\n",
      "        -0.3345,  0.0744, -0.0419,  0.0720,  0.1008,  0.1162, -0.2103,\n",
      "         0.1546,  0.3267, -0.0605,  0.0455,  0.0929, -0.1839, -0.2897,\n",
      "         0.0112,  0.0791,  0.1038, -0.1973, -0.1548, -0.3016,  0.2706,\n",
      "         0.2224, -0.0706,  0.0457,  0.1540, -0.1775, -0.2641, -0.4013,\n",
      "        -0.1527, -0.5902,  0.1329,  0.1971,  0.1383, -0.1178,  0.1107,\n",
      "        -0.0586,  0.0345, -0.1159,  0.0762,  0.0769, -0.1584, -0.0069,\n",
      "        -0.0327,  0.0726,  0.1138,  0.0965, -0.1231,  0.0585,  0.1668,\n",
      "         0.1401,  0.2101,  0.0584,  0.5238,  0.1730, -0.3155,  0.2167,\n",
      "         0.2046, -0.3948, -0.1369, -0.3268])\n"
     ]
    }
   ],
   "source": [
    "train_localizer_network()"
   ]
  },
  {
   "cell_type": "code",
   "execution_count": null,
   "metadata": {},
   "outputs": [],
   "source": []
  },
  {
   "cell_type": "code",
   "execution_count": null,
   "metadata": {},
   "outputs": [],
   "source": []
  }
 ],
 "metadata": {
  "kernelspec": {
   "display_name": "Python 3",
   "language": "python",
   "name": "python3"
  },
  "language_info": {
   "codemirror_mode": {
    "name": "ipython",
    "version": 3
   },
   "file_extension": ".py",
   "mimetype": "text/x-python",
   "name": "python",
   "nbconvert_exporter": "python",
   "pygments_lexer": "ipython3",
   "version": "3.6.4"
  }
 },
 "nbformat": 4,
 "nbformat_minor": 2
}
